{
 "cells": [
  {
   "cell_type": "code",
   "execution_count": 17,
   "metadata": {},
   "outputs": [
    {
     "name": "stderr",
     "output_type": "stream",
     "text": [
      "Generating train split: 230 examples [00:00, 93197.75 examples/s]\n",
      "Filter: 100%|██████████| 230/230 [00:00<00:00, 24951.24 examples/s]\n",
      "Saving the dataset (1/1 shards): 100%|██████████| 230/230 [00:00<00:00, 28332.40 examples/s]"
     ]
    },
    {
     "name": "stdout",
     "output_type": "stream",
     "text": [
      "필터링된 데이터셋이 /data/ephemeral/home/sangyeop/level2-mrc-nlp-11/data/aug_prev_remove_missing_value/validation에 저장되었습니다.\n"
     ]
    },
    {
     "name": "stderr",
     "output_type": "stream",
     "text": [
      "\n"
     ]
    }
   ],
   "source": [
    "from datasets import load_dataset\n",
    "\n",
    "# 파일 경로\n",
    "aug_prev = \"/data/ephemeral/home/sangyeop/level2-mrc-nlp-11/data/aug_prev_filtered/validation/data-00000-of-00001.arrow\"\n",
    "aug_new = \"/data/ephemeral/home/sangyeop/level2-mrc-nlp-11/data/aug_new_filtered_32/train/data-00000-of-00001.arrow\"\n",
    "\n",
    "# 데이터셋 로드\n",
    "dataset = load_dataset('arrow', data_files=aug_prev, split='train')\n",
    "\n",
    "# 누락된 데이터(answers[\"text\"]가 없는 경우)를 제거하는 함수\n",
    "def remove_missing_values(example):\n",
    "    if 'answers' in example and 'text' in example['answers']:\n",
    "        if len(example['answers']['text']) > 0 and example['answers']['text'][0] != '':\n",
    "            return True\n",
    "    return False\n",
    "\n",
    "# 누락된 데이터를 제거한 데이터셋 생성\n",
    "filtered_dataset = dataset.filter(remove_missing_values)\n",
    "\n",
    "# 디스크에 저장할 경로 설정\n",
    "output_dir = \"/data/ephemeral/home/sangyeop/level2-mrc-nlp-11/data/aug_prev_remove_missing_value\"\n",
    "train_output_dir = f'{output_dir}/validation'\n",
    "\n",
    "# 필터링된 데이터셋을 디스크에 저장\n",
    "filtered_dataset.save_to_disk(train_output_dir)\n",
    "\n",
    "print(f\"필터링된 데이터셋이 {train_output_dir}에 저장되었습니다.\")\n"
   ]
  },
  {
   "cell_type": "code",
   "execution_count": null,
   "metadata": {},
   "outputs": [],
   "source": []
  }
 ],
 "metadata": {
  "kernelspec": {
   "display_name": "base",
   "language": "python",
   "name": "python3"
  },
  "language_info": {
   "codemirror_mode": {
    "name": "ipython",
    "version": 3
   },
   "file_extension": ".py",
   "mimetype": "text/x-python",
   "name": "python",
   "nbconvert_exporter": "python",
   "pygments_lexer": "ipython3",
   "version": "3.10.15"
  }
 },
 "nbformat": 4,
 "nbformat_minor": 2
}
