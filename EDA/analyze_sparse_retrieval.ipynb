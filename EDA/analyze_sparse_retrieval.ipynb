{
 "cells": [
  {
   "cell_type": "code",
   "execution_count": 1,
   "metadata": {},
   "outputs": [
    {
     "name": "stderr",
     "output_type": "stream",
     "text": [
      "/opt/conda/lib/python3.10/site-packages/tqdm/auto.py:21: TqdmWarning: IProgress not found. Please update jupyter and ipywidgets. See https://ipywidgets.readthedocs.io/en/stable/user_install.html\n",
      "  from .autonotebook import tqdm as notebook_tqdm\n",
      "/tmp/ipykernel_425102/2956616907.py:5: FutureWarning: set_caching_enabled is deprecated and will be removed in the next major version of datasets. Use datasets.enable_caching() or datasets.disable_caching() instead. This function will be removed in a future version of datasets.\n",
      "  set_caching_enabled(False)\n"
     ]
    },
    {
     "name": "stdout",
     "output_type": "stream",
     "text": [
      "get correct context\n",
      "get tfidf docs idx, q scores\n",
      "get bm25 docs idx, q scores\n"
     ]
    }
   ],
   "source": [
    "from datasets import set_caching_enabled\n",
    "from hydra import initialize, compose\n",
    "from analysis_sparse import SparseRetrievalAnalysis\n",
    "\n",
    "set_caching_enabled(False)\n",
    "with initialize(version_base=None, config_path=\"../config/\"):\n",
    "    config = compose(config_name='retrieval.yaml')\n",
    "\n",
    "analyzer = SparseRetrievalAnalysis(config)\n",
    "analyzer.get_result()"
   ]
  },
  {
   "cell_type": "code",
   "execution_count": 93,
   "metadata": {},
   "outputs": [],
   "source": [
    "def simplify_data(_list):\n",
    "    sorted_by_value = sorted(_list, key=lambda x:-x[1][0] if isinstance(x[1], list) else -x[1])\n",
    "    only_top_1_value = [(token, value[0]) if isinstance(value, list) else (token, value) for token, value in sorted_by_value]\n",
    "    total_value = sum([value for token, value in only_top_1_value])\n",
    "    percent_value = [(token, round((value/total_value)*100, 1)) if total_value > 0 else 0 for token, value in only_top_1_value]\n",
    "\n",
    "    return percent_value"
   ]
  },
  {
   "cell_type": "code",
   "execution_count": 112,
   "metadata": {},
   "outputs": [
    {
     "name": "stdout",
     "output_type": "stream",
     "text": [
      "====================\n",
      "QUESTION: \n"
     ]
    },
    {
     "data": {
      "text/html": [
       "인형사'를 만들어낸 것으로 추측되는 사업의 이름은?"
      ],
      "text/plain": [
       "<IPython.core.display.HTML object>"
      ]
     },
     "metadata": {},
     "output_type": "display_data"
    },
    {
     "name": "stdout",
     "output_type": "stream",
     "text": [
      "====================\n"
     ]
    },
    {
     "data": {
      "text/plain": [
       "'===================='"
      ]
     },
     "metadata": {},
     "output_type": "display_data"
    },
    {
     "name": "stdout",
     "output_type": "stream",
     "text": [
      "TF-IDF PREDICT CONTEXT: False\n"
     ]
    },
    {
     "data": {
      "text/html": [
       "현대의 수상인형극은 4평방미터의 풀장의 물 위 무대에서 공연이 된다. 오늘날의 공연이 이뤄지는 곳은 세 곳 중 하나이다. 무대가 설치된 마을의 전통적인 연못 위에서 하거나, 이동식 공연을 위해 제작된 이동식 탱크 무대이거나, 또는 특별하게 제작된 세트 무대에서 진행된다. \n",
       "\n",
       "사원의 정면과 닮은 대나무를 쪼개어 만든 대나무 무대 뒤에 선 8명의 인형조정사가 긴 대나무 막대와 끈 도구를 이용해 허리쯤 잠긴 물에서 인형을 조종한다. 인형은 등나무로 제작되며, 종종 무게가 15kg이 나가기도 한다.\n",
       "\n",
       "베트남 사람들의 주식인 싹은 물을 댄 논에서 자란다. 원래의 수상인형극 축제는 글자그대로 논에서 개최되었는데, 인형을 조종하는 인형조정사를 숨기기 위해 탑을 세워서 가렸다. 물은 인형들의 무대가 되었으며, 곡물 수확과 연결되는 상징적인 매개체였다. 물은 또한 인형의 줄과 인형조정사의 동작을 숨겨주는 역할을 했고, 음악과 노래의 울림을 크게 해주며, 희미하게 빛나는 조명 효과를 주기도 하였다. \n",
       "\n",
       "베트남 전통 악단은 배경음을 연주한다. 이러한 악기로는 북, 나무종, 심벌즈, 경적, 일현금인 반다우, 공, 대나무 피리 등이 이용된다. 대나무 피리의 청아하고, 단순한 음은 고즈넉함을 동반하고, 반면 북과 심벌즈는 불을 내뿜는 용의 등장을 시끄럽게 알려줄 것이다. \n",
       "\n",
       "째오(chèo, 북베트남에서 유래된 오페라) 가수들은 인형이 연기하는 노래를 부른다. 연주자들과 인형은 공연이 진행되는 동안에는 일체가 된다. 연주자들은 위험에 빠진 인형에게 경고의 말을 외치거나, 또는 실의에 빠진 인형에게 격려의 말을 한다.\n",
       "\n",
       "인형은 무대 양쪽 모두에서 등장하거나, 탁한 물 속에서 갑작스럽게 등장하기도 한다. 조명과 화려한 깃발이 무대를 장식하거나, 축제와 같은 분위기를 만들어 준다."
      ],
      "text/plain": [
       "<IPython.core.display.HTML object>"
      ]
     },
     "metadata": {},
     "output_type": "display_data"
    },
    {
     "name": "stdout",
     "output_type": "stream",
     "text": [
      "--------------------\n",
      "TF-IDF VALUE OF TF-IDF PREDICT CONTEXT: \n",
      "[('인형', 90.6), ('##의', 2.5), ('##은', 2.5), ('##는', 1.7), ('만들', 1.4), ('##되', 1.0), ('것', 0.4), ('##사', 0.0), ('##어낸', 0.0), ('##으로', 0.0), (\"'\", 0.0), ('?', 0.0), ('를', 0.0), ('사업', 0.0), ('이름', 0.0), ('추측', 0.0)]\n",
      "--------------------\n",
      "BM25 VALUE OF TF-IDF PREDICT CONTEXT: \n",
      "[('인형', 45.4), ('##의', 13.0), ('##은', 12.7), ('##는', 12.4), ('##되', 10.1), ('만들', 6.4), ('것', 0.0), ('##사', 0.0), ('##어낸', 0.0), ('##으로', 0.0), (\"'\", 0.0), ('?', 0.0), ('를', 0.0), ('사업', 0.0), ('이름', 0.0), ('추측', 0.0)]\n",
      "====================\n"
     ]
    },
    {
     "data": {
      "text/plain": [
       "'===================='"
      ]
     },
     "metadata": {},
     "output_type": "display_data"
    },
    {
     "name": "stdout",
     "output_type": "stream",
     "text": [
      "BM25 PREDICT CONTEXT: False\n"
     ]
    },
    {
     "data": {
      "text/html": [
       "일반적인 인형과 비교해 높은 연령대의 소비자들을 위해 제작되며, 소재는 점토, 우레탄, 지점토, ABS, PVC, 레진등으로 최근에는 황변과 녹변이 오지 않고 가격이 일반 우레탄 인형에 비해 저렴한 ABS재질로도 만들어지고 있어 인기를 끌고 있다. ABS 수지 재질은 우레탄 재질의 인형보다는 내구성이 떨어진다. 지금까지 나온 ABS재질의 구체관절인형은 폴인돌 로즈, BJD샵(구 휴쥬, 현재 루츠가 인수) 등의 인형 등이 있다. 가격은 수십만원으로 고가인 우레탄인형과 가격이 상대적으로 저렴한 ABS재질 인형 모두 구매자의 취향에 알맞게 인형을 꾸밀 수 있도록 그 물품과 종류가 다양하다. 보통 팔, 다리, 손, 바디, 헤드 등의 파츠로 구성되며, 종류와 목적에 따라서 관절이 세분화되는 것도 있고, 단일화되는 것도 있다. 여러개의 부속들을 조합하여 가동성을 향상시키기 위한 것으로 S자 고리(혹은 o고리 등)와 텐션줄(장력줄)을 사용한다. 텐션줄은 고리와 매듭으로 각각의 부위들을 연결하고, 줄의 장력으로 구체관절인형의 자세를 조정할 수 있다. 구체관절 인형의 특성상 판매가가 높다는 특징이 있다.구체관절 인형의 가격은 10만원대의 작은 인형부터 200만원대의 1미터급 인형까지 다양하다. 그로 인해 구체관절인형 인형은 수작업으로 만들어진 수제 인형이다.\n",
       "=== 축생 구관 === \n",
       "동물 모양의 구체관절인형도 있다. 그것을 축생이라고 하는데 축생 구관의 회사로는 휴쥬, 피포스, 에일린돌 등이 있다. 축생 구체관절 인형도 당연히 메이크업 추가가 가능하며 피규어 프라모델인 축생 구체관절인형은 에일린돌 프라피코다."
      ],
      "text/plain": [
       "<IPython.core.display.HTML object>"
      ]
     },
     "metadata": {},
     "output_type": "display_data"
    },
    {
     "name": "stdout",
     "output_type": "stream",
     "text": [
      "--------------------\n",
      "TF-IDF VALUE OF BM25 PREDICT CONTEXT: \n",
      "[('인형', 89.3), ('만들', 2.7), ('##의', 2.3), ('##은', 1.6), ('##으로', 1.2), ('것', 1.2), ('##되', 1.0), ('##는', 0.7), ('##사', 0.0), ('##어낸', 0.0), (\"'\", 0.0), ('?', 0.0), ('를', 0.0), ('사업', 0.0), ('이름', 0.0), ('추측', 0.0)]\n",
      "--------------------\n",
      "BM25 VALUE OF BM25 PREDICT CONTEXT: \n",
      "[('인형', 40.7), ('##의', 11.6), ('##은', 10.8), ('##으로', 10.0), ('##는', 9.6), ('##되', 9.0), ('만들', 8.3), ('것', 0.1), ('##사', 0.0), ('##어낸', 0.0), (\"'\", 0.0), ('?', 0.0), ('를', 0.0), ('사업', 0.0), ('이름', 0.0), ('추측', 0.0)]\n",
      "====================\n"
     ]
    },
    {
     "data": {
      "text/plain": [
       "'===================='"
      ]
     },
     "metadata": {},
     "output_type": "display_data"
    },
    {
     "name": "stdout",
     "output_type": "stream",
     "text": [
      "ANSWER CONTEXT: \n"
     ]
    },
    {
     "data": {
      "text/html": [
       "2029년의 지구는 비약적으로 발달한 기술 문명을 바탕으로 전 세계가 전자 통신망으로 연결되어 있는 곳이다. 공각기동대는 2029년을 전후하여 활동하는 정부의 특수 기관으로, 작품 내에서는 지금도 일본에 실재하는 기구인 국가공안위원회 소속 가상 집단 '공안 9과'의 다른 이름이다. 이 집단은 전자 네트워크 해킹이나 생화학 무기 등등 최첨단 기술에 근거하였거나 연관되어 있는 범죄에 대응하는 일에 특화되어 있으며, 각각 야전 군인이나 특수 기동대원, 일본 경찰청 소속 형사 등등 다양한 경력을 가진 인물들로 구성되어 있다. 흔히 소령이라는 별명으로 불리며 대원들을 실전 지휘하는 여성 쿠사나기 모토코가 주인공으로 등장한다. 모토코의 몸은 뇌 일부를 제외하면 모두 인공적인 기계 장치로 되어 있으며 다른 어떠한 사람보다도 이식한 기계 몸을 제어하는 능력이 탁월한데, 그녀의 몸이 자의로 개조된 것인지는 불분명하다.\\n\\n오시 마모루가 감독한 영화와는 달리 마사무네의 원작 만화는 우스개나 단편적인 에피소드가 섞여 있는 비교적 가벼운 작품이다. 물론 이 작품에서도 철학적이고 심오한 주제의 사색은 등장하는데, 중요한 갈등은 두 가지로 나누어 볼 수 있다. 하나는 본디 신체를 거의 잃고 몸의 대부분이 기계로 되어 있는 모토코의 내적 갈등이다. 그녀의 고민은 테세우스의 배와 비슷한 문제로 볼 수 있는데, 대부분의 사람이 자기 자신을 규정지을 때 쉽게 사용할 수 있는 근거가 되는 신체가 그녀의 경우 몇 번이나 개조되고 일부가 교체되었기 때문에 그녀에게는 이렇다 할 의미가 없으며, 따라서 모토코는 '나'란 누구인지, 쿠사나기 모토코의 실체는 무형의 정신인지 아니면 전자 기판과 마이크로프로세서, 몇 그램의 뇌세포로 이루어진 사고 회로인지 고민한다. 다른 한 가지 갈등은 인공 지능을 만들어낼 목적인 것으로 알려진 '일급 비밀 프로젝트 2501'의 결과물로 나타난 것으로 보이는 수준급의 해커 '인형사'와 공안 9과가 벌이는 것이다. 프로젝트 2501은 공안 9과와는 달리 외무성 소속인 공안 6과에서 진행하고 있던 것으로, 인형사는 전자 네트워크를 다루는 뛰어난 실력을 통해 어떤 목적을 성취하려는 것으로 보인다.\\n\\n공각기동대에는 시각적으로 보이지 않게 되는 장비인 '광학 미채', 인공지능을 가지고 전투를 수행할 수 있는 다각(多脚) 전차 '타치코마', 케이블을 직접 연결해 정신이 전자 정보를 받아들일 수 있게 개조된 뇌인 '전뇌', 전뇌를 통해 조종할 수 있으며 통상적인 신체보다 훨씬 더 강력한 힘이나 세밀한 제어가 가능한 기계 몸인 '의체' 등등 매력적인 사이버펑크 분위기의 소재들이 등장하며, 이후에 등장한 수많은 과학 소설 계통의 작품들에 큰 영향을 주었다."
      ],
      "text/plain": [
       "<IPython.core.display.HTML object>"
      ]
     },
     "metadata": {},
     "output_type": "display_data"
    },
    {
     "name": "stdout",
     "output_type": "stream",
     "text": [
      "--------------------\n",
      "TF-IDF VALUE OF ANSWER CONTEXT: \n",
      "[(\"'\", 32.2), ('인형', 27.5), ('##는', 8.9), ('##사', 6.7), ('##의', 5.3), ('것', 4.8), ('##으로', 3.6), ('##되', 3.0), ('##은', 2.8), ('만들', 2.7), ('이름', 2.6), ('##어낸', 0.0), ('?', 0.0), ('를', 0.0), ('사업', 0.0), ('추측', 0.0)]\n",
      "--------------------\n",
      "BM25 VALUE OF ANSWER CONTEXT: \n",
      "[('인형', 21.7), ('##는', 12.0), ('##의', 11.4), ('##으로', 10.3), (\"'\", 10.1), ('##은', 10.0), ('##되', 9.4), ('##사', 5.9), ('만들', 4.7), ('이름', 4.5), ('것', 0.1), ('##어낸', 0.0), ('?', 0.0), ('를', 0.0), ('사업', 0.0), ('추측', 0.0)]\n",
      "====================\n",
      "\n",
      "\n",
      "\n",
      "\n",
      "\n"
     ]
    }
   ],
   "source": [
    "import json\n",
    "from IPython.display import display, HTML\n",
    "\n",
    "result_file_path = '../data/sparse_retrieval_compare_top-1.json'\n",
    "\n",
    "with open(result_file_path, 'r', encoding='utf-8') as f:\n",
    "    result_list = json.load(f)\n",
    "# [0, 2, 3, 4, 7, 10, 12, 13, 14, 15, 17, 20, 21, 24, 25, 34, 35, 37, 39, 44, 45, 46, 48, 54, 55, 58, 61, 68, 71, 73, 78, 80, 86, 90, 92, 93, 97, 103, 110, 111, 113, 114, 117, 120, 122, 129, 138, 139, 145, 151, 152, 154, 160, 166, 167, 170, 171, 174, 175, 176, 178, 179, 182, 183, 184, 185, 186, 189, 191, 194, 196, 205, 212, 223, 228, 233]\n",
    "# [5, 8, 9, 11, 19, 22, 23, 26, 28, 31, 32, 33, 40, 41, 43, 51, 52, 53, 56, 62, 63, 65, 69, 70, 75, 84, 89, 91, 94, 95, 98, 100, 101, 107, 112, 116, 118, 123, 125, 126, 127, 128, 130, 131, 132, 135, 136, 141, 142, 148, 153, 161, 162, 163, 168, 169, 177, 180, 192, 197, 201, 202, 204, 207, 209, 213, 216, 221, 224, 225, 226, 230, 232, 235, 236, 239]\n",
    "idx = 11\n",
    "result = result_list[idx]\n",
    "print(\"=\"*20)\n",
    "print('QUESTION: ')\n",
    "display(HTML(result['question']))\n",
    "print(\"=\"*20)\n",
    "\n",
    "display(\"=\"*20)\n",
    "print(f\"TF-IDF PREDICT CONTEXT: {result['tfidf_is_correct']}\")\n",
    "display(HTML(result['tfidf-predict-context'][0]))\n",
    "print(\"-\"*20)\n",
    "print(\"TF-IDF VALUE OF TF-IDF PREDICT CONTEXT: \")\n",
    "print(f\"{simplify_data(result['tfidf-predict-context_tfidf-values'])}\")\n",
    "print(\"-\"*20)\n",
    "print(\"BM25 VALUE OF TF-IDF PREDICT CONTEXT: \")\n",
    "print(simplify_data(result['tfidf-predict-context_bm25-values']))\n",
    "print(\"=\"*20)\n",
    "\n",
    "display(\"=\"*20)\n",
    "print(f\"BM25 PREDICT CONTEXT: {result['bm25_is_correct']}\")\n",
    "display(HTML(result['bm25-predict-context'][0]))\n",
    "print(\"-\"*20)\n",
    "print(\"TF-IDF VALUE OF BM25 PREDICT CONTEXT: \")\n",
    "print(simplify_data(result['bm25-predict-context_tfidf-values']))\n",
    "print(\"-\"*20)\n",
    "print(\"BM25 VALUE OF BM25 PREDICT CONTEXT: \")\n",
    "print(simplify_data(result['bm25-predict-context_bm25-values']))\n",
    "print(\"=\"*20)\n",
    "\n",
    "display(\"=\"*20)\n",
    "print(\"ANSWER CONTEXT: \")\n",
    "display(HTML(result['answer-context']))\n",
    "print(\"-\"*20)\n",
    "print(\"TF-IDF VALUE OF ANSWER CONTEXT: \")\n",
    "print(simplify_data(result['answer-context_tfidf-values']))\n",
    "print(\"-\"*20)\n",
    "print(\"BM25 VALUE OF ANSWER CONTEXT: \")\n",
    "print(simplify_data(result['answer-context_bm25-values']))\n",
    "print(\"=\"*20)\n",
    "print()\n",
    "print(\"\\n\\n\\n\")"
   ]
  }
 ],
 "metadata": {
  "kernelspec": {
   "display_name": "base",
   "language": "python",
   "name": "python3"
  },
  "language_info": {
   "codemirror_mode": {
    "name": "ipython",
    "version": 3
   },
   "file_extension": ".py",
   "mimetype": "text/x-python",
   "name": "python",
   "nbconvert_exporter": "python",
   "pygments_lexer": "ipython3",
   "version": "3.10.15"
  }
 },
 "nbformat": 4,
 "nbformat_minor": 2
}
