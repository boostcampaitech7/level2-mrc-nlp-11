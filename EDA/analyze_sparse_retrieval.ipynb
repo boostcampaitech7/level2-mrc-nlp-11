{
 "cells": [
  {
   "cell_type": "code",
   "execution_count": 6,
   "metadata": {},
   "outputs": [],
   "source": [
    "import os, sys, pickle\n",
    "sys.path.append(os.path.abspath(os.path.join(os.getcwd(), '..')))"
   ]
  },
  {
   "cell_type": "markdown",
   "metadata": {},
   "source": [
    "# 1. load retrieval model"
   ]
  },
  {
   "cell_type": "code",
   "execution_count": 7,
   "metadata": {},
   "outputs": [],
   "source": [
    "retrieval1_checkpoint = \"/data/ephemeral/home/gj/level2-mrc-nlp-11/tfidf/tokenizer=klue-bert-base_ngram=[1, 1]\"\n",
    "retrieval2_checkpoint = \"/data/ephemeral/home/gj/level2-mrc-nlp-11/bm25/BM25Okapi_klue-bert-base\"\n",
    "with open(retrieval1_checkpoint, 'rb') as file:\n",
    "    retrieval1 = pickle.load(file)\n",
    "with open(retrieval2_checkpoint, 'rb') as file:\n",
    "    retrieval2 = pickle.load(file)"
   ]
  },
  {
   "cell_type": "markdown",
   "metadata": {},
   "source": [
    "# 2.1. calculate single retrieval result & save\n"
   ]
  },
  {
   "cell_type": "code",
   "execution_count": 8,
   "metadata": {},
   "outputs": [],
   "source": [
    "from utils.analysis_sparse import SparseRetrievalAnalysis\n",
    "analyzer = SparseRetrievalAnalysis(retrieval1, retrieval2, [\"default\"])\n",
    "analyzer.calculate_result()\n",
    "analyzer.save_result()\n",
    "#analyzer.calculate_compare_result()\n",
    "#analyzer.save_compare_result()"
   ]
  },
  {
   "cell_type": "markdown",
   "metadata": {},
   "source": [
    "# 2.2. load single retrieval result"
   ]
  },
  {
   "cell_type": "code",
   "execution_count": 9,
   "metadata": {},
   "outputs": [],
   "source": [
    "result_path = \"/data/ephemeral/home/gj/level2-mrc-nlp-11/data/TfIdfRetrieval-result.json\"\n",
    "analyzer.load_result(result_path)"
   ]
  },
  {
   "cell_type": "markdown",
   "metadata": {},
   "source": [
    "# 2.3. print single retrieval result"
   ]
  },
  {
   "cell_type": "code",
   "execution_count": 10,
   "metadata": {},
   "outputs": [
    {
     "name": "stdout",
     "output_type": "stream",
     "text": [
      "====================\n",
      "QUESTION: \n"
     ]
    },
    {
     "data": {
      "text/html": [
       "처음으로 부실 경영인에 대한 보상 선고를 받은 회사는?"
      ],
      "text/plain": [
       "<IPython.core.display.HTML object>"
      ]
     },
     "metadata": {},
     "output_type": "display_data"
    },
    {
     "name": "stdout",
     "output_type": "stream",
     "text": [
      "====================\n"
     ]
    },
    {
     "data": {
      "text/plain": [
       "'===================='"
      ]
     },
     "metadata": {},
     "output_type": "display_data"
    },
    {
     "name": "stdout",
     "output_type": "stream",
     "text": [
      "RETRIEVAL1 PREDICT CONTEXT: False\n"
     ]
    },
    {
     "data": {
      "text/html": [
       "형의 선고유예(宣告猶豫)라 함은 형의 선고를 하여야 할 경우에 그 선고를 유예해 두었다가 일정한 기간이 경과하면 면소(免訴)된 것으로 보도록 하는 제도이다. 이것은 특히 단기자유형(短期自由刑) 같은 데서 필요성이 생기는 것인데 특별예방의 목적을 달성하기 위하여는 형의 선고를 하지 않고 범인의 개과(改過)를 기다리는 것이 도리어 효과적이라는 고려에서 새 형법이 새로이 설정한 제도이다. 형의 선고 자체를 유예한다는 점에서 형의 선고는 있었으나 그 집행을 유예할 뿐인 집행유예와 구별된다. 선고유예는 1년 이하의 징역이나 금고·자격정지 또는 벌금의 형을 선고할 경우에 형의 양정에 관한 사항(51조)을 참작하여 개전(改悛)의 정상이 현저하고 자격정지 이상의 형을 받은 전과가 없는 자에 한하여 행할 수 있다(59조 1항). 형을 병과할 경우에도 형의 전부 또는 일부에 대하여 그 선고를 유예할 수 있다(동조 2항). 선고유예를 받은 날로부터 2년을 경과한 때에는 면소된 것으로 간주한다(60조). 그러나 선고유예를 받은 자가 유예기간 중 자격정지 이상의 형에 처한 판결이 확정되거나 자격정지 이상의 형에 처한 전과가 발견된 때에는 유예한 형을 선고한다(61조).\\n\\n선고가 유예된 형에 벌금형을 선택하면서 그 금액을 정하지 않은 채 선고유예판결을 하는 것은 위법이다. 형의 선고를 유예하는 경우에 재범방지를 위하여 지도와 원호가 필요한 때에는 1년의 보호관찰을 받을 것을 명할 수 있다. 선고유예의 조건으로 사회봉사명령, 수강명령을 부과할 수 없다. 주형과 부가형이 있는 경우 주형을 선고유예하면서 부가형도 선고유예할 수 있지만, 주형을 선고유예하지 않으면서 부가형만을 선고유예할 수는 없다. 집행유예의 경우 법원이 1년 이상 5년 이하의 기간 내에서 유예기간을 정할 수 있다 . 그러나 선고유예의 경우 유예기간이 2년으로 법정되어 있다 .\\n\\n형의 선고유예가 자격정지 이상의 확정판결 전력이 있는 때에 판결할 수 없는 것과 달리 형의 면제는 제한 요건이 없다."
      ],
      "text/plain": [
       "<IPython.core.display.HTML object>"
      ]
     },
     "metadata": {},
     "output_type": "display_data"
    },
    {
     "name": "stdout",
     "output_type": "stream",
     "text": [
      "--------------------\n",
      "RETRIEVAL1 VALUE OF RETRIEVAL1 PREDICT CONTEXT: \n",
      "[('선고', 87.9), ('받', 3.6), ('##는', 2.7), ('##에', 2.0), ('##를', 1.6), ('##은', 1.4), ('##으로', 0.8), ('?', 0.0), ('경영인', 0.0), ('대한', 0.0), ('보상', 0.0), ('부실', 0.0), ('처음', 0.0), ('회사', 0.0)]\n",
      "====================\n"
     ]
    },
    {
     "data": {
      "text/plain": [
       "'===================='"
      ]
     },
     "metadata": {},
     "output_type": "display_data"
    },
    {
     "name": "stdout",
     "output_type": "stream",
     "text": [
      "ANSWER CONTEXT: \n"
     ]
    },
    {
     "data": {
      "text/html": [
       "순천여자고등학교 졸업, 1973년 이화여자대학교를 졸업하고 1975년 제17회 사법시험에 합격하여 판사로 임용되었고 대법원 재판연구관, 수원지법 부장판사, 사법연수원 교수, 특허법원 부장판사 등을 거쳐 능력을 인정받았다. 2003년 최종영 대법원장의 지명으로 헌법재판소 재판관을 역임하였다.\\n\\n경제민주화위원회(위원장 장하성이 소액주주들을 대표해 한보철강 부실대출에 책임이 있는 이철수 전 제일은행장 등 임원 4명을 상대로 제기한 손해배상청구소송에서 서울지방법원 민사합의17부는 1998년 7월 24일에 \"한보철강에 부실 대출하여 은행에 막대한 손해를 끼친 점이 인정된다\"며 \"원고가 배상을 청구한 400억원 전액을 은행에 배상하라\"고 하면서 부실 경영인에 대한 최초의 배상 판결을 했다. \\n\\n2004년 10월 신행정수도의건설을위한특별조치법 위헌 확인 소송에서 9인의 재판관 중 유일하게 각하 견해를 내었다. 소수의견에서 전효숙 재판관은 다수견해의 문제점을 지적하면서 관습헌법 법리를 부정하였다. 전효숙 재판관은 서울대학교 근대법학교육 백주년 기념관에서 열린 강연에서, 국회가 고도의 정치적인 사안을 정치로 풀기보다는 헌법재판소에 무조건 맡겨서 해결하려는 자세는 헌법재판소에게 부담스럽다며 소회를 밝힌 바 있다."
      ],
      "text/plain": [
       "<IPython.core.display.HTML object>"
      ]
     },
     "metadata": {},
     "output_type": "display_data"
    },
    {
     "name": "stdout",
     "output_type": "stream",
     "text": [
      "--------------------\n",
      "RETRIEVAL1 VALUE OF ANSWER CONTEXT: \n",
      "[('부실', 59.3), ('경영인', 28.9), ('##에', 3.6), ('대한', 2.7), ('##를', 2.4), ('##는', 1.6), ('##은', 0.9), ('##으로', 0.5), ('?', 0.0), ('받', 0.0), ('보상', 0.0), ('선고', 0.0), ('처음', 0.0), ('회사', 0.0)]\n",
      "====================\n",
      "\n",
      "\n",
      "\n",
      "\n",
      "\n"
     ]
    }
   ],
   "source": [
    "idx = 0\n",
    "analyzer.print_query_result(idx)"
   ]
  },
  {
   "cell_type": "markdown",
   "metadata": {},
   "source": [
    "# 3.1. calculate two retrieval result & save"
   ]
  },
  {
   "cell_type": "code",
   "execution_count": 11,
   "metadata": {},
   "outputs": [],
   "source": [
    "analyzer.calculate_compare_result()\n",
    "analyzer.save_compare_result()"
   ]
  },
  {
   "cell_type": "markdown",
   "metadata": {},
   "source": [
    "# 3.2. load two retrieval result to compare"
   ]
  },
  {
   "cell_type": "code",
   "execution_count": 12,
   "metadata": {},
   "outputs": [],
   "source": [
    "result_path = \"/data/ephemeral/home/gj/level2-mrc-nlp-11/data/TfIdfRetrieval-SubwordBm25Retrieval-compare-result.json\"\n",
    "analyzer.load_result(result_path)"
   ]
  },
  {
   "cell_type": "markdown",
   "metadata": {},
   "source": [
    "# 3.3. print two retrieval result to compare"
   ]
  },
  {
   "cell_type": "code",
   "execution_count": 13,
   "metadata": {},
   "outputs": [
    {
     "name": "stdout",
     "output_type": "stream",
     "text": [
      "====================\n",
      "QUESTION: \n"
     ]
    },
    {
     "data": {
      "text/html": [
       "처음으로 부실 경영인에 대한 보상 선고를 받은 회사는?"
      ],
      "text/plain": [
       "<IPython.core.display.HTML object>"
      ]
     },
     "metadata": {},
     "output_type": "display_data"
    },
    {
     "name": "stdout",
     "output_type": "stream",
     "text": [
      "====================\n"
     ]
    },
    {
     "data": {
      "text/plain": [
       "'===================='"
      ]
     },
     "metadata": {},
     "output_type": "display_data"
    },
    {
     "name": "stdout",
     "output_type": "stream",
     "text": [
      "RETRIEVAL1 PREDICT CONTEXT: False\n"
     ]
    },
    {
     "data": {
      "text/html": [
       "형의 선고유예(宣告猶豫)라 함은 형의 선고를 하여야 할 경우에 그 선고를 유예해 두었다가 일정한 기간이 경과하면 면소(免訴)된 것으로 보도록 하는 제도이다. 이것은 특히 단기자유형(短期自由刑) 같은 데서 필요성이 생기는 것인데 특별예방의 목적을 달성하기 위하여는 형의 선고를 하지 않고 범인의 개과(改過)를 기다리는 것이 도리어 효과적이라는 고려에서 새 형법이 새로이 설정한 제도이다. 형의 선고 자체를 유예한다는 점에서 형의 선고는 있었으나 그 집행을 유예할 뿐인 집행유예와 구별된다. 선고유예는 1년 이하의 징역이나 금고·자격정지 또는 벌금의 형을 선고할 경우에 형의 양정에 관한 사항(51조)을 참작하여 개전(改悛)의 정상이 현저하고 자격정지 이상의 형을 받은 전과가 없는 자에 한하여 행할 수 있다(59조 1항). 형을 병과할 경우에도 형의 전부 또는 일부에 대하여 그 선고를 유예할 수 있다(동조 2항). 선고유예를 받은 날로부터 2년을 경과한 때에는 면소된 것으로 간주한다(60조). 그러나 선고유예를 받은 자가 유예기간 중 자격정지 이상의 형에 처한 판결이 확정되거나 자격정지 이상의 형에 처한 전과가 발견된 때에는 유예한 형을 선고한다(61조).\\n\\n선고가 유예된 형에 벌금형을 선택하면서 그 금액을 정하지 않은 채 선고유예판결을 하는 것은 위법이다. 형의 선고를 유예하는 경우에 재범방지를 위하여 지도와 원호가 필요한 때에는 1년의 보호관찰을 받을 것을 명할 수 있다. 선고유예의 조건으로 사회봉사명령, 수강명령을 부과할 수 없다. 주형과 부가형이 있는 경우 주형을 선고유예하면서 부가형도 선고유예할 수 있지만, 주형을 선고유예하지 않으면서 부가형만을 선고유예할 수는 없다. 집행유예의 경우 법원이 1년 이상 5년 이하의 기간 내에서 유예기간을 정할 수 있다 . 그러나 선고유예의 경우 유예기간이 2년으로 법정되어 있다 .\\n\\n형의 선고유예가 자격정지 이상의 확정판결 전력이 있는 때에 판결할 수 없는 것과 달리 형의 면제는 제한 요건이 없다."
      ],
      "text/plain": [
       "<IPython.core.display.HTML object>"
      ]
     },
     "metadata": {},
     "output_type": "display_data"
    },
    {
     "name": "stdout",
     "output_type": "stream",
     "text": [
      "--------------------\n",
      "RETRIEVAL1 VALUE OF RETRIEVAL1 PREDICT CONTEXT: \n",
      "[('선고', 87.9), ('받', 3.6), ('##는', 2.7), ('##에', 2.0), ('##를', 1.6), ('##은', 1.4), ('##으로', 0.8), ('?', 0.0), ('경영인', 0.0), ('대한', 0.0), ('보상', 0.0), ('부실', 0.0), ('처음', 0.0), ('회사', 0.0)]\n",
      "--------------------\n",
      "RETRIEVAL2 VALUE OF RETRIEVAL1 PREDICT CONTEXT: \n",
      "[('선고', 34.6), ('##는', 12.8), ('##에', 12.4), ('##를', 11.7), ('##은', 11.5), ('##으로', 9.6), ('받', 7.4), ('?', 0.0), ('경영인', 0.0), ('대한', 0.0), ('보상', 0.0), ('부실', 0.0), ('처음', 0.0), ('회사', 0.0)]\n",
      "====================\n"
     ]
    },
    {
     "data": {
      "text/plain": [
       "'===================='"
      ]
     },
     "metadata": {},
     "output_type": "display_data"
    },
    {
     "name": "stdout",
     "output_type": "stream",
     "text": [
      "RETRIEVAL2 PREDICT CONTEXT: True\n"
     ]
    },
    {
     "data": {
      "text/html": [
       "순천여자고등학교 졸업, 1973년 이화여자대학교를 졸업하고 1975년 제17회 사법시험에 합격하여 판사로 임용되었고 대법원 재판연구관, 수원지법 부장판사, 사법연수원 교수, 특허법원 부장판사 등을 거쳐 능력을 인정받았다. 2003년 최종영 대법원장의 지명으로 헌법재판소 재판관을 역임하였다.\n",
       "\n",
       "경제민주화위원회(위원장 장하성이 소액주주들을 대표해 한보철강 부실대출에 책임이 있는 이철수 전 제일은행장 등 임원 4명을 상대로 제기한 손해배상청구소송에서 서울지방법원 민사합의17부는 1998년 7월 24일에 \"한보철강에 부실 대출하여 은행에 막대한 손해를 끼친 점이 인정된다\"며 \"원고가 배상을 청구한 400억원 전액을 은행에 배상하라\"고 하면서 부실 경영인에 대한 최초의 배상 판결을 했다.  \n",
       "\n",
       "2004년 10월 신행정수도의건설을위한특별조치법 위헌 확인 소송에서 9인의 재판관 중 유일하게 각하 견해를 내었다. 소수의견에서 전효숙 재판관은 다수견해의 문제점을 지적하면서 관습헌법 법리를 부정하였다. 전효숙 재판관은 서울대학교 근대법학교육 백주년 기념관에서 열린 강연에서, 국회가 고도의 정치적인 사안을 정치로 풀기보다는 헌법재판소에 무조건 맡겨서 해결하려는 자세는 헌법재판소에게 부담스럽다며 소회를 밝힌 바 있다."
      ],
      "text/plain": [
       "<IPython.core.display.HTML object>"
      ]
     },
     "metadata": {},
     "output_type": "display_data"
    },
    {
     "name": "stdout",
     "output_type": "stream",
     "text": [
      "--------------------\n",
      "RETRIEVAL1 VALUE OF RETRIEVAL2 PREDICT CONTEXT: \n",
      "[('부실', 59.3), ('경영인', 28.9), ('##에', 3.6), ('대한', 2.7), ('##를', 2.4), ('##는', 1.6), ('##은', 0.9), ('##으로', 0.5), ('?', 0.0), ('받', 0.0), ('보상', 0.0), ('선고', 0.0), ('처음', 0.0), ('회사', 0.0)]\n",
      "--------------------\n",
      "RETRIEVAL2 VALUE OF RETRIEVAL2 PREDICT CONTEXT: \n",
      "[('부실', 30.7), ('경영인', 23.9), ('##에', 10.3), ('##를', 9.3), ('##는', 8.9), ('##은', 7.1), ('##으로', 5.1), ('대한', 4.6), ('?', 0.0), ('받', 0.0), ('보상', 0.0), ('선고', 0.0), ('처음', 0.0), ('회사', 0.0)]\n",
      "====================\n"
     ]
    },
    {
     "data": {
      "text/plain": [
       "'===================='"
      ]
     },
     "metadata": {},
     "output_type": "display_data"
    },
    {
     "name": "stdout",
     "output_type": "stream",
     "text": [
      "ANSWER CONTEXT: \n"
     ]
    },
    {
     "data": {
      "text/html": [
       "순천여자고등학교 졸업, 1973년 이화여자대학교를 졸업하고 1975년 제17회 사법시험에 합격하여 판사로 임용되었고 대법원 재판연구관, 수원지법 부장판사, 사법연수원 교수, 특허법원 부장판사 등을 거쳐 능력을 인정받았다. 2003년 최종영 대법원장의 지명으로 헌법재판소 재판관을 역임하였다.\\n\\n경제민주화위원회(위원장 장하성이 소액주주들을 대표해 한보철강 부실대출에 책임이 있는 이철수 전 제일은행장 등 임원 4명을 상대로 제기한 손해배상청구소송에서 서울지방법원 민사합의17부는 1998년 7월 24일에 \"한보철강에 부실 대출하여 은행에 막대한 손해를 끼친 점이 인정된다\"며 \"원고가 배상을 청구한 400억원 전액을 은행에 배상하라\"고 하면서 부실 경영인에 대한 최초의 배상 판결을 했다. \\n\\n2004년 10월 신행정수도의건설을위한특별조치법 위헌 확인 소송에서 9인의 재판관 중 유일하게 각하 견해를 내었다. 소수의견에서 전효숙 재판관은 다수견해의 문제점을 지적하면서 관습헌법 법리를 부정하였다. 전효숙 재판관은 서울대학교 근대법학교육 백주년 기념관에서 열린 강연에서, 국회가 고도의 정치적인 사안을 정치로 풀기보다는 헌법재판소에 무조건 맡겨서 해결하려는 자세는 헌법재판소에게 부담스럽다며 소회를 밝힌 바 있다."
      ],
      "text/plain": [
       "<IPython.core.display.HTML object>"
      ]
     },
     "metadata": {},
     "output_type": "display_data"
    },
    {
     "name": "stdout",
     "output_type": "stream",
     "text": [
      "--------------------\n",
      "RETRIEVAL1 VALUE OF ANSWER CONTEXT: \n",
      "[('부실', 59.3), ('경영인', 28.9), ('##에', 3.6), ('대한', 2.7), ('##를', 2.4), ('##는', 1.6), ('##은', 0.9), ('##으로', 0.5), ('?', 0.0), ('받', 0.0), ('보상', 0.0), ('선고', 0.0), ('처음', 0.0), ('회사', 0.0)]\n",
      "--------------------\n",
      "RETRIEVAL2 VALUE OF ANSWER CONTEXT: \n",
      "[('부실', 30.8), ('경영인', 23.8), ('##에', 10.3), ('##를', 9.4), ('##는', 8.9), ('##은', 7.1), ('##으로', 5.1), ('대한', 4.6), ('?', 0.0), ('받', 0.0), ('보상', 0.0), ('선고', 0.0), ('처음', 0.0), ('회사', 0.0)]\n",
      "====================\n",
      "\n",
      "\n",
      "\n",
      "\n",
      "\n"
     ]
    }
   ],
   "source": [
    "idx = 0\n",
    "analyzer.print_compare_query_result(idx)"
   ]
  }
 ],
 "metadata": {
  "kernelspec": {
   "display_name": "base",
   "language": "python",
   "name": "python3"
  },
  "language_info": {
   "codemirror_mode": {
    "name": "ipython",
    "version": 3
   },
   "file_extension": ".py",
   "mimetype": "text/x-python",
   "name": "python",
   "nbconvert_exporter": "python",
   "pygments_lexer": "ipython3",
   "version": "3.10.15"
  }
 },
 "nbformat": 4,
 "nbformat_minor": 2
}
