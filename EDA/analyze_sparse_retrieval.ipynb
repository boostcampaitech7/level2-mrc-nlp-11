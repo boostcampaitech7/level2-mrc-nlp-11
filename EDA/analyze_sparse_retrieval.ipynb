{
 "cells": [
  {
   "cell_type": "code",
   "execution_count": 1,
   "metadata": {},
   "outputs": [],
   "source": [
    "import os, sys, pickle\n",
    "sys.path.append(os.path.abspath(os.path.join(os.getcwd(), '..')))"
   ]
  },
  {
   "cell_type": "markdown",
   "metadata": {},
   "source": [
    "#### 1. load retrieval model"
   ]
  },
  {
   "cell_type": "code",
   "execution_count": 8,
   "metadata": {},
   "outputs": [],
   "source": [
    "retrieval2_checkpoint = \"/Users/gj/Documents/study/level2-mrc-nlp-11/retrieval_checkpoint/bm25-subword_model=BM25Okapi_tokenizer=klue-bert-base\"\n",
    "retrieval1_checkpoint = \"/Users/gj/Documents/study/level2-mrc-nlp-11/retrieval_checkpoint/bm25-morphs_model=BM25Okapi_tokenizer=Kkma\"\n",
    "with open(retrieval1_checkpoint, 'rb') as file:\n",
    "    retrieval1 = pickle.load(file)\n",
    "with open(retrieval2_checkpoint, 'rb') as file:\n",
    "    retrieval2 = pickle.load(file)"
   ]
  },
  {
   "cell_type": "markdown",
   "metadata": {},
   "source": [
    "#### 2. `SparseRetrievalResultProvider`: calculate `single` and `compare` retrieval result & save"
   ]
  },
  {
   "cell_type": "code",
   "execution_count": 9,
   "metadata": {},
   "outputs": [],
   "source": [
    "from utils.analysis_sparse import SparseRetrievalResultProvider\n",
    "result_provider = SparseRetrievalResultProvider(retrieval1, retrieval2)"
   ]
  },
  {
   "cell_type": "code",
   "execution_count": null,
   "metadata": {},
   "outputs": [],
   "source": [
    "result_provider.calculate_result()\n",
    "result_provider.save_result()\n",
    "result_provider.calculate_compare_result()\n",
    "result_provider.save_compare_result()"
   ]
  },
  {
   "cell_type": "markdown",
   "metadata": {},
   "source": [
    "#### 3. `SparseRetrievalResultViewer`: view `single` and `compare` retrieval result"
   ]
  },
  {
   "cell_type": "code",
   "execution_count": 2,
   "metadata": {},
   "outputs": [
    {
     "name": "stderr",
     "output_type": "stream",
     "text": [
      "/opt/homebrew/Caskroom/miniforge/base/envs/torch2/lib/python3.10/site-packages/tqdm/auto.py:21: TqdmWarning: IProgress not found. Please update jupyter and ipywidgets. See https://ipywidgets.readthedocs.io/en/stable/user_install.html\n",
      "  from .autonotebook import tqdm as notebook_tqdm\n"
     ]
    }
   ],
   "source": [
    "from utils.analysis_sparse import SparseRetrievalResultViewer\n",
    "result_path = \"/Users/gj/Documents/study/level2-mrc-nlp-11/data/MorphsBm25Retrieval-SubwordBm25Retrieval-compare-result.json\"\n",
    "result_viewer = SparseRetrievalResultViewer(result_path)"
   ]
  },
  {
   "cell_type": "code",
   "execution_count": 3,
   "metadata": {},
   "outputs": [
    {
     "name": "stdout",
     "output_type": "stream",
     "text": [
      "====================\n",
      "QUESTION: \n"
     ]
    },
    {
     "data": {
      "text/html": [
       "처음으로 부실 경영인에 대한 보상 선고를 받은 회사는?"
      ],
      "text/plain": [
       "<IPython.core.display.HTML object>"
      ]
     },
     "metadata": {},
     "output_type": "display_data"
    },
    {
     "name": "stdout",
     "output_type": "stream",
     "text": [
      "====================\n"
     ]
    },
    {
     "data": {
      "text/plain": [
       "'===================='"
      ]
     },
     "metadata": {},
     "output_type": "display_data"
    },
    {
     "name": "stdout",
     "output_type": "stream",
     "text": [
      "MorphsBm25Retrieval-PREDICT-CONTEXT: False\n"
     ]
    },
    {
     "data": {
      "text/html": [
       "개인 또는 집단이 의사 결정 과정을 다른 사람에게 위임할 때 대리인 관계가 성립된다. 대리인 관계가 성공적으로 유지되기 위해서는 주인이 대리인에게 적절한 보상을 지급해야 하고, 대리인의 노력으로 인한 경제적 결과를 정확히 평가할 수 있어야 한다.  그러나 대부분의 대리인 관계는 불확실한 미래 상황을 대상으로 할 뿐만 아니라, 주인이 대리인을 완벽하게 감시한다는 것은 현실적으로 불가능하다 여기서 정보 비대칭 문제가 발생하고, 대리인은 자기 나름대로의 이해관계를 가지기 때문에 주인의 이해관계에 반하는 행동을 할 수 있다.  이로 인해 역선택의 문제, 도덕적 해이, 무임승차자 문제 등이 발생한다.\n",
       "\n",
       "대리인 문제는 모든 계약 관계에서 나타날 수 있으며, 그 대표적인 예로 전문경영인과 주주의 관계를 들 수 있다.  이러한 대리인 문제가 발생한 대표적인 사례로 엔론과 월드컴(MCI Inc.)의 회계부정 사건을 들 수 있다. 이는 전문경영인이 자신의 자리를 유지하고 급여를 더 받기 위해 실적을 과대포장해 일어난 사건이다.  이를 극복하기 위해 발전해 온 제도가 전문경영인을 감시하기 위한 사외이사제도와 전문경영인의 이해를 주주의 이해와 일치시켜 전문경영인에게 동기를 부여하려는 스톡 옵션 제도이다\n",
       "\n",
       "대리인 문제는 정보경제학의 주된 연구 과제 중 하나이다. 실제 고용자-피고용자의 관계가 아니더라도 본인-대리인 문제와 비슷한 접근방식으로 문제를 해결할 수 있다."
      ],
      "text/plain": [
       "<IPython.core.display.HTML object>"
      ]
     },
     "metadata": {},
     "output_type": "display_data"
    },
    {
     "name": "stdout",
     "output_type": "stream",
     "text": [
      "--------------------\n",
      "MorphsBm25Retrieval-VALUE OF MorphsBm25Retrieval-PREDICT-CONTEXT: \n",
      "[('총합', 21.648), ('경영인', 15.224), ('보상', 5.42), ('받', 1.004), ('대하', 0.0), ('부실', 0.0), ('선고', 0.0), ('처음', 0.0), ('회사', 0.0)]\n",
      "====================\n"
     ]
    },
    {
     "data": {
      "text/plain": [
       "'===================='"
      ]
     },
     "metadata": {},
     "output_type": "display_data"
    },
    {
     "name": "stdout",
     "output_type": "stream",
     "text": [
      "ANSWER-CONTEXT: \n"
     ]
    },
    {
     "data": {
      "text/html": [
       "순천여자고등학교 졸업, 1973년 이화여자대학교를 졸업하고 1975년 제17회 사법시험에 합격하여 판사로 임용되었고 대법원 재판연구관, 수원지법 부장판사, 사법연수원 교수, 특허법원 부장판사 등을 거쳐 능력을 인정받았다. 2003년 최종영 대법원장의 지명으로 헌법재판소 재판관을 역임하였다.\\n\\n경제민주화위원회(위원장 장하성이 소액주주들을 대표해 한보철강 부실대출에 책임이 있는 이철수 전 제일은행장 등 임원 4명을 상대로 제기한 손해배상청구소송에서 서울지방법원 민사합의17부는 1998년 7월 24일에 \"한보철강에 부실 대출하여 은행에 막대한 손해를 끼친 점이 인정된다\"며 \"원고가 배상을 청구한 400억원 전액을 은행에 배상하라\"고 하면서 부실 경영인에 대한 최초의 배상 판결을 했다. \\n\\n2004년 10월 신행정수도의건설을위한특별조치법 위헌 확인 소송에서 9인의 재판관 중 유일하게 각하 견해를 내었다. 소수의견에서 전효숙 재판관은 다수견해의 문제점을 지적하면서 관습헌법 법리를 부정하였다. 전효숙 재판관은 서울대학교 근대법학교육 백주년 기념관에서 열린 강연에서, 국회가 고도의 정치적인 사안을 정치로 풀기보다는 헌법재판소에 무조건 맡겨서 해결하려는 자세는 헌법재판소에게 부담스럽다며 소회를 밝힌 바 있다."
      ],
      "text/plain": [
       "<IPython.core.display.HTML object>"
      ]
     },
     "metadata": {},
     "output_type": "display_data"
    },
    {
     "name": "stdout",
     "output_type": "stream",
     "text": [
      "--------------------\n",
      "MorphsBm25Retrieval-VALUE OF ANSWER-CONTEXT: \n",
      "[('총합', 20.096), ('부실', 10.852), ('경영인', 8.099), ('대하', 1.145), ('받', 0.0), ('보상', 0.0), ('선고', 0.0), ('처음', 0.0), ('회사', 0.0)]\n",
      "====================\n",
      "\n",
      "\n",
      "\n",
      "\n",
      "\n"
     ]
    }
   ],
   "source": [
    "result_viewer.print_query_result(0)"
   ]
  },
  {
   "cell_type": "code",
   "execution_count": 4,
   "metadata": {},
   "outputs": [
    {
     "name": "stdout",
     "output_type": "stream",
     "text": [
      "====================\n",
      "QUESTION: \n"
     ]
    },
    {
     "data": {
      "text/html": [
       "처음으로 부실 경영인에 대한 보상 선고를 받은 회사는?"
      ],
      "text/plain": [
       "<IPython.core.display.HTML object>"
      ]
     },
     "metadata": {},
     "output_type": "display_data"
    },
    {
     "name": "stdout",
     "output_type": "stream",
     "text": [
      "====================\n"
     ]
    },
    {
     "data": {
      "text/plain": [
       "'===================='"
      ]
     },
     "metadata": {},
     "output_type": "display_data"
    },
    {
     "name": "stdout",
     "output_type": "stream",
     "text": [
      "MorphsBm25Retrieval-PREDICT-CONTEXT: False\n"
     ]
    },
    {
     "data": {
      "text/html": [
       "개인 또는 집단이 의사 결정 과정을 다른 사람에게 위임할 때 대리인 관계가 성립된다. 대리인 관계가 성공적으로 유지되기 위해서는 주인이 대리인에게 적절한 보상을 지급해야 하고, 대리인의 노력으로 인한 경제적 결과를 정확히 평가할 수 있어야 한다.  그러나 대부분의 대리인 관계는 불확실한 미래 상황을 대상으로 할 뿐만 아니라, 주인이 대리인을 완벽하게 감시한다는 것은 현실적으로 불가능하다 여기서 정보 비대칭 문제가 발생하고, 대리인은 자기 나름대로의 이해관계를 가지기 때문에 주인의 이해관계에 반하는 행동을 할 수 있다.  이로 인해 역선택의 문제, 도덕적 해이, 무임승차자 문제 등이 발생한다.\n",
       "\n",
       "대리인 문제는 모든 계약 관계에서 나타날 수 있으며, 그 대표적인 예로 전문경영인과 주주의 관계를 들 수 있다.  이러한 대리인 문제가 발생한 대표적인 사례로 엔론과 월드컴(MCI Inc.)의 회계부정 사건을 들 수 있다. 이는 전문경영인이 자신의 자리를 유지하고 급여를 더 받기 위해 실적을 과대포장해 일어난 사건이다.  이를 극복하기 위해 발전해 온 제도가 전문경영인을 감시하기 위한 사외이사제도와 전문경영인의 이해를 주주의 이해와 일치시켜 전문경영인에게 동기를 부여하려는 스톡 옵션 제도이다\n",
       "\n",
       "대리인 문제는 정보경제학의 주된 연구 과제 중 하나이다. 실제 고용자-피고용자의 관계가 아니더라도 본인-대리인 문제와 비슷한 접근방식으로 문제를 해결할 수 있다."
      ],
      "text/plain": [
       "<IPython.core.display.HTML object>"
      ]
     },
     "metadata": {},
     "output_type": "display_data"
    },
    {
     "name": "stdout",
     "output_type": "stream",
     "text": [
      "--------------------\n",
      "MorphsBm25Retrieval-VALUE OF MorphsBm25Retrieval-PREDICT-CONTEXT: \n",
      "[('총합', 21.648), ('경영인', 15.224), ('보상', 5.42), ('받', 1.004), ('대하', 0.0), ('부실', 0.0), ('선고', 0.0), ('처음', 0.0), ('회사', 0.0)]\n",
      "--------------------\n",
      "SubwordBm25Retrieval-VALUE OF MorphsBm25Retrieval-PREDICT-CONTEXT: \n",
      "[('총합', 22.975), ('보상', 5.536), ('##는', 3.622), ('##를', 3.622), ('##에', 3.336), ('##으로', 2.925), ('##은', 2.535), ('받', 1.399), ('?', 0.0), ('경영인', 0.0), ('대한', 0.0), ('부실', 0.0), ('선고', 0.0), ('처음', 0.0), ('회사', 0.0)]\n",
      "====================\n"
     ]
    },
    {
     "data": {
      "text/plain": [
       "'===================='"
      ]
     },
     "metadata": {},
     "output_type": "display_data"
    },
    {
     "name": "stdout",
     "output_type": "stream",
     "text": [
      "SubwordBm25Retrieval-PREDICT-CONTEXT: True\n"
     ]
    },
    {
     "data": {
      "text/html": [
       "순천여자고등학교 졸업, 1973년 이화여자대학교를 졸업하고 1975년 제17회 사법시험에 합격하여 판사로 임용되었고 대법원 재판연구관, 수원지법 부장판사, 사법연수원 교수, 특허법원 부장판사 등을 거쳐 능력을 인정받았다. 2003년 최종영 대법원장의 지명으로 헌법재판소 재판관을 역임하였다.\n",
       "\n",
       "경제민주화위원회(위원장 장하성이 소액주주들을 대표해 한보철강 부실대출에 책임이 있는 이철수 전 제일은행장 등 임원 4명을 상대로 제기한 손해배상청구소송에서 서울지방법원 민사합의17부는 1998년 7월 24일에 \"한보철강에 부실 대출하여 은행에 막대한 손해를 끼친 점이 인정된다\"며 \"원고가 배상을 청구한 400억원 전액을 은행에 배상하라\"고 하면서 부실 경영인에 대한 최초의 배상 판결을 했다.  \n",
       "\n",
       "2004년 10월 신행정수도의건설을위한특별조치법 위헌 확인 소송에서 9인의 재판관 중 유일하게 각하 견해를 내었다. 소수의견에서 전효숙 재판관은 다수견해의 문제점을 지적하면서 관습헌법 법리를 부정하였다. 전효숙 재판관은 서울대학교 근대법학교육 백주년 기념관에서 열린 강연에서, 국회가 고도의 정치적인 사안을 정치로 풀기보다는 헌법재판소에 무조건 맡겨서 해결하려는 자세는 헌법재판소에게 부담스럽다며 소회를 밝힌 바 있다."
      ],
      "text/plain": [
       "<IPython.core.display.HTML object>"
      ]
     },
     "metadata": {},
     "output_type": "display_data"
    },
    {
     "name": "stdout",
     "output_type": "stream",
     "text": [
      "--------------------\n",
      "MorphsBm25Retrieval-VALUE OF SubwordBm25Retrieval-PREDICT-CONTEXT: \n",
      "[('총합', 20.359), ('부실', 10.954), ('경영인', 8.24), ('대하', 1.165), ('받', 0.0), ('보상', 0.0), ('선고', 0.0), ('처음', 0.0), ('회사', 0.0)]\n",
      "--------------------\n",
      "SubwordBm25Retrieval-VALUE OF SubwordBm25Retrieval-PREDICT-CONTEXT: \n",
      "[('총합', 36.036), ('부실', 11.07), ('경영인', 8.62), ('##에', 3.699), ('##를', 3.363), ('##는', 3.199), ('##은', 2.574), ('##으로', 1.85), ('대한', 1.661), ('?', 0.0), ('받', 0.0), ('보상', 0.0), ('선고', 0.0), ('처음', 0.0), ('회사', 0.0)]\n",
      "====================\n"
     ]
    },
    {
     "data": {
      "text/plain": [
       "'===================='"
      ]
     },
     "metadata": {},
     "output_type": "display_data"
    },
    {
     "name": "stdout",
     "output_type": "stream",
     "text": [
      "ANSWER-CONTEXT: \n"
     ]
    },
    {
     "data": {
      "text/html": [
       "순천여자고등학교 졸업, 1973년 이화여자대학교를 졸업하고 1975년 제17회 사법시험에 합격하여 판사로 임용되었고 대법원 재판연구관, 수원지법 부장판사, 사법연수원 교수, 특허법원 부장판사 등을 거쳐 능력을 인정받았다. 2003년 최종영 대법원장의 지명으로 헌법재판소 재판관을 역임하였다.\\n\\n경제민주화위원회(위원장 장하성이 소액주주들을 대표해 한보철강 부실대출에 책임이 있는 이철수 전 제일은행장 등 임원 4명을 상대로 제기한 손해배상청구소송에서 서울지방법원 민사합의17부는 1998년 7월 24일에 \"한보철강에 부실 대출하여 은행에 막대한 손해를 끼친 점이 인정된다\"며 \"원고가 배상을 청구한 400억원 전액을 은행에 배상하라\"고 하면서 부실 경영인에 대한 최초의 배상 판결을 했다. \\n\\n2004년 10월 신행정수도의건설을위한특별조치법 위헌 확인 소송에서 9인의 재판관 중 유일하게 각하 견해를 내었다. 소수의견에서 전효숙 재판관은 다수견해의 문제점을 지적하면서 관습헌법 법리를 부정하였다. 전효숙 재판관은 서울대학교 근대법학교육 백주년 기념관에서 열린 강연에서, 국회가 고도의 정치적인 사안을 정치로 풀기보다는 헌법재판소에 무조건 맡겨서 해결하려는 자세는 헌법재판소에게 부담스럽다며 소회를 밝힌 바 있다."
      ],
      "text/plain": [
       "<IPython.core.display.HTML object>"
      ]
     },
     "metadata": {},
     "output_type": "display_data"
    },
    {
     "name": "stdout",
     "output_type": "stream",
     "text": [
      "--------------------\n",
      "MorphsBm25Retrieval-VALUE OF ANSWER-CONTEXT: \n",
      "[('총합', 20.096), ('부실', 10.852), ('경영인', 8.099), ('대하', 1.145), ('받', 0.0), ('보상', 0.0), ('선고', 0.0), ('처음', 0.0), ('회사', 0.0)]\n",
      "--------------------\n",
      "SubwordBm25Retrieval-VALUE OF ANSWER-CONTEXT: \n",
      "[('총합', 35.754), ('부실', 10.998), ('경영인', 8.516), ('##에', 3.689), ('##를', 3.348), ('##는', 3.182), ('##은', 2.552), ('##으로', 1.828), ('대한', 1.641), ('?', 0.0), ('받', 0.0), ('보상', 0.0), ('선고', 0.0), ('처음', 0.0), ('회사', 0.0)]\n",
      "====================\n",
      "\n",
      "\n",
      "\n",
      "\n",
      "\n"
     ]
    }
   ],
   "source": [
    "result_viewer.print_compare_query_result(0)"
   ]
  }
 ],
 "metadata": {
  "kernelspec": {
   "display_name": "torch2",
   "language": "python",
   "name": "python3"
  },
  "language_info": {
   "codemirror_mode": {
    "name": "ipython",
    "version": 3
   },
   "file_extension": ".py",
   "mimetype": "text/x-python",
   "name": "python",
   "nbconvert_exporter": "python",
   "pygments_lexer": "ipython3",
   "version": "3.10.10"
  }
 },
 "nbformat": 4,
 "nbformat_minor": 2
}
