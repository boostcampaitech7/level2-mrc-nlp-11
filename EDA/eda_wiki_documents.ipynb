{
 "cells": [
  {
   "cell_type": "code",
   "execution_count": 2,
   "metadata": {},
   "outputs": [],
   "source": [
    "import os\n",
    "import json\n",
    "import re\n",
    "from IPython.display import display, HTML\n",
    "from pprint import pprint\n",
    "import copy"
   ]
  },
  {
   "cell_type": "code",
   "execution_count": 39,
   "metadata": {},
   "outputs": [],
   "source": [
    "wiki_path = \"/data/ephemeral/home/jhyeop/level2-mrc-nlp-11/data/wikipedia_documents.json\"\n",
    "if os.path.exists(wiki_path):\n",
    "    with open(wiki_path, \"r\", encoding=\"utf-8\") as f:\n",
    "        wiki_data = json.load(f)"
   ]
  },
  {
   "cell_type": "code",
   "execution_count": 40,
   "metadata": {},
   "outputs": [],
   "source": [
    "# 태그형 문자열\n",
    "def find_taglike_words(text):\n",
    "    pattern = r'<(?![^<>]*[가-힣])[^<>]+>'\n",
    "    matches = re.findall(pattern, text)\n",
    "    \n",
    "    return matches"
   ]
  },
  {
   "cell_type": "code",
   "execution_count": 41,
   "metadata": {},
   "outputs": [
    {
     "name": "stdout",
     "output_type": "stream",
     "text": [
      "태그 형식의 문자열 총 개수: 3200\n",
      "태그 형식 문자열을 포함한 문서의 수: 966\n",
      "태그 형식 문자열 종류: 963\n",
      "태그 형식 문자열 예시: ['<Shiny Happy People>', '<mapper namespace=\"org.mybatis.example.BlogMapper\">', '<Satellites>', '<blockquote class=\"toccolours\" style=\"margin:1px 1px; padding: 10px 15px 10px 15px; display:table; {}\">', '<Dear Air>', '<t.rex>', '<Everybody Wants to Rule the World>', '<Curiga>', '<Shock Value>', '<!DOCTYPE HTML PUBLIC\\n     \"-//W3C//DTD HTML 4.01 Transitional//EN\"\\n     \"http://www.w3.org/TR/html4/loose.dtd\">']\n"
     ]
    }
   ],
   "source": [
    "taglike_words_set = set()\n",
    "num_docs_with_taglike_words = 0\n",
    "num_taglike_words = 0\n",
    "\n",
    "for document in wiki_data.values():\n",
    "    taglike_words = find_taglike_words(document[\"text\"])\n",
    "    if taglike_words:\n",
    "        num_docs_with_taglike_words += 1\n",
    "        taglike_words_set.update(taglike_words)\n",
    "        num_taglike_words += len(taglike_words)\n",
    "\n",
    "\n",
    "print(f\"태그 형식의 문자열 총 개수: {num_taglike_words}\")\n",
    "print(f\"태그 형식 문자열을 포함한 문서의 수: {num_docs_with_taglike_words}\")\n",
    "print(f\"태그 형식 문자열 종류: {len(list(taglike_words_set))}\")\n",
    "print(f\"태그 형식 문자열 예시: {list(taglike_words_set)[:10]}\")"
   ]
  },
  {
   "cell_type": "code",
   "execution_count": 42,
   "metadata": {},
   "outputs": [],
   "source": [
    "# openai API를 이용해 추출한 태그 형식 문자열의 카테고리 (HTML_TAG, CODE_REPRESENTATION, PROPER_NOUN)\n",
    "taglike_words_category_path = \"/data/ephemeral/home/jaehyeop/level2-mrc-nlp-11/data/default/categorized_taglike_words.json\"\n",
    "with open(taglike_words_category_path, \"r\", encoding=\"utf-8\") as f:\n",
    "    taglike_words_category = json.load(f)"
   ]
  },
  {
   "cell_type": "markdown",
   "metadata": {},
   "source": [
    "### 코드 문서 제거"
   ]
  },
  {
   "cell_type": "code",
   "execution_count": 43,
   "metadata": {},
   "outputs": [
    {
     "name": "stdout",
     "output_type": "stream",
     "text": [
      "최초 문서 수: 60613\n"
     ]
    }
   ],
   "source": [
    "# 전처리된 문서 모음\n",
    "normalized_wiki = copy.deepcopy(wiki_data)\n",
    "print(f\"최초 문서 수: {len(normalized_wiki.keys())}\")"
   ]
  },
  {
   "cell_type": "markdown",
   "metadata": {},
   "source": [
    "코드 태그 (ex. < iostream> 이런 식으로 생긴 문자열) 포함한 문서 중 삭제해도 무방하다고 판단되는 것 제거"
   ]
  },
  {
   "cell_type": "code",
   "execution_count": 44,
   "metadata": {},
   "outputs": [
    {
     "name": "stdout",
     "output_type": "stream",
     "text": [
      "코드 문서 32개 제거 ==> wiki 문서 수: 60581\n",
      "===제거 목록===\n",
      "['54048', '875', '42977', '1163', '44841', '5717', '44644', '36187', '57300', '46913', '5429', '21402', '9626', '41822', '43231', '13231', '54049', '21404', '24405', '11950', '52868', '52870', '48074', '31950', '37660', '37232', '56438', '27917', '33245', '42734', '16071', '50606']\n"
     ]
    }
   ],
   "source": [
    "code_set = set()\n",
    "for taglike_word, category in taglike_words_category.items():\n",
    "    if category == \"CODE_REPRESENTATION\":\n",
    "        for doc_id, doc in normalized_wiki.items():\n",
    "            if taglike_word in doc[\"text\"]:\n",
    "                code_set.add(doc_id)\n",
    "\n",
    "# 수기로 검증하여 의미가 있다고 판단한 문서(문서 전체가 코드로 도배되어 있지 않은 문서)\n",
    "for idx in [\"43445\", \"34273\", \"13921\", \"59622\", \"15290\", \"55000\", \"28801\", \"41935\"]:\n",
    "    code_set.remove(idx)\n",
    "code_list = list(code_set)\n",
    "for doc_id in code_list:\n",
    "    del normalized_wiki[doc_id]\n",
    "\n",
    "print(f\"코드 문서 {len(code_list)}개 제거 ==> wiki 문서 수: {len(normalized_wiki.keys())}\")\n",
    "print(\"===제거 목록===\")\n",
    "print(code_list)"
   ]
  },
  {
   "cell_type": "markdown",
   "metadata": {},
   "source": [
    "코드에 자주 등장하는 문자열을 이용해 문서를 찾고, 그 중 삭제할 것, 전처리할 것을 분류"
   ]
  },
  {
   "cell_type": "code",
   "execution_count": 45,
   "metadata": {},
   "outputs": [
    {
     "name": "stdout",
     "output_type": "stream",
     "text": [
      "{'text': '2세대 언어는 기계어 최상단에 추상적인 수준을 제공한다. TX-0, PDP-1과 같은 컴퓨터들을 이용하여 코딩하던 과거에는 MIT 해커들이 했던 최초의 일은 어셈블러를 작성하는 일이었다. \\n\\n대부분의 어셈블러는 매크로를 제공하므로 공통이 되는 일련의 명령들을 만들어낼 수 있다.\\n\\n아래는 상단의 피보나치 수 계산기와 동일하지만, MASM 문법을 이용하여 x86 어셈블리어로 표현한 것이다:\\n\\nfib:\\n    mov edx, [esp+8]\\n    cmp edx, 0\\n    ja @f\\n    mov eax, 0\\n    ret\\n\\n    @@:\\n    cmp edx, 2\\n    ja @f\\n    mov eax, 1\\n    ret\\n\\n    @@:\\n    push ebx\\n    mov ebx, 1\\n    mov ecx, 1\\n\\n    @@:\\n        lea eax, [ebx+ecx]\\n        cmp edx, 3\\n        jbe @f\\n        mov ebx, ecx\\n        mov ecx, eax\\n        dec edx\\n    jmp @b\\n\\n    @@:\\n    pop ebx\\n    ret\\n\\n\\n동일 기능을 C로 나타내면 다음과 같다:\\n\\nunsigned int fib(unsigned int n)\\n{\\n    if (n <= 0)\\n        return 0;\\n    else if (n <= 2)\\n        return 1;\\n    else {\\n        unsigned int a,b,c;\\n        a = 1;\\n        b = 1;\\n        while (1) {\\n            c = a + b;\\n            if (n <= 3) return c;\\n            a = b;\\n            b = c;\\n            n--;\\n        }\\n    }\\n}', 'corpus_source': '위키피디아', 'url': 'TODO', 'domain': None, 'title': '저급 프로그래밍 언어', 'author': None, 'html': None, 'document_id': 362}\n",
      "[' int ', ' int ', 'return ', 'return ', ' int ', 'return ']\n",
      "{'text': ':\\\\begin{align}\\n   \\\\int {\\\\frac{du}{\\\\sqrt{a^2 + u^2}}} & = a^{-1}\\\\operatorname{arcsinh} \\\\left( \\\\frac{u}{a} \\\\right) + C \\\\\\\\\\n   \\\\int {\\\\frac{du}{\\\\sqrt{u^2 - a^2}}} &=  a^{-1}\\\\operatorname{arccosh} \\\\left( \\\\frac{u}{a} \\\\right) + C \\\\\\\\\\n   \\\\int {\\\\frac{du}{a^2 - u^2}} & = a^{-1}\\\\operatorname{arctanh} \\\\left( \\\\frac{u}{a} \\\\right) + C; u^2 < a^2 \\\\\\\\\\n   \\\\int {\\\\frac{du}{u\\\\sqrt{a^2 + u^2}}} & = -a^{-1}\\\\operatorname{arccsch}\\\\left| \\\\frac{u}{a} \\\\right| + C \\\\\\\\\\n   \\\\int {\\\\frac{du}{u\\\\sqrt{a^2 - u^2}}} & = -a^{-1}\\\\operatorname{arcsech}\\\\left( \\\\frac{u}{a} \\\\right) + C \\\\\\\\\\n\\n\\\\end{align}\\n\\nC는 적분상수이다.', 'corpus_source': '위키피디아', 'url': 'TODO', 'domain': None, 'title': '쌍곡선 함수', 'author': None, 'html': None, 'document_id': 1164}\n",
      "['\\\\frac', '\\\\frac', '\\\\frac', '\\\\frac', '\\\\frac', '\\\\frac', '\\\\frac', '\\\\frac', '\\\\frac', '\\\\frac']\n",
      "{'text': \"HQ9+는 몇몇 종류의 컴퓨터 프로그램을 만드는 데 매우 효과적인, 간단하고 세련된 난해한 프로그래밍 언어이다. 클리프 비플(Cliff L. Biffle)가 2000년경에 만들었다. 언어의 이름에서 알 수 있듯이, 이 언어는 네 개의 한 글자 명령어, 즉 H, Q, 9, +를 가지고 있다.\\n\\n* H 명령은 ‘Hello, world!’를 출력한다.\\n* Q 명령은 프로그램의 소스 코드를 출력한다. (콰인 (전산학)의 역할을 한다)\\n* 9 명령은 99병의 맥주(99 Bottles of Beer on the Wall) 노래의 가사를 출력한다.\\n* + 명령은 가산기를 증가시킨다. 그러나 가산기의 값에 접근할 방법이 없어 입출력 관점으로는 NOP 명령과 동일하며, 그 다음에 나올 언어 HQ9++의 '++' 명령도 마찬가지다.\\n\\n예를 들어서 라는 코드는 올바른 HQ9+ 프로그램이다. 이 프로그램은 를 출력하면서 가산기를 세 번 증가시킬 것이다.\\n\\n실제로 HQ9+로 유용한 프로그램을 만들 수는 없으며, 난해한 프로그래밍 언어로 분류된다. 각각의 명령들은 새로운 프로그래밍 언어를 배우는 초보자들이 하는 공통적인 과제를 표시한다. 예를 들어서, ‘Hello, world!’라는 문장을 만드는 프로그램은 언어를 처음 배울 때 하는 과제인데,  몇몇 프로그래밍 언어는 이런 일을 하기가 상당히 어렵지만 HQ9+에서는 H 명령으로 해결할 수 있는 매우 기초적인 과제이다. 많은 프로그래밍 언어에서 가장 어려운 과제는 콰인 (전산학), 즉 자기 자신의 소스 코드를 출력하는 프로그램을 만드는 것이지만 HQ9+에서는 이 또한 자명하다.\\n\\nHQ9+ 인터프리터는 만들기 매우 쉬우며, 여러 언어로 많이 만들어져 있다. 하지만 HQ9+ 프로그램은 입력을 받을 수 없기 때문에 HQ9+로 HQ9+ 인터프리터나 컴파일러를 만드는 것은 불가능하다.\", 'corpus_source': '위키피디아', 'url': 'TODO', 'domain': None, 'title': 'HQ9+', 'author': None, 'html': None, 'document_id': 1165}\n",
      "['9++', \"'++\"]\n",
      "{'text': 'HQ9+-는 이반 멜리캠프(Ivan Meilkamp)에 의해 만들어진 HQ9++의 확장이다. HQ9+ 및 HQ9++와 하위 호환성을 유지한다. HQ9++의 다섯 명령을 모두 가지고 있으며, 여기에 오류를 일으키는 새로운 명령어 가 추가되었다. 이것의 기능은 선행하는 연산자에 따라 달라진다.\\n\\n* 프로그램의 처음에 올 경우, 그것은 구문 오류이다.\\n* H 명령어의 다음에 올 경우, 입출력 오류를 일으킨다.\\n* Q 명령어의 다음에 올 경우, 무한 피드백에 빠진다.\\n* 9 명령어의 다음에 올 경우, 무한 루프에 빠진다.\\n* + 명령어의 다음에 올 경우, 1을 0으로 나눈다.\\n* ++ 명령어의 다음에 올 경우, 객체가 상위 클래스를 하위 클래스로 가지게 된다. 정보 은닉의 원리에 따라 이것을 막는 것은 불가능하다.', 'corpus_source': '위키피디아', 'url': 'TODO', 'domain': None, 'title': 'HQ9+', 'author': None, 'html': None, 'document_id': 1166}\n",
      "['9++', '9++', '9++', ' ++']\n",
      "{'text': '섬네일|370px|int 배열 포인터 변수 구조<br/>\\n왼쪽 코드를 x386에서 실행했을 때의 출력 결과 예제 및 도식화\\n\\n  &a = 0x0040DF04\\n  &pa = 0x0040DF00\\n  pa = 0x0040DF04\\n  fun = 0x00401060\\n\\n\\n\\n\\nint a;\\nint *pa;\\n\\nvoid fun(int cnt);\\n\\nvoid printvar()\\n{\\n   printf(\"&a = 0x%08X\\\\n\", &a);\\n   printf(\"&pa = 0x%08X\\\\n\", &pa);\\n   printf(\"pa = 0x%08X\\\\n\", pa);\\n   printf(\"fun= 0x%08X\\\\n\", (int) fun);\\n   return;\\n}\\n\\nvoid fun(int cnt)\\n{\\n   pa = a;\\n\\n   while (cnt) {\\n      *pa = cnt;\\n       pa++;\\n       cnt--;\\n   }\\n}\\n\\n\\n변수 는 특정 데이터 영역의 위치 정보를 가지고 데이터를 액세스하는 것이다. 따라서 실제로 정수형 데이터가 들어가는 것이 아니고, 정수형 데이터가 들어갈 주소값이 저장된다.', 'corpus_source': '위키피디아', 'url': 'TODO', 'domain': None, 'title': '포인터 (프로그래밍)', 'author': None, 'html': None, 'document_id': 1254}\n",
      "['a++']\n",
      "{'text': 'C언어에서 변수는 정적변수와 동적변수가 있다. 처리할 데이터의 숫자를 예측할 수 있다면 정적으로 선언하면 된다. 배열변수들이 예이다. 그러나 데이터 처리를 미리 예측할 수 없다면 최대의 데이터 처리량을 정하고 정적으로 선언할 수 밖에 없다. 이 문제를 해결하기 위해 동적 변수를 사용한다.\\n\\nC에서는 전통적으로 동적할당 변수를 잡을 경우 malloc() 함수를 사용하여 데이터 저장공간을 확보한다. 이와 관련된 함수는 다음과 같다.\\n* 할당 : malloc() : 힙영역으로 부터 데이터 공간을 할당 받는다.\\n* 재할당 : realloc(): 이미 할당된 메모리 공간의 크기를 조정한다.\\n* 해제 : free() : 더 이상 쓸 필요가 없는 메모리 공간을 힙영역에 반환한다.\\n\\n그리고 사용이 완료되면 free() 함수로 해제한다. 해제된 메모리 영역은 다시 재활용된다. 프로세서의 메모리 맵에서 힙(heap) 영역을 활용하여 동적 저장 공간을 확보한다. 각 프로세스마다 힙 영역은 크기가 정해져 있기 때문에 무한정 malloc() 함수를 사용하여 동적으로 잡을 수 없다. 따라서 개발자는 free() 함수로 해제해 주어야 한다. 만약 동적 할당을 하지 못하면 주소값이 NULL로 반환된다.\\n\\n\\nint main(int argc, char *argv[])\\n{\\n   int *pa = NULL;\\n\\n   // ...\\n   pa = (int *) malloc( sizeof(int));\\n   if (pa == NULL) {   // malloc()가 NULL 리턴하면 확보 실패.\\n      printf(\"저장공간 확보 실패.\\\\n\");\\n      return -1;\\n   }\\n   *pa = 10;\\n   printf(\"&pa = 0x%08X\\\\n\", &pa);\\n   printf(\"pa = 0x%08X - 내용은 %d\\\\n\", pa, *pa);\\n\\n   // ...\\n   if (pa) free(pa);  // 사용 후 할당 영역을 반납한다.\\n\\n   return 0;\\n}\\n\\n\\nC++에서는 new와 delete가 추가 되었다. 이것은 내부에서 malloc() 함수 기능을 하는 기능을 수행한다. 따라서 표현법이 확장되었고, 힙영역을 활용하는 것은 같다.', 'corpus_source': '위키피디아', 'url': 'TODO', 'domain': None, 'title': '포인터 (프로그래밍)', 'author': None, 'html': None, 'document_id': 1255}\n",
      "[' int ', 'return ', 'return ']\n",
      "{'text': \"; TOLOWER:\\n;\\n; Convert a null-terminated character string to all lower case.\\n; Maximum string length is 255 characters, plus the null term-\\n; inator.\\n;\\n; Parameters:\\n;\\n; SRC - Source string address\\n; DST - Destination string address\\n;\\n        ORG $0080\\n;\\n0080 00 04 SRC .WORD $0400 ;source string pointer ($40)\\n0082 00 05 DST .WORD $0500 ;destination string pointer ($42)\\n;\\n0600 ORG $0600 ;execution start address\\n;\\n0600 A0 00 TOLOWER LDY #$00 ;starting index\\n;\\n0602 B1 80 LOOP LDA (SRC),Y ;get from source string\\n0604 F0 11 BEQ DONE ;end of string\\n;\\n0606 C9 41 CMP #'A' ;if lower than UC alphabet...\\n0608 90 06 BCC SKIP ;copy unchanged\\n;\\n060A C9 5B CMP #'Z'+1 ;if greater than UC alphabet...\\n060C B0 02 BCS SKIP ;copy unchanged\\n;\\n060E 09 20 ORA #%00100000 ;convert to lower case\\n;\\n0610 91 82 SKIP STA (DST),Y ;store to destination string\\n0612 C8 INY ;bump index\\n0613 D0 ED BNE LOOP ;next character\\n;\\n; NOTE: If .Y wraps the destination string will be left in an undefined\\n; state. We set carry to indicate this to the calling function.\\n;\\n0615 38 SEC ;report string too long error &...\\n0616 60 RTS ;return to caller\\n;\\n0617 91 82 DONE STA (DST),Y ;terminate destination string\\n0618 18 CLC ;report conversion completed &...\\n0619 60 RTS ;return to caller\\n;\\n                       .END\", 'corpus_source': '위키피디아', 'url': 'TODO', 'domain': None, 'title': 'MOS 6502', 'author': None, 'html': None, 'document_id': 1927}\n",
      "['return ', 'return ']\n",
      "{'text': 'class hanoi\\n   predicates\\n       hanoi : (unsigned N).\\nend class hanoi\\n\\nimplement hanoi\\n   domains\\n       pole = string.\\n\\n   clauses\\n       hanoi(N) :- move(N, \"left\", \"centre\", \"right\").\\n\\n   class predicates\\n       move : (unsigned N, pole A, pole B, pole C).\\n   clauses\\n       move(0, _, _, _) :- !.\\n       move(N, A, B, C) :- \\n           move(N-1, A, C, B),\\n           stdio::writef(\"move a disc from % pole to the % pole\\\\n\", A, C),\\n           move(N-1, B, A, C).\\nend implement hanoi\\n\\ngoal\\n   console::init(),\\n   hanoi::hanoi(4).', 'corpus_source': '위키피디아', 'url': 'TODO', 'domain': None, 'title': '하노이의 탑', 'author': None, 'html': None, 'document_id': 2638}\n",
      "['stdio']\n",
      "{'text': '함수형 프로그래밍의 Hello world라고 할 만한 것은 팩토리얼을 계산하는 코드이다. 순수 ML로는 다음과 같이 표현할 수 있다.\\n\\n fun fac : (fn: int -> int) 0 = 1\\n  | fac n = n * fac (n-1);\\n\\n이 코드는 팩토리얼을 기본적인 경우(base case)가 하나 있는 재귀 함수로 정의한 것이다. 수학 교과서에서 볼 수 있는 팩토리얼의 정의와 비슷하다. ML 코드는 문법과 계산방식의 측면에서 수학적 언어와 닮았다.\\n\\n팩토리얼 함수의 첫 번째 줄은 이 함수의 자료형을 표시하는 부분이다. ML은 코드로부터 자동으로 변수와 함수의 자료형을 추론하므로 이 부분은 없어도 무방하다. 첫 번째 줄은 \"함수 fac (fac)의 자료형은 (:) 정수에서 정수로 가는 (fn: int -> int) 함수이다.\" 와 같이 해석할 수 있다. 따라서 이 함수는 정수를 인자로 받아 또 다른 정수를 반환하는 함수이다.\\n\\n자료형을 명시하는 부분을 제거하면 코드는 다음과 같이 간단해진다.\\n\\n fun fac 0 = 1\\n  |  fac n = n * fac(n-1);\\n\\n함수의 인자가 괄호로 둘러싸여 있지 않고 공백으로 구분되어 있음을 주목하라. 두 번째 줄은 ML의 또다른 중요한 특성인 패턴 매칭으로 이루어져 있다. 함수 fac은 인자가 0이면 1을 반환한다. 나머지 모든 경우에 대해서는 두 번째 줄을 실행하여 0에 도달할 때까지 fac을 재귀적으로 계속 호출한다.', 'corpus_source': '위키피디아', 'url': 'TODO', 'domain': None, 'title': 'ML (프로그래밍 언어)', 'author': None, 'html': None, 'document_id': 2840}\n",
      "[' int ', ' int ']\n",
      "{'text': '예제로 두 함수를 쓰기로 하자. 하나는 참조에 불투명하고 다른 하나는 참조에 투명하다.\\n\\n  globalValue = 0;\\n  integer function rq(integer x)\\n  begin\\n    globalValue = globalValue + 1;\\n    return x + globalValue;\\n  end\\n\\n  integer function rt(integer x)\\n  begin\\n    return x + 1;\\n  end\\n\\n이제 는 참조에 투명하다. 왜냐하면 의 값이 변하지 않는 이상 이기 때문이다. 예를 들어,  등이 성립한다. 그러나 에 대해서는 그런 말을 할 수 없는데 이것이 전역 변수를 변경하기 때문이다.\\n\\n다음과 같은 코드를 보면 참조에 불투명함의 단점을 알 수 있다.\\n\\n  integer p = rq(x) + rq(y) * (rq(x) - rq(x));\\n\\n오른쪽 부분을 계산하여 정리하면 이렇게 될 것이다.\\n\\n  integer p = rq(x) + rq(y) * (0) = \\n  integer p = rq(x) + 0           = \\n  integer p = rq(x);\\n\\n그러나 이것은 에 대해서는 성립하지 않는데 는 와 같지 않기 때문이다. 의 결과값은 전역값에 따라 차이가 있으며 그 전역값이 전달되는 것이 아니라 변경되고 있기 때문이다. 이것은 어떤 식에서 같은 식을 빼면 0이 된다는 상식을 깨뜨린다.\\n\\n그러나 에 대해서는 이런 것들이 통할 것인데, 이것은 참조에 투명한 함수이기 때문이다.', 'corpus_source': '위키피디아', 'url': 'TODO', 'domain': None, 'title': '부작용 (컴퓨터 과학)', 'author': None, 'html': None, 'document_id': 3868}\n",
      "['return ', 'return ']\n",
      "{'text': '/*\\n * File name: test.c\\n * For C code compile with:\\n * gcc -c test.c\\n *\\n * For C++ code compile with:\\n * g++ -c test.cpp\\n */\\n\\nint global_var;\\nint global_var_init = 26;\\n\\nstatic int static_var;\\nstatic int static_var_init = 25;\\n\\nstatic int static_function()\\n{\\n\\treturn 0;\\n}\\n\\nint global_function(int p)\\n{\\n\\tstatic int local_static_var;\\n\\tstatic int local_static_var_init=5;\\n\\n\\tlocal_static_var = p;\\n\\n\\treturn local_static_var_init + local_static_var;\\n}\\n\\nint global_function2()\\n{\\n\\tint x;\\n\\tint y;\\n\\treturn x+y;\\n}\\n\\n#ifdef __cplusplus\\nextern \"C\"\\n#endif\\nvoid non_mangled_function()\\n{\\n\\t// I do nothing\\n}\\n\\nint main(void)\\n{\\n\\tglobal_var = 1;\\n\\tstatic_var = 2;\\n\\n\\treturn 0;\\n}\\n\\n\\n\\n이전 코드가 gcc C 컴파일러로 컴파일되면,  명령의 출력은 아래와 같다:\\n\\n# nm test.o\\n0000000a T global_function\\n00000025 T global_function2\\n00000004 C global_var\\n00000000 D global_var_init\\n00000004 b local_static_var.1255\\n00000008 d local_static_var_init.1256\\n0000003b T main\\n00000036 T non_mangled_function\\n00000000 t static_function\\n00000000 b static_var\\n00000004 d static_var_init\\n\\n\\nC++ 컴파일러를 사용하면 출력은 아래와 같이 다르다:\\n\\n# nm test.o\\n0000000a T _Z15global_functioni\\n00000025 T _Z16global_function2v\\n00000004 b _ZL10static_var\\n00000000 t _ZL15static_functionv\\n00000004 d _ZL15static_var_init\\n00000008 b _ZZ15global_functioniE16local_static_var\\n00000008 d _ZZ15global_functioniE21local_static_var_init\\n         U __gxx_personality_v0\\n00000000 B global_var\\n00000000 D global_var_init\\n0000003b T main\\n00000036 T non_mangled_function', 'corpus_source': '위키피디아', 'url': 'TODO', 'domain': None, 'title': 'Nm (유닉스)', 'author': None, 'html': None, 'document_id': 4152}\n",
      "['g++', ' int ', ' int ', ' int ', 'return ', ' int ', ' int ', 'return ', 'return ', 'def ', 'return ']\n",
      "{'text': '2세대 언어는 기계어 최상단에 추상적인 수준을 제공한다. TX-0, PDP-1과 같은 컴퓨터들을 이용하여 코딩하던 과거에는 MIT 해커들이 했던 최초의 일은 어셈블러를 작성하는 일이었다. \\n\\n대부분의 어셈블러는 매크로를 제공하므로 공통이 되는 일련의 명령들을 만들어낼 수 있다.\\n\\n아래는 상단의 피보나치 수 계산기와 동일하지만, MASM 문법을 이용하여 x86 어셈블리어로 표현한 것이다:\\n\\nfib:\\n    mov edx, [esp+8]\\n    cmp edx, 0\\n    ja @f\\n    mov eax, 0\\n    ret\\n\\n    @@:\\n    cmp edx, 2\\n    ja @f\\n    mov eax, 1\\n    ret\\n\\n    @@:\\n    push ebx\\n    mov ebx, 1\\n    mov ecx, 1\\n\\n    @@:\\n        lea eax, [ebx+ecx]\\n        cmp edx, 3\\n        jbe @f\\n        mov ebx, ecx\\n        mov ecx, eax\\n        dec edx\\n    jmp @b\\n\\n    @@:\\n    pop ebx\\n    ret\\n\\n\\n동일 기능을 C로 나타내면 다음과 같다:\\n\\nunsigned int fib(unsigned int n)\\n{\\n    if (n <= 0)\\n        return 0;\\n    else if (n <= 2)\\n        return 1;\\n    else {\\n        unsigned int a,b,c;\\n        a = 1;\\n        b = 1;\\n        while (1) {\\n            c = a + b;\\n            if (n <= 3) return c;\\n            a = b;\\n            b = c;\\n            n--;\\n        }\\n    }\\n}', 'corpus_source': '위키피디아', 'url': None, 'domain': None, 'title': '저급 프로그래밍 언어', 'author': None, 'html': None, 'document_id': 4916}\n",
      "[' int ', ' int ', 'return ', 'return ', ' int ', 'return ']\n",
      "{'text': ':\\\\begin{align}\\n   \\\\int {\\\\frac{du}{\\\\sqrt{a^2 + u^2}}} & = a^{-1}\\\\operatorname{arcsinh} \\\\left( \\\\frac{u}{a} \\\\right) + C \\\\\\\\\\n   \\\\int {\\\\frac{du}{\\\\sqrt{u^2 - a^2}}} &=  a^{-1}\\\\operatorname{arccosh} \\\\left( \\\\frac{u}{a} \\\\right) + C \\\\\\\\\\n   \\\\int {\\\\frac{du}{a^2 - u^2}} & = a^{-1}\\\\operatorname{arctanh} \\\\left( \\\\frac{u}{a} \\\\right) + C; u^2 < a^2 \\\\\\\\\\n   \\\\int {\\\\frac{du}{u\\\\sqrt{a^2 + u^2}}} & = -a^{-1}\\\\operatorname{arccsch}\\\\left| \\\\frac{u}{a} \\\\right| + C \\\\\\\\\\n   \\\\int {\\\\frac{du}{u\\\\sqrt{a^2 - u^2}}} & = -a^{-1}\\\\operatorname{arcsech}\\\\left( \\\\frac{u}{a} \\\\right) + C \\\\\\\\\\n\\n\\\\end{align}\\n\\nC는 적분상수이다.', 'corpus_source': '위키피디아', 'url': None, 'domain': None, 'title': '쌍곡선 함수', 'author': None, 'html': None, 'document_id': 5718}\n",
      "['\\\\frac', '\\\\frac', '\\\\frac', '\\\\frac', '\\\\frac', '\\\\frac', '\\\\frac', '\\\\frac', '\\\\frac', '\\\\frac']\n",
      "{'text': \"HQ9+는 몇몇 종류의 컴퓨터 프로그램을 만드는 데 매우 효과적인, 간단하고 세련된 난해한 프로그래밍 언어이다. 클리프 비플(Cliff L. Biffle)가 2000년경에 만들었다. 언어의 이름에서 알 수 있듯이, 이 언어는 네 개의 한 글자 명령어, 즉 H, Q, 9, +를 가지고 있다.\\n\\n* H 명령은 ‘Hello, world!’를 출력한다.\\n* Q 명령은 프로그램의 소스 코드를 출력한다. (콰인 (전산학)의 역할을 한다)\\n* 9 명령은 99병의 맥주(99 Bottles of Beer on the Wall) 노래의 가사를 출력한다.\\n* + 명령은 가산기를 증가시킨다. 그러나 가산기의 값에 접근할 방법이 없어 입출력 관점으로는 NOP 명령과 동일하며, 그 다음에 나올 언어 HQ9++의 '++' 명령도 마찬가지다.\\n\\n예를 들어서 라는 코드는 올바른 HQ9+ 프로그램이다. 이 프로그램은 를 출력하면서 가산기를 세 번 증가시킬 것이다.\\n\\n실제로 HQ9+로 유용한 프로그램을 만들 수는 없으며, 난해한 프로그래밍 언어로 분류된다. 각각의 명령들은 새로운 프로그래밍 언어를 배우는 초보자들이 하는 공통적인 과제를 표시한다. 예를 들어서, ‘Hello, world!’라는 문장을 만드는 프로그램은 언어를 처음 배울 때 하는 과제인데,  몇몇 프로그래밍 언어는 이런 일을 하기가 상당히 어렵지만 HQ9+에서는 H 명령으로 해결할 수 있는 매우 기초적인 과제이다. 많은 프로그래밍 언어에서 가장 어려운 과제는 콰인 (전산학), 즉 자기 자신의 소스 코드를 출력하는 프로그램을 만드는 것이지만 HQ9+에서는 이 또한 자명하다.\\n\\nHQ9+ 인터프리터는 만들기 매우 쉬우며, 여러 언어로 많이 만들어져 있다. 하지만 HQ9+ 프로그램은 입력을 받을 수 없기 때문에 HQ9+로 HQ9+ 인터프리터나 컴파일러를 만드는 것은 불가능하다.\", 'corpus_source': '위키피디아', 'url': None, 'domain': None, 'title': 'HQ9+', 'author': None, 'html': None, 'document_id': 5719}\n",
      "['9++', \"'++\"]\n",
      "{'text': 'HQ9+-는 이반 멜리캠프(Ivan Meilkamp)에 의해 만들어진 HQ9++의 확장이다. HQ9+ 및 HQ9++와 하위 호환성을 유지한다. HQ9++의 다섯 명령을 모두 가지고 있으며, 여기에 오류를 일으키는 새로운 명령어 가 추가되었다. 이것의 기능은 선행하는 연산자에 따라 달라진다.\\n\\n* 프로그램의 처음에 올 경우, 그것은 구문 오류이다.\\n* H 명령어의 다음에 올 경우, 입출력 오류를 일으킨다.\\n* Q 명령어의 다음에 올 경우, 무한 피드백에 빠진다.\\n* 9 명령어의 다음에 올 경우, 무한 루프에 빠진다.\\n* + 명령어의 다음에 올 경우, 1을 0으로 나눈다.\\n* ++ 명령어의 다음에 올 경우, 객체가 상위 클래스를 하위 클래스로 가지게 된다. 정보 은닉의 원리에 따라 이것을 막는 것은 불가능하다.', 'corpus_source': '위키피디아', 'url': None, 'domain': None, 'title': 'HQ9+', 'author': None, 'html': None, 'document_id': 5720}\n",
      "['9++', '9++', '9++', ' ++']\n",
      "{'text': '섬네일|370px|int 배열 포인터 변수 구조<br/>\\n왼쪽 코드를 x386에서 실행했을 때의 출력 결과 예제 및 도식화\\n\\n  &a = 0x0040DF04\\n  &pa = 0x0040DF00\\n  pa = 0x0040DF04\\n  fun = 0x00401060\\n\\n\\n\\n\\nint a;\\nint *pa;\\n\\nvoid fun(int cnt);\\n\\nvoid printvar()\\n{\\n   printf(\"&a = 0x%08X\\\\n\", &a);\\n   printf(\"&pa = 0x%08X\\\\n\", &pa);\\n   printf(\"pa = 0x%08X\\\\n\", pa);\\n   printf(\"fun= 0x%08X\\\\n\", (int) fun);\\n   return;\\n}\\n\\nvoid fun(int cnt)\\n{\\n   pa = a;\\n\\n   while (cnt) {\\n      *pa = cnt;\\n       pa++;\\n       cnt--;\\n   }\\n}\\n\\n\\n변수 는 특정 데이터 영역의 위치 정보를 가지고 데이터를 액세스하는 것이다. 따라서 실제로 정수형 데이터가 들어가는 것이 아니고, 정수형 데이터가 들어갈 주소값이 저장된다.', 'corpus_source': '위키피디아', 'url': None, 'domain': None, 'title': '포인터 (프로그래밍)', 'author': None, 'html': None, 'document_id': 5808}\n",
      "['a++']\n",
      "{'text': 'C언어에서 변수는 정적변수와 동적변수가 있다. 처리할 데이터의 숫자를 예측할 수 있다면 정적으로 선언하면 된다. 배열변수들이 예이다. 그러나 데이터 처리를 미리 예측할 수 없다면 최대의 데이터 처리량을 정하고 정적으로 선언할 수 밖에 없다. 이 문제를 해결하기 위해 동적 변수를 사용한다.\\n\\nC에서는 전통적으로 동적할당 변수를 잡을 경우 malloc() 함수를 사용하여 데이터 저장공간을 확보한다. 이와 관련된 함수는 다음과 같다.\\n* 할당 : malloc() : 힙영역으로 부터 데이터 공간을 할당 받는다.\\n* 재할당 : realloc(): 이미 할당된 메모리 공간의 크기를 조정한다.\\n* 해제 : free() : 더 이상 쓸 필요가 없는 메모리 공간을 힙영역에 반환한다.\\n\\n그리고 사용이 완료되면 free() 함수로 해제한다. 해제된 메모리 영역은 다시 재활용된다. 프로세서의 메모리 맵에서 힙(heap) 영역을 활용하여 동적 저장 공간을 확보한다. 각 프로세스마다 힙 영역은 크기가 정해져 있기 때문에 무한정 malloc() 함수를 사용하여 동적으로 잡을 수 없다. 따라서 개발자는 free() 함수로 해제해 주어야 한다. 만약 동적 할당을 하지 못하면 주소값이 NULL로 반환된다.\\n\\n\\nint main(int argc, char *argv[])\\n{\\n   int *pa = NULL;\\n\\n   // ...\\n   pa = (int *) malloc( sizeof(int));\\n   if (pa == NULL) {   // malloc()가 NULL 리턴하면 확보 실패.\\n      printf(\"저장공간 확보 실패.\\\\n\");\\n      return -1;\\n   }\\n   *pa = 10;\\n   printf(\"&pa = 0x%08X\\\\n\", &pa);\\n   printf(\"pa = 0x%08X - 내용은 %d\\\\n\", pa, *pa);\\n\\n   // ...\\n   if (pa) free(pa);  // 사용 후 할당 영역을 반납한다.\\n\\n   return 0;\\n}\\n\\n\\nC++에서는 new와 delete가 추가 되었다. 이것은 내부에서 malloc() 함수 기능을 하는 기능을 수행한다. 따라서 표현법이 확장되었고, 힙영역을 활용하는 것은 같다.', 'corpus_source': '위키피디아', 'url': None, 'domain': None, 'title': '포인터 (프로그래밍)', 'author': None, 'html': None, 'document_id': 5809}\n",
      "[' int ', 'return ', 'return ']\n",
      "{'text': \"; TOLOWER:\\n;\\n; Convert a null-terminated character string to all lower case.\\n; Maximum string length is 255 characters, plus the null term-\\n; inator.\\n;\\n; Parameters:\\n;\\n; SRC - Source string address\\n; DST - Destination string address\\n;\\n        ORG $0080\\n;\\n0080 00 04 SRC .WORD $0400 ;source string pointer ($40)\\n0082 00 05 DST .WORD $0500 ;destination string pointer ($42)\\n;\\n0600 ORG $0600 ;execution start address\\n;\\n0600 A0 00 TOLOWER LDY #$00 ;starting index\\n;\\n0602 B1 80 LOOP LDA (SRC),Y ;get from source string\\n0604 F0 11 BEQ DONE ;end of string\\n;\\n0606 C9 41 CMP #'A' ;if lower than UC alphabet...\\n0608 90 06 BCC SKIP ;copy unchanged\\n;\\n060A C9 5B CMP #'Z'+1 ;if greater than UC alphabet...\\n060C B0 02 BCS SKIP ;copy unchanged\\n;\\n060E 09 20 ORA #%00100000 ;convert to lower case\\n;\\n0610 91 82 SKIP STA (DST),Y ;store to destination string\\n0612 C8 INY ;bump index\\n0613 D0 ED BNE LOOP ;next character\\n;\\n; NOTE: If .Y wraps the destination string will be left in an undefined\\n; state. We set carry to indicate this to the calling function.\\n;\\n0615 38 SEC ;report string too long error &...\\n0616 60 RTS ;return to caller\\n;\\n0617 91 82 DONE STA (DST),Y ;terminate destination string\\n0618 18 CLC ;report conversion completed &...\\n0619 60 RTS ;return to caller\\n;\\n                       .END\", 'corpus_source': '위키피디아', 'url': None, 'domain': None, 'title': 'MOS 6502', 'author': None, 'html': None, 'document_id': 6481}\n",
      "['return ', 'return ']\n",
      "{'text': 'class hanoi\\n   predicates\\n       hanoi : (unsigned N).\\nend class hanoi\\n\\nimplement hanoi\\n   domains\\n       pole = string.\\n\\n   clauses\\n       hanoi(N) :- move(N, \"left\", \"centre\", \"right\").\\n\\n   class predicates\\n       move : (unsigned N, pole A, pole B, pole C).\\n   clauses\\n       move(0, _, _, _) :- !.\\n       move(N, A, B, C) :- \\n           move(N-1, A, C, B),\\n           stdio::writef(\"move a disc from % pole to the % pole\\\\n\", A, C),\\n           move(N-1, B, A, C).\\nend implement hanoi\\n\\ngoal\\n   console::init(),\\n   hanoi::hanoi(4).', 'corpus_source': '위키피디아', 'url': None, 'domain': None, 'title': '하노이의 탑', 'author': None, 'html': None, 'document_id': 7192}\n",
      "['stdio']\n",
      "{'text': '함수형 프로그래밍의 Hello world라고 할 만한 것은 팩토리얼을 계산하는 코드이다. 순수 ML로는 다음과 같이 표현할 수 있다.\\n\\n fun fac : (fn: int -> int) 0 = 1\\n  | fac n = n * fac (n-1);\\n\\n이 코드는 팩토리얼을 기본적인 경우(base case)가 하나 있는 재귀 함수로 정의한 것이다. 수학 교과서에서 볼 수 있는 팩토리얼의 정의와 비슷하다. ML 코드는 문법과 계산방식의 측면에서 수학적 언어와 닮았다.\\n\\n팩토리얼 함수의 첫 번째 줄은 이 함수의 자료형을 표시하는 부분이다. ML은 코드로부터 자동으로 변수와 함수의 자료형을 추론하므로 이 부분은 없어도 무방하다. 첫 번째 줄은 \"함수 fac (fac)의 자료형은 (:) 정수에서 정수로 가는 (fn: int -> int) 함수이다.\" 와 같이 해석할 수 있다. 따라서 이 함수는 정수를 인자로 받아 또 다른 정수를 반환하는 함수이다.\\n\\n자료형을 명시하는 부분을 제거하면 코드는 다음과 같이 간단해진다.\\n\\n fun fac 0 = 1\\n  |  fac n = n * fac(n-1);\\n\\n함수의 인자가 괄호로 둘러싸여 있지 않고 공백으로 구분되어 있음을 주목하라. 두 번째 줄은 ML의 또다른 중요한 특성인 패턴 매칭으로 이루어져 있다. 함수 fac은 인자가 0이면 1을 반환한다. 나머지 모든 경우에 대해서는 두 번째 줄을 실행하여 0에 도달할 때까지 fac을 재귀적으로 계속 호출한다.', 'corpus_source': '위키피디아', 'url': None, 'domain': None, 'title': 'ML (프로그래밍 언어)', 'author': None, 'html': None, 'document_id': 7394}\n",
      "[' int ', ' int ']\n",
      "{'text': '예제로 두 함수를 쓰기로 하자. 하나는 참조에 불투명하고 다른 하나는 참조에 투명하다.\\n\\n  globalValue = 0;\\n  integer function rq(integer x)\\n  begin\\n    globalValue = globalValue + 1;\\n    return x + globalValue;\\n  end\\n\\n  integer function rt(integer x)\\n  begin\\n    return x + 1;\\n  end\\n\\n이제 는 참조에 투명하다. 왜냐하면 의 값이 변하지 않는 이상 이기 때문이다. 예를 들어,  등이 성립한다. 그러나 에 대해서는 그런 말을 할 수 없는데 이것이 전역 변수를 변경하기 때문이다.\\n\\n다음과 같은 코드를 보면 참조에 불투명함의 단점을 알 수 있다.\\n\\n  integer p = rq(x) + rq(y) * (rq(x) - rq(x));\\n\\n오른쪽 부분을 계산하여 정리하면 이렇게 될 것이다.\\n\\n  integer p = rq(x) + rq(y) * (0) = \\n  integer p = rq(x) + 0           = \\n  integer p = rq(x);\\n\\n그러나 이것은 에 대해서는 성립하지 않는데 는 와 같지 않기 때문이다. 의 결과값은 전역값에 따라 차이가 있으며 그 전역값이 전달되는 것이 아니라 변경되고 있기 때문이다. 이것은 어떤 식에서 같은 식을 빼면 0이 된다는 상식을 깨뜨린다.\\n\\n그러나 에 대해서는 이런 것들이 통할 것인데, 이것은 참조에 투명한 함수이기 때문이다.', 'corpus_source': '위키피디아', 'url': None, 'domain': None, 'title': '부작용 (컴퓨터 과학)', 'author': None, 'html': None, 'document_id': 8422}\n",
      "['return ', 'return ']\n",
      "{'text': '/*\\n * File name: test.c\\n * For C code compile with:\\n * gcc -c test.c\\n *\\n * For C++ code compile with:\\n * g++ -c test.cpp\\n */\\n\\nint global_var;\\nint global_var_init = 26;\\n\\nstatic int static_var;\\nstatic int static_var_init = 25;\\n\\nstatic int static_function()\\n{\\n\\treturn 0;\\n}\\n\\nint global_function(int p)\\n{\\n\\tstatic int local_static_var;\\n\\tstatic int local_static_var_init=5;\\n\\n\\tlocal_static_var = p;\\n\\n\\treturn local_static_var_init + local_static_var;\\n}\\n\\nint global_function2()\\n{\\n\\tint x;\\n\\tint y;\\n\\treturn x+y;\\n}\\n\\n#ifdef __cplusplus\\nextern \"C\"\\n#endif\\nvoid non_mangled_function()\\n{\\n\\t// I do nothing\\n}\\n\\nint main(void)\\n{\\n\\tglobal_var = 1;\\n\\tstatic_var = 2;\\n\\n\\treturn 0;\\n}\\n\\n\\n\\n이전 코드가 gcc C 컴파일러로 컴파일되면,  명령의 출력은 아래와 같다:\\n\\n# nm test.o\\n0000000a T global_function\\n00000025 T global_function2\\n00000004 C global_var\\n00000000 D global_var_init\\n00000004 b local_static_var.1255\\n00000008 d local_static_var_init.1256\\n0000003b T main\\n00000036 T non_mangled_function\\n00000000 t static_function\\n00000000 b static_var\\n00000004 d static_var_init\\n\\n\\nC++ 컴파일러를 사용하면 출력은 아래와 같이 다르다:\\n\\n# nm test.o\\n0000000a T _Z15global_functioni\\n00000025 T _Z16global_function2v\\n00000004 b _ZL10static_var\\n00000000 t _ZL15static_functionv\\n00000004 d _ZL15static_var_init\\n00000008 b _ZZ15global_functioniE16local_static_var\\n00000008 d _ZZ15global_functioniE21local_static_var_init\\n         U __gxx_personality_v0\\n00000000 B global_var\\n00000000 D global_var_init\\n0000003b T main\\n00000036 T non_mangled_function', 'corpus_source': '위키피디아', 'url': None, 'domain': None, 'title': 'Nm (유닉스)', 'author': None, 'html': None, 'document_id': 8706}\n",
      "['g++', ' int ', ' int ', ' int ', 'return ', ' int ', ' int ', 'return ', 'return ', 'def ', 'return ']\n",
      "{'text': '/***********************************\\n* *\\n* PersonBean.java *\\n* *\\n************************************/\\npublic class PersonBean implements java.io.Serializable\\n{\\n    private String name;\\n    private boolean coding;\\n\\n    // 기본 생성자 (인자가 없는).\\n    public PersonBean()\\n    {\\n\\n    }\\n\\n    public String getName()\\n    {\\n        return this.name;\\n    }\\n    public void setName(String name)\\n    {\\n        this.name = name;\\n    }\\n\\n    // Different semantics for a boolean field (is vs. get)\\n\\n    public boolean isCoding()\\n    {\\n        return this.coding;\\n    }\\n\\n    public void setCoding(boolean coding)\\n    {\\n        this.coding = coding;\\n    }\\n}\\n\\n\\n\\n/***********************************\\n* *\\n* TestPersonBean.java *\\n* *\\n************************************/\\n\\npublic class TestPersonBean\\n{\\n    public static void main(String[] args)\\n    {\\n\\n        PersonBean person = new PersonBean();\\n        person.setName(\"Bob\");\\n        person.setCoding(true);\\n\\n        // Output: \"Bob [coding]\"\\n        System.out.print(person.getName());\\n        System.out.println(person.isCoding() ? \" [coding]\" : \"\");\\n    }\\n}', 'corpus_source': '위키피디아', 'url': None, 'domain': None, 'title': '자바빈즈', 'author': None, 'html': None, 'document_id': 9193}\n",
      "['return ', 'return ']\n",
      "{'text': '예제를 보면, 두 개의 함수가 있는데, 하나는 참조 상 불투명하고 다른 하나는 참조 상 투명하다:\\n int globalValue = 0;\\n\\n int rq(int x)\\n {\\n   globalValue++;\\n   return x + globalValue;\\n }\\n\\n int rt(int x)\\n {\\n   return x + 1;\\n }\\n함수 는 참조 상 투명한데, 이는 일 때, 임을 의미한다. 예를 들어, ,  등을 말한다. 하지만, 우리는 에 대해 그렇다고 얘기할 수 없는데 수정 가능한 글로벌 변수를 사용하기 때문이다.\\n\\nrq의 참조 불투명성은 프로그램에 관한 추론을 더 어렵게 만든다. 예를 들어, 다음 구문에 관해 추론하려고 한다고 하자:\\n integer p = rq(x) + rq(y) * (rq(x) - rq(x));\\n누군가 이 구문을 다음과 같이 단순화하려고 할 수도 있다:\\n integer p = rq(x) + rq(y) * (0);\\n integer p = rq(x) + 0;\\n integer p = rq(x);\\n하지만, 이것은 에 적용할 수 없는데 가 실행될 때마다 다른 값을 평가할 수 있기 때문이다. 전달되지 않고 에 대한 호출마다 수정될 수 있는 전역 변수에 의 반환 값이 의존하고 있음을 기억하자. 이것은 과 같은 수학적 정체성이 더 이상은 유지되지 않음을 의미한다.\\n\\n그러한 수학적 정체성은 와 같은 참조 투명한 함수에게는 유지될 것이다.\\n\\n하지만, 좀 더 복잡한 분석을 사용해 해당 구문을 다음과 같이 단순화할 수 있다:\\n\\ninteger a = globalValue; integer p = x + a + 1 + (y + a + 2) * (x + a + 3 - (x + a + 4)); globalValue = globalValue + 4;\\ninteger a = globalValue; integer p = x + a + 1 + (y + a + 2) * (x + a + 3 - x - a - 4)); globalValue = globalValue + 4;\\ninteger a = globalValue; integer p = x + a + 1 + (y + a + 2) * -1; globalValue = globalValue + 4;\\ninteger a = globalValue; integer p = x + a + 1 - y - a - 2; globalValue = globalValue + 4;\\ninteger p = x - y - 1; globalValue = globalValue + 4;\\n\\n\\n이것은 좀 더 많은 단계를 필요로 하며 컴파일러 최적화를 위해 실행 불가능한 코드에 대한 어느 정도의 통찰력을 요구한다.\\n\\n그러므로 참조 투명성으로 인해 우리는 코드에 대해 추론할 수 있게 되어 좀 더 견고한 프로그램과 테스트를 통해 찾을 수 없는 버그를 발견할 가능성 그리고 최적화 기회 탐색에 대한 가능성을 높일 수 있을 것이다.', 'corpus_source': '위키피디아', 'url': None, 'domain': None, 'title': '참조 투명성', 'author': None, 'html': None, 'document_id': 9384}\n",
      "[' int ', ' int ', 'e++', 'return ', ' int ', 'return ']\n",
      "{'text': '투베르쿨린(Tuberkulin)은 Koch에 의해 발견된 항산성균인 결핵균에 의한 이환여부를 판정하기 위한 피부 검사에 쓰이는 특정한 물질이다.  그 종류는 결핵균의 추출물로부터 만든 것과 결핵균 자체로부터 만든 것이 있다. 전자가 바로 결핵균의 배양물을 가열살균하여 죽은 결핵균을 여과과정을 통하여 버리고 그 여과물을 10%의 부피로 농축시켜서 만든 Koch의 PPD이며, 후자는 성장한 결핵균의 배양물을 적당한 방법으로 살균처리한 것을 중성황산암모니움 등으로 침전시키고 추출한 순수단백질로서의 PPD이고, 1952년 WHO에서 책정하여 현재까지도 국제표준투베르쿨린으로 자리를 잡은 것은 미국에서 사용되기 시작하여 보편화된 후자다. 학계에서는 Koch의 PPD를 OT(Old Tuberculin)라고 하여 표준적 PPD(Purified Protein Derivate)와는 구분을 하고 있다. \\n\\n\\n\\n소독된 피부내에 결핵균 배양여액의 1000배 희석액 0.1cc를 주사하여 통상 48시간 경과한 후부터 72시간 경과한 범위내 반응을 확인한다. \\n\\nWHO 국제표준으로서는\\n\\n1. 보통 직경이 4mm이하 피부융기 음성 -\\n\\n2. 5~9mm정도로는 의양성 士\\n\\n3. 10mm이상은 약양성 +\\n\\n4. 10mm이상으로서 경결 중등양성 ++\\n\\n5. 10mm이상으로서 경결 및 이중발적 수포 괴사 강양성 +++\\n\\n\\n상기의 기준으로 판정한다.\\n\\n결핵증은 투베르쿨린 반응, X선 검사 및 객담 검사 3가지를 종합하여 양성으로 판정되면 양성으로 확진된다.', 'corpus_source': '위키피디아', 'url': None, 'domain': None, 'title': '투베르쿨린', 'author': None, 'html': None, 'document_id': 10361}\n",
      "[' ++', ' ++']\n",
      "{'text': '에바리스트 갈루아 LFSR 혹은, 갈루아 설정의 LFSR는, 전통적인 LFSR처럼 동일한 수열을 생성할 수 있는 대체 구조이다.\\n\\n갈루아 설정에서, 시스템에 클럭이 인가될때, 탭되지 않은 비트는 일반적으로 시프트된다. 반대로, 탭은, 새로운 출력과 배타적 논리합되어서, 항상 새로운 입력이 된다. 동일한 수열을 생성하기 위해서, 탭의 순서는 전통적인 LFSR의 순서와 반대로 된다.\\n\\n* 갈루아 LFSR는 새로운 입력을 생성하는데 모든 탭과 연결되지 않는다. (배타적 논리합은 LFSR내에서 완료되고 배타적 논리합이 직렬로 연산되는 것은 없다. 그러므로 연산 시간은 전체 회로보다 더 빠른 하나의 배타적 논리합으로 감소된다.) 그러므로 각 탭이 병렬로 연산하는 것이 가능해서, 실행 속도를 증가시킨다.\\n* LFSR의 소프트웨어 구현에서, 갈루아 형식은 더 효과적인 만큼 배타적 논리합 연산이 한번에 워드를 연산할 수 있다: 출력 비트만은 개별적으로 검토되어야 한다.\\n\\n \\n32비트 최대 주기를 갖는 갈루아 LFSR의 C 예제 코드:\\n\\n\\n  unsigned int lfsr = 1;\\n  while(1)\\n    lfsr = (lfsr >> 1) ^ (-(signed int)(lfsr & 1) & 0x8000000bu); /* taps 32 4 2 1 */', 'corpus_source': '위키피디아', 'url': None, 'domain': None, 'title': '선형 되먹임 시프트 레지스터', 'author': None, 'html': None, 'document_id': 10584}\n",
      "[' int ']\n",
      "{'text': '아래의 예제는 Low Level RPython라는 강좌에 포함되어 있는 것을 옮긴 것이다.\\n\\n\\n# fib.py\\n\\ndef fib(n):\\n\\tif n < 2:\\n\\t\\treturn 1\\n\\telse:\\n\\t\\treturn fib(n-1) + fib(n-2)\\n\\n# entry point. Like C main()\\ndef main(argv):\\n\\tprint fib(int(argv))\\n\\treturn 0\\n\\ndef target(*args):\\n\\treturn main, None\\n\\n\\nRPython은 target이라는 함수가 돌려주는 함수에 대해 변환을 하므로 target을 반드시 정의해 줘야 한다.\\ntarget이 돌려주는 변환 대상인 함수는 명령줄에 주어진 값을 인수로 받고 정수값을 돌려주는 형태여야 한다.\\n\\n이 예제를 실행해 보는 일은\\nPyPy를 소스로부터 만드는 과정과 완전히 같은 것이다. 단지 대상만 PyPy 자신이 아니라 fib.py로 바뀌는 것이다.\\n\\n\\npypy <PyPy 소스 디렉토리>/rpython/bin/rpython fib.py\\n\\n\\n또는 CPython를 사용해서\\n\\n\\npython <PyPy 소스 디렉토리>/rpython/bin/rpython fib.py\\n\\n라고 해도 된다.\\n\\nRPython은 엄청난 양의 출력을 쏟아 내면서 변환 과정을 진행한다.\\n컴퓨터의 성능에 따라 다르겠지만, 수십 초에서 길면 수 분도 걸리는 작업이다.\\n\\n최종적으로 fib-c(윈도에서는 fib-c.exe)라는 파일을 만들어 낸다.\\n당연히 이 최종결과를 얻으려면 컴퓨터에 C 컴파일러가 설치되어 있어야 한다.', 'corpus_source': '위키피디아', 'url': None, 'domain': None, 'title': 'RPython', 'author': None, 'html': None, 'document_id': 11500}\n",
      "['def ', 'return ', 'return ', 'def ', 'return ', 'def ', 'return ']\n",
      "{'text': 'AC-3 알고리즘은, 주어진 제약, 변수, 변수의 정의역(domains) 내에서 동작한다. 변수는 여러 이산(discrete) 값을 가질 수 있다; 어떤 변수가 가질 수 있는 값들의 집합을 가리켜 정의역(혹은 변역)이라 한다. 제약이란 변수가 가질 수 있는 값을 제한하거나 제약하는 관계를 말한다. 제약은 어떤 다른 변수의 값에 관계된 것을 수도 있다.\\n\\n제약 만족 문제는 유향 그래프로서 표현될 수 있다. 꼭짓점이 변수가 된다. 꼭짓점 사이의 변들은 제약조건을 나타낸다. AC-3 알고리즘은 변수들 (x, y)의 순서쌍 변을 하나하나 보며 진행된다. x와 y 사이의 제약 조건과 불일치(inconsistent)한 x와 y의 값들이 있으면 x와 y의 정의역에서 각각 제거해나간다.\\n\\n설명을 위해, 간단한 제약 문제 하나를 예로 들겠다:\\nX (변수)는 값으로서 {0, 1, 2, 3, 4, 5} 중 하나를 가질 수 있다. -- 이러한 값들의 집합이 X의 정의역이 된다. D(X)라고 적는다. 마찬가지로 변수 \\'Y가 정의역 D(Y) = {0, 1, 2, 3, 4, 5}를 갖는다고 하자. 제약 C1 = \"X는 짝수이어야 한다.\", C2 = \"X + Y는 4이어야 한다.\"를 추가하면, 이제 AC-3으로 해결할 수 있는 제약 조건 문제(CSP)가 된다. 여기서, 앞서 말한 문제의 그래프 그림에서는, 제약 C2가 무방향성(undirected)이므로 X와 \\'Y 간의 두 개의 변(edge)이 방향이 없는 변(undirected edge)인 것인 데 반해, 일반적으로 AC-3 알고리즘이 이용하는 그래프 그림은 방향이 있는 변(directed edge)을 쓴다는 것에 유의해야 한다.\\n\\n우선, X의 정의역에서 제약 C1에 맞추어 짝수가 아닌 수들을 제거한다. D(X) = { 0, 2, 4 }가 된다. 그런 다음 X와 Y 사이의 호(arc)를 제약 C2에 따라 조사한다. 순서쌍 (X=0, Y=4), (X=2, Y=2), (X=4, Y=0)만이 C2에 만족한다. AC-3 알고리즘은 D(X) = {0, 2, 4}, D(Y) = {0, 2, 4}임을 결정하고 이제 종료한다.\\n\\nAC-3의 슈도-코드는 다음과 같다:\\n\\n  Input:\\n    A set of variables X\\n    A set of domains D(x) for each variable x in X. D(x) contains vx0, vx1... vxn, the possible values of x\\n    A set of unary constraints R1(x) on variable x that must be satisfied\\n    A set of binary constraints R2(x, y) on variables x and y that must be satisfied\\n\\n  Output:\\n    Arc consistent domains for each variable.\\n\\n  function ac3 (X, D, R1, R2)\\n  // Initial domains are made consistent with unary constraints.\\n      for each x in X\\n          D(x) := { x in D(x) | R1(x) }\\n      // \\'worklist\\' contains all arcs we wish to prove consistent or not.\\n      worklist := { (x, y) | there exists a relation R2(x, y) or a relation R2(y, x) }\\n\\n      do\\n          select any arc (x, y) from worklist\\n          worklist := worklist - (x, y)\\n          if arc-reduce (x, y)\\n              if D(x) is empty\\n                  return failure\\n              else\\n                  worklist := worklist + { (z, x) | z != y }\\n      while worklist not empty\\n\\n  function arc-reduce (x, y)\\n      bool change = false\\n      for each vx in D(x)\\n          find a value vy in D(y) such that vx and vy satisfy the constraint R2(x, y)\\n          if there is no such vy {\\n              D(x) := D(x) - vx\\n              change := true\\n          }\\n      return change\\n\\n이 알고리즘은 워스트-케이스 타임 컴플렉시티(worst-case time complexity)가 O(ed³)이다. 여기서 e는 변(edge)의 개수이고, d는 가장 사이즈가 큰 정의역(domain)의 사이즈이다.', 'corpus_source': '위키피디아', 'url': None, 'domain': None, 'title': 'AC-3 알고리즘', 'author': None, 'html': None, 'document_id': 11668}\n",
      "['return ', 'return ']\n",
      "{'text': '독점 시장에서는 완전 경쟁 시장과는 달리 공급자의 생산량 조절이 가격에 영향을 미쳐 공급자의 한계 수익 MR은\\n:\\\\begin{matrix}\\nMR &=& \\\\frac{dP(Q)Q}{dQ}& \\\\\\\\ &=& Q\\\\frac{dP(Q)}{dQ} + P(Q)& \\\\mbox{ where } \\\\frac{dP(Q)}{dQ} < 0\\n\\\\end{matrix}\\n로 항상 수요곡선 아래에 위치한다.  공급자의 이윤 극대화 조건을 만족하기 위해서는 한계 수익과 한계 비용이 같아지는 점에서 생산량을 정하고, 시장 가격은 생산자의 한계 비용 곡선보다 높은 점에서 결정된다. 독점 시장에서는 높은 가격의 설정으로 인해 완전 경쟁에서의 소비자 잉여의 일부가 생산자 잉여로 전환되는 한편, 완전 경쟁 시장에서보다 균형 생산량이 적어지므로 그림에서 노란 삼각형만큼의 자중손실이 발생한다', 'corpus_source': '위키피디아', 'url': None, 'domain': None, 'title': '독점', 'author': None, 'html': None, 'document_id': 11783}\n",
      "['\\\\frac', '\\\\frac', '\\\\frac']\n",
      "{'text': 'pq.enqueue(start_node, g(start_node) + h(start_node))       // 우선순위 큐에 시작 노드를 삽입한다.\\n\\nwhile pq is not empty       // 우선순위 큐가 비어있지 않은 동안\\n    node = pq.dequeue       // 우선순위 큐에서 pop한다.\\n\\n    if node == goal_node    // 만약 해당 노드가 목표 노드이면 반복문을 빠져나온다.\\n        break\\n\\n    for next_node in (next_node_begin...next_node_end)       // 해당 노드에서 이동할 수 있는 다음 노드들을 보는 동안\\n        pq.enqueue(next_node, g(node) + cost + h(next_node)) // 우선순위 큐에 다음 노드를 삽입한다.\\n\\nreturn goal_node_dist       // 시작 노드에서 목표 노드까지의 거리를 출력한다.', 'corpus_source': '위키피디아', 'url': None, 'domain': None, 'title': 'A* 알고리즘', 'author': None, 'html': None, 'document_id': 12104}\n",
      "['return ']\n",
      "{'text': \"(1) 정의\\n\\ndrop function if exists DecToNshin;   -- 존재한다면 삭제\\ndelimiter //                          -- 마침 기호의 변경\\ncreate function DecToNshin\\n(dec_num       int,\\n n_shin        tinyint)\\n returns varchar(32)\\n--\\n-- 10진수→n진수\\n--\\nbegin\\n declare ltr          char(36) default '0123456789ABCDEFGHIJKLMNOPQRSTUVWXYZ';\\n declare w_dec_num    int;\\n declare amari        int;\\n declare w_DecToNshin varchar(32);\\n set w_DecToNshin=;\\n set w_dec_num=dec_num;\\n while w_dec_num>=n_shin do\\n  set amari=mod(w_dec_num,n_shin);\\n  set w_DecToNshin=concat(substr(ltr,amari+1,1),w_DecToNshin);\\n  set w_dec_num=w_dec_num div n_shin;\\n end while;\\n set w_DecToNshin=concat(substr(ltr,w_dec_num+1,1),w_DecToNshin);\\n return w_DecToNshin;\\nend;\\n//\\ndelimiter ;                       -- 마침기호 취소\\n\\n\\n(2) 실행\\n\\nSELECT DecToNshin(100,16);        -- 100을 16진수로 하면?\", 'corpus_source': '위키피디아', 'url': None, 'domain': None, 'title': '저장 프로시저', 'author': None, 'html': None, 'document_id': 12700}\n",
      "['return ']\n",
      "{'text': \"(1) 테이블 정의 및 데이터\\n\\ncreate table gengou\\n(bgn_date    date,\\n end_date    date,\\n gengou_name varchar(4));\\ninsert into gengou values\\n('1868-01-01','1912-07-30','메이지'),\\n('1912-07-30','1926-12-25','다이쇼'),\\n('1926-12-25','1989-01-07','쇼'),\\n('1989-01-08','9999-12-31','헤이세이');\\n\\n\\n(2) 정의\\n\\ndrop function if exists cng_gengou;   -- 존재한다면 삭제\\ndelimiter //                          -- 마침기호 변경\\ncreate function cng_gengou\\n(p_seireki_date date)\\n returns varchar(30)\\n--\\n-- 서기→일본력\\n--\\nbegin\\n declare w_rcnt        int         default 0;    -- 행 line  확인\\n declare w_gengou_name varchar(4)  default ;   -- 연호명\\n declare w_bgn_date    date;                     -- 시작일\\n declare w_nensuu      tinyint     default 0;    -- 일본력 년\\n declare w_rslt        varchar(30) default ;   -- 결과\\n-- \\n select count(*)\\n  into w_rcnt\\n  from gengou\\n  where bgn_date<=p_seireki_date and end_date>=p_seireki_date;\\n if w_rcnt>1 then\\n  set w_rslt='2행 이상 존재하기 때문에 지원하지 않음';\\n else\\n  select gengou_name,bgn_date\\n   into w_gengou_name,w_bgn_date\\n   from gengou\\n   where bgn_date<=p_seireki_date and end_date>=p_seireki_date;\\n  if length(w_gengou_name)>0 then\\n   set w_nensuu=year(p_seireki_date)-year(w_bgn_date)+1;\\n   set w_rslt=concat(w_gengou_name,cast(w_nensuu as char(2)));\\n  else\\n   set w_rslt='change unsuccessful';\\n  end if;\\n end if;\\n return w_rslt;\\nend;\\n//\\ndelimiter ;                       -- 종결기호 취소\\n\\n\\n(3) 실행\\n\\nselect cng_gengou('2006-07-19');\", 'corpus_source': '위키피디아', 'url': None, 'domain': None, 'title': '저장 프로시저', 'author': None, 'html': None, 'document_id': 12702}\n",
      "[' int ', 'return ']\n",
      "{'text': '(1) 테이블 정의 및 데이터\\n:\"함수 예제2 (DB 작업 있음)\"와 같다.\\n(2) 정의\\n\\ndrop procedure if exists cng_gengou;   -- 존재한다면 삭제\\ndelimiter //                          -- 마침기호 변경\\ncreate procedure cng_gengou\\n(in  p_seireki_date date,\\n out p_rslt         varchar(30))\\n--\\n-- 서기→일본력\\n--\\nbegin\\n declare w_rcnt        int         default 0;    -- 행 line 확인\\n declare w_gengou_name varchar(4)  default ;   -- 연호이름\\n declare w_bgn_date    date;                     -- 시작일\\n declare w_nensuu      tinyint     default 0;    -- 일본력 년\\n-- \\n select count(*)\\n  into w_rcnt\\n  from gengou\\n  where bgn_date<=p_seireki_date and end_date>=p_seireki_date;\\n if w_rcnt>1 then\\n  set p_rslt=\\'2행 이상 존재하기 때문에 지원하지 않음\\';\\n else\\n  select gengou_name,bgn_date\\n   into w_gengou_name,w_bgn_date\\n   from gengou\\n   where bgn_date<=p_seireki_date and end_date>=p_seireki_date;\\n  if length(w_gengou_name)>0 then\\n   set w_nensuu=year(p_seireki_date)-year(w_bgn_date)+1;\\n   set p_rslt=concat(w_gengou_name,cast(w_nensuu as char(2)));\\n  else\\n   set p_rslt=\\'change unsuccessful\\';\\n  end if;\\n end if;\\nend;\\n//\\ndelimiter ;                       -- 마침기호 취소\\n\\n\\n(3) 실행\\n\\ncall cng_gengou(\\'2006-07-19\\',@rslt);\\nselect @rslt;', 'corpus_source': '위키피디아', 'url': None, 'domain': None, 'title': '저장 프로시저', 'author': None, 'html': None, 'document_id': 12703}\n",
      "[' int ']\n",
      "{'text': '(1) 테이블 정의 및 데이터\\n:\"함수 예제2 (DB작업 있음)\"와 같다.\\n\\n(2) 정의\\n\\ndrop procedure if exists cng_gengou;   -- 존재한다면 삭제\\ndelimiter //                          -- 마침기호 변경\\ncreate procedure cng_gengou\\n(in  p_seireki_date date,\\n out p_rslt         varchar(30))\\n--\\n-- 서기→일본력\\n--\\nbegin\\n declare w_rcnt        int         default 0;    -- 행 수 확인\\n declare w_gengou_name varchar(4)  default ;   -- 연호이름\\n declare w_bgn_date    date;                     -- 시작일\\n declare w_nensuu      tinyint     default 0;    -- 일본력 년\\n declare eod           tinyint;\\n-- 커서 선언\\n declare cr1 cursor for\\n  select gengou_name,bgn_date\\n   from gengou\\n   where bgn_date<=p_seireki_date and end_date>=p_seireki_date;\\n-- 예외 선언\\n declare continue handler for not found set eod=1;\\n\\n set eod=0;\\n open cr1;\\n fetch cr1 into w_gengou_name,w_bgn_date;\\n while eod=0 do\\n  set w_rcnt=w_rcnt+1;\\n  if w_rcnt>1 then\\n   set p_rslt=\\'2행 이상 존재하기 때문에 지원하지 않음\\';\\n  else\\n   if length(w_gengou_name)>0 then\\n    set w_nensuu=year(p_seireki_date)-year(w_bgn_date)+1;\\n    set p_rslt=concat(w_gengou_name,cast(w_nensuu as char(2)));\\n   else\\n    set p_rslt=\\'change unsuccessful\\';\\n   end if;\\n  end if;\\n  fetch cr1 into w_gengou_name,w_bgn_date;\\n end while;\\n close cr1;\\nend;\\n//\\ndelimiter ;                       -- 종결기호 취소\\n\\n\\n(3) 실행\\n\\ncall cng_gengou(\\'2006-08-10\\',@rslt);\\nselect @rslt;', 'corpus_source': '위키피디아', 'url': None, 'domain': None, 'title': '저장 프로시저', 'author': None, 'html': None, 'document_id': 12704}\n",
      "[' int ']\n",
      "{'text': '계산 작업은 여러 방식에 따라 효율성이 달라진다. 이를테면, 1에서 N까지의 모든 정수를 합하는 다음의 C 코드를 보라.\\n\\n int i, sum = 0;\\n for (i = 1; i <= N; i++)\\n   sum += i;\\n printf (\"합: %d\\\\n\", sum);\\n\\n아래의 코드는 수학 공식을 사용하여 다시 구성한 것이다: (산술 오버플로우가 없다는 가정 아래)\\n\\n int sum = (N * (N+1)) / 2;\\n printf (\"합: %d\\\\n\", sum);\\n\\n그러므로, 자동으로 완료되는 최적화는 비록 둘 다 기능이 똑같이 수행되지만 계산하기에 더 효과적인 방식을 채택하는 것이다. 그러나 성능 상의 중대한 개선은 실제 문제만 해결하고 부가되는 기능을 제거함으로써 이룩할 수 있다.\\n\\n최적화는 언제나 명백하거나 직관적인 과정인 것은 아니다. 위의 예시에서 \\'최적화된\\' 버전은 원래의 소프트웨어보다 실제로 더 느리게 동작할 수도 있다. 이를테면 N이 작고 컴퓨터가 나누기, 곱셈보다 더하기, 루프 함수를 수행하는 쪽이 더 빠르다면 말이다.', 'corpus_source': '위키피디아', 'url': None, 'domain': None, 'title': '프로그램 최적화', 'author': None, 'html': None, 'document_id': 12844}\n",
      "[' int ', 'i++', '+=', ' int ']\n",
      "{'text': '다음은 메모리 보호를 사용하는 플랫폼에서 세그멘테이션 결함을 만드는 ANSI C 코드이다.\\n\\n     const char *s = \"hello world\";\\n     *s = \\'H\\';\\n\\n\\n위 코드를 포함하는 프로그램이 컴파일되면, 문자열 \"hello world\"는 이 프로그램에서 읽기 전용이 된다. 프로그램이 로드되었을 때, 운영 체제는 이 문자열과 상수 데이터를 메모리의 읽기 전용 세그먼트에 배치한다. 프로그램이 실행되면, 변수 \\'s\\'는 이 문자열의 위치를 가리키게 되고, \\'H\\'라는 문자열을 변수 s를 통해 메모리에 기록하려는 시도는 곧 세그멘테이션 결함을 일으키게 된다.\\n\\nOpenBSD 4.0에서 이런 프로그램을 컴파일하고 실행하면 다음과 같은 런타임 오류가 발생한다.\\n\\n\\n $ gcc segfault.c -g -o segfault\\n $ ./segfault\\n Segmentation fault\\n\\n\\nGDB(GNU 디버거)를 통한 추적 결과:\\n\\n\\n Program received signal SIGSEGV, Segmentation fault.\\n 0x1c0005c2 in main () at segfault.c:6\\n 6               *s = \\'H\\';\\n\\n\\n대조적으로, GNU/Linux에서 GCC 4.1.1로 같은 시도를 하면 컴파일 에러가 발생한다.\\n\\n\\n $ gcc segfault.c -g -o segfault\\n segfault.c: In function ‘main’:\\n segfault.c:4: error: assignment of read-only location\\n\\n\\n즉 세그멘테이션 경고가 발생하는 조건이나 그것을 사용자에게 알려주는 방법은 운영 체제에 따라서도 다르다.\\n\\n널 포인터 역참조(주소 \\'0\\'을 참조하는 포인터인 널 포인터를 통한 읽기나 쓰기로, C에서 \\'아무것도 가리키지 않는 포인터\\'를 나타내기 위해서 또는 오류 지시자로 사용)는 흔히 일어나는 오류이기 때문에, 대부분의 운영 체제는 메모리의 첫 페이지(주소 0에서 시작하는)를 살피며, 따라서 여기에 접근하면 세그멘테이션 결함이 발생한다.\\n\\n\\n int* ptr = (int*) 0x00000000;\\n *ptr = 1;\\n\\n\\n위 샘플 코드는 메모리 주소 0x00000000에 접근하는 포인터를 생성하고, 그 곳에 값을 할당하려고 시도한다. 이런 행동은 많은 컴파일러에서 세그멘테이션 결함을 일으킨다.', 'corpus_source': '위키피디아', 'url': None, 'domain': None, 'title': '세그멘테이션 오류', 'author': None, 'html': None, 'document_id': 13630}\n",
      "['const ']\n",
      "{'text': 'If-Elif-Else:\\n\\n  a = math.rand();\\n  if( a > 0.75 ){\\n     a -= 0.75\\n  }elif( a > 0.5 ){\\n     a -= 0.5\\n  }else{\\n     a -= 0.25\\n  }\\n\\nWhile:\\n\\n  i = 0;\\n  while( i < 10 ) i++\\n\\nFor:\\n\\n  for( i=0; i<10; i++ ) stdio.println( i )\\n  for( i=0 : 9 ) stdio.println( i )\\n  for( i=0 : 2 : 9 ) stdio.println( i )\\n\\nFor-in:\\n\\n  a_list = { 1, 2, 3 }\\n  for( it in a_list ) stdio.println( it )\\n  a_list2 = { \"a\", \"b\", \"c\" }\\n  for( it in a_list; it2 in a_list2 ) stdio.println( it, it2 )\\n\\nFor-in 구문은 해시(hash)에도 쓸 수 있다.\\n\\nSwitch\\n\\n  a = \"abc\"\\n  switch( a ){\\n    case 1 : a += 123;\\n    case \"abc\" : a += \"456\"\\n    default : stdio.println( \"default case\" )\\n  }', 'corpus_source': '위키피디아', 'url': None, 'domain': None, 'title': '다오 (프로그래밍 언어)', 'author': None, 'html': None, 'document_id': 15291}\n",
      "['i++', 'i++', 'stdio', 'stdio', 'stdio', 'stdio', 'stdio', '+=', '+=', 'stdio']\n",
      "{'text': '다오에서는 기본적인 함수를 \"루틴\"(routine)이라고 부른다. 기본적인 함수는 다음과 같은 모양새를 갖는다.\\n\\n\\n  routine foo( a, b : string, c = 123 ) => int\\n  {\\n     return 456;\\n  }\\n\\n다오는 일차 함수(first-order functions)를 지원한다. 보통의 함수 정의와 정의 방식은 똑같다. 하지만 다음과 같은 차이점을 갖는다.\\n* 함수 이름을 꼭 써 줄 필요가 없다. 하지만 생성한 함수는 꼭 변수에 할당하여야 한다.\\n* 기본값(the default value) 식(expressions)은 상수 식(constant expressions)일 필요가 없다. 런타임에 함수가 생성될 때, 계산된다.\\n* 함수 바디(body)는 그 함수를 생성해주는 \"상위\" 함수에서 정의하고 있는 변수들을 포함할 수 있다.\\n\\n  a = \"ABC\";\\n  rout = routine( x, y : string, z = a+a ){\\n     a += \"_abc\";\\n     stdio.println( \"lambda \", a )\\n     stdio.println( \"lambda \", y )\\n     stdio.println( \"lambda \", z )\\n  }\\n  rout( 1, \"XXX\" );', 'corpus_source': '위키피디아', 'url': None, 'domain': None, 'title': '다오 (프로그래밍 언어)', 'author': None, 'html': None, 'document_id': 15292}\n",
      "['return ', '+=', 'stdio', 'stdio', 'stdio']\n",
      "{'text': '검사와 지정(test-and-set) 명령어는 동시성을 제어하기 위한 동기화 명령어 중 하나로서, 하드웨어의 도움을 받아 수행된다. 이것을 활용하면 상호 배제 등을 편리하게 구현할 수 있다. 이 명령어는 원자성을 가져 명령어가 실행되는 도중에 인터럽트될 수 없으며,  명령어 내에서 수행되는 두 명령어 \"boolean initial = lock\" 과 \"lock = true\"는 동시에 실행되어 둘 다 실행되거나 둘 중 하나가 실행되지 않으면 나머지 하나도 실행되지 않는다.\\n\\n function TestAndSet(boolean_ref lock) {\\n     boolean initial = lock\\n     lock = true\\n     return initial\\n }\\n검사와 지정을 활용하여 상호 배제를 구현하는 방법의 예제 \\ndo {\\n    while(TestAndSet(&lock))\\n        ; // do nothing\\n        // critical section\\n    lock = false;\\n        // remainder section\\n} while(true);\\n코드 해설 :\\n\\nlock 값이 true일 때는 initial 값이 항상 true이기 때문에 TestAndSet은 항상 true를 반환한다. 따라서 프로세스는 while(TestAndSet(&lock)); 루프를 빠져나가지 못한다. 이것은 다른 프로세스 하나가 임계구역(Critical Section)에 진입했음을 의미한다.\\n\\n임계구역에 진입했던 프로세스는 임계구역을 빠져나오면서 lock = false; 를 수행한다.\\n\\n그때 대기중이던 프로세스 중 가장 먼저 TestAndSet을 실행한 프로세스가 while(TestAndSet(&lock)); 루프에서 false를 반환받고 while문을 빠져나오며 임계구역에 진입한다.\\n\\n이 과정에서 boolean initial = lock; 과 lock = true;는 동시에 실행되므로 다른 프로세스들은 계속 while(TestAndSet(&lock)); 루프를 빠져나오지 못하고 계속 대기한다.\\n\\n임계구역에 진입했던 프로세스는 임계구역을 빠져나오면서 lock = false; 를 수행한다.\\n\\n위의 과정이 반복된다.', 'corpus_source': '위키피디아', 'url': None, 'domain': None, 'title': '검사와 지정', 'author': None, 'html': None, 'document_id': 15669}\n",
      "['return ']\n",
      "{'text': '/// merge sort range : [low ~ high]\\nvoid mergeSort(int A[], int low, int high, int B[]){\\n    // 1. base condition\\n    if(low >= high) return;\\n\\n    // 2. divide\\n    int mid = (low + high) / 2;\\n\\n    // 3. conquer\\n    mergeSort(A, low, mid, B);\\n    mergeSort(A, mid+1, high, B);\\n\\n    // 4. combine\\n    int i=low, j=mid+1, k=low;\\n    for(;k<=high;++k){\\n        if(j > high ) B[k] = A[i++];\\n        else if(i > mid) B[k] = A[j++];\\n        else if(A[i] < A[j]) B[k] = A[i++];\\n        else B[k] = A[j++];\\n    }\\n\\n    // 5. copy\\n    for(i=low;i<=high;++i) A[i] = B[i];\\n}', 'corpus_source': '위키피디아', 'url': None, 'domain': None, 'title': '합병 정렬', 'author': None, 'html': None, 'document_id': 16070}\n",
      "[' int ', ' int ', ' int ', ' int ', ' int ', ';++', 'i++', 'j++', 'i++', 'j++', ';++']\n",
      "{'text': 'Pizza example:\\n\\n//Our pizzas\\nfunction HamAndMushroomPizza(){\\n  var price = 8.50;\\n  this.getPrice = function(){\\n    return price;\\n  }\\n}\\n\\nfunction DeluxePizza(){\\n  var price = 10.50;\\n  this.getPrice = function(){\\n    return price;\\n  }\\n}\\n\\nfunction SeafoodPizza(){\\n  var price = 11.50;\\n  this.getPrice = function(){\\n    return price;\\n  }\\n}\\n\\n//Pizza Factory\\nfunction PizzaFactory(){\\n  this.createPizza = function(type){\\n     switch(type){\\n      case \"Ham and Mushroom\":\\n        return new HamAndMushroomPizza();\\n      case \"DeluxePizza\":\\n        return new DeluxePizza();\\n      case \"Seafood Pizza\":\\n        return new SeafoodPizza();\\n      default:\\n          return new DeluxePizza();\\n     }\\n  }\\n}\\n\\n//Usage\\nvar pizzaPrice = new PizzaFactory().createPizza(\"Ham and Mushroom\").getPrice();\\nalert(pizzaPrice);', 'corpus_source': '위키피디아', 'url': None, 'domain': None, 'title': '팩토리 메서드 패턴', 'author': None, 'html': None, 'document_id': 17096}\n",
      "['return ', 'return ', 'return ', 'return ', 'return ', 'return ', 'return ']\n",
      "{'text': 'Pizza example:\\n\\nclass HamAndMushroomPizza\\n  def price\\n    8.50\\n  end\\nend\\n\\nclass DeluxePizza\\n  def price\\n    10.50\\n  end\\nend\\n\\nclass SeafoodPizza\\n  def price\\n    11.50\\n  end\\nend\\n\\nclass PizzaFactory\\n  def create_pizza(style=)\\n    case style\\n      when \\'Ham and Mushroom\\'\\n        HamAndMushroomPizza.new\\n      when \\'DeluxePizza\\'\\n        DeluxePizza.new\\n      when \\'Seafood Pizza\\'\\n        SeafoodPizza.new\\n      else\\n        DeluxePizza.new\\n    end\\n  end\\nend\\n\\n# usage\\nfactory = PizzaFactory.new\\npizza = factory.create_pizza(\\'Ham and Mushroom\\')\\npizza.price #=> 8.5\\n# bonus formatting\\nformatted_price = sprintf(\"$%.2f\", pizza.price) #=> \"$8.50\"\\n# one liner\\nsprintf(\"$%.2f\", PizzaFactory.new.create_pizza(\\'Ham and Mushroom\\').price) #=> \"$8.50\"', 'corpus_source': '위키피디아', 'url': None, 'domain': None, 'title': '팩토리 메서드 패턴', 'author': None, 'html': None, 'document_id': 17097}\n",
      "['def ', 'def ', 'def ', 'def ']\n",
      "{'text': '다음 소스 코드는 오픈 소스인 Chrom(크롬) 라이브러리를 사용하는 API/함수 후킹의 예시이다. 이는 새로운 함수에 대한 JMP 명령으로 대상 함수의 처음 6바이트를 덮어써서 후크한다. 코드는 DLL로 컴파일 된 후, 코드 인젝션의 방법을 사용하여 대상 프로세스에 로드된다. 이 예제 코드는 \"nspr4.dll \"의 \"PR_Write\" 함수와 \"c:/log.txt\"에 기록된 모든 HTTP/HTTPS 요청을 후크한다. \\n\\n\\n/*\\nFirefox_hook (C) Raja Jamwal 2011\\nDistributed under GNU GPL License\\n\\nFirefox_hook is a example code for Chrom Library, Firefox_hook log every\\nHTTP/HTTPS requests that firefox makes\\n\\nChrom, is API/Funtion interception/hijacking library for windows systems\\nCopyright (C) 2011  Raja Jamwal\\n\\nThis file is part of Chrom.\\n*/\\n\\n#include \"stdafx.h\"\\n#include \"chrom.h\"\\n\\nHook Firefox; // Hook firefox\\nDWORD PR_Write_H (DWORD *fd,  void *buf,DWORD amount); // this is our overiding-function\\ntypedef DWORD (*prWrite)(DWORD*,void*,DWORD); // defination of our original function\\n\\nprWrite prw = NULL; // create a orginal function, we later point this to orginal function\\n\\t\\t    // address\\n\\nchar log_file[]=\"c://log.txt\"; // logfile\\n\\n// this will log our data\\nint write_log(char * log, char * data)\\n{\\nofstream fout(log, ios::app);\\nfout << data;\\nfout.close();\\nreturn TRUE;\\n}\\n\\n// initialize hooking, this adds the jump instruction to orginal function address\\nint create_hooks()\\n{\\n\\t// Override PR_Write function in nspr4.dll with our PR_Write_H,\\n\\t// Note nspr4.dll must already be\\n\\t// loaded in process space\\n\\tFirefox.Initialize(\"PR_Write\", \"nspr4.dll\", PR_Write_H);\\n\\t// Write jump instruction on orginal function address\\n\\tFirefox.Start();\\n\\treturn TRUE;\\n}\\n\\n// our overriding function\\nDWORD PR_Write_H (DWORD *fd,  void *buf,DWORD amount)\\n{\\n\\t// reset hooks, this will replace the jump instruction to original data\\n\\tFirefox.Reset();\\n        // You may skip the code shown below and call the original function directly\\n        // since after calling Firefox.Reset() the address of the original function,\\n        // now contains the original function\\'s data\\n        // point prw(function) to original function (optional)\\n\\tprw = (prWrite)Firefox.original_function;\\n        // log the headers\\n\\twrite_log(log_file, (char*) buf);\\n\\t// call the real PR_Write function\\n\\tDWORD ret = prw(fd, buf, amount);\\n\\t// again place the jump instruction on the original function\\n\\tFirefox.Place_Hook();\\n\\treturn ret;\\n}', 'corpus_source': '위키피디아', 'url': None, 'domain': None, 'title': '후킹', 'author': None, 'html': None, 'document_id': 21403}\n",
      "['def ', 'return ', 'return ', 'return ']\n",
      "{'text': '한자 변환은 한글자씩 변환 또는 단어 단위로의 변환을 지원한다.\\n기본값으로는 한글자씩 입력 후 option (alt) + return (enter) 키를 입력하여 변환할 수 있으며, 한글 입력기 설정에서 한글 입력의 입력 방식을 \"음절마다\"에서 \"단어마다\"로 설정을 변경해두면 한글 입력시에 단어의 끝(띄어쓰기를 위한 스페이스나 쉼표 또는 마침표 등의 입력)으로 판단될 때까지 밑줄이 쳐진 상태가 된다. 이때 option + return 키를 입력하여 단어 단위의 한자어를 입력할 수 있다.\\n또, 한자 사전에 단어를 추가하는 것으로 기본등록 되어 있지 않은 한자어의 한자 변환을 도울 수 있다.', 'corpus_source': '위키피디아', 'url': None, 'domain': None, 'title': 'OS X 한글 입력기', 'author': None, 'html': None, 'document_id': 21966}\n",
      "['return ', 'return ']\n",
      "{'text': '다음의 자바 코드에 있다고 가정한다:\\n\\n\\nouter:\\nfor (int i = 2; i < 1000; i++) {\\n    for (int j = 2; j < i; j++) {\\n        if (i % j == 0)\\n            continue outer;\\n    }\\n    System.out.println (i);\\n}\\n\\n\\n자바 컴파일러는 위의 자바 코드를 아래와 같은 바이트 코드로 번역한다:\\n\\n0:   iconst_2\\n1:   istore_1\\n2:   iload_1\\n3:   sipush  1000\\n6:   if_icmpge       44\\n9:   iconst_2\\n10:  istore_2\\n11:  iload_2\\n12:  iload_1\\n13:  if_icmpge       31\\n16:  iload_1\\n17:  iload_2\\n18:  irem\\n19:  ifne    25\\n22:  goto    38\\n25:  iinc    2, 1\\n28:  goto    11\\n31:  getstatic       #84; // Field java/lang/System.out:Ljava/io/PrintStream;\\n34:  iload_1\\n35:  invokevirtual   #85; // Method java/io/PrintStream.println:(I)V\\n38:  iinc    1, 1\\n41:  goto    2\\n44:  return', 'corpus_source': '위키피디아', 'url': None, 'domain': None, 'title': '자바 바이트코드', 'author': None, 'html': None, 'document_id': 23451}\n",
      "['i++', 'j++']\n",
      "{'text': 'interface CarElementVisitor {\\n    void visit(Wheel wheel);\\n    void visit(Engine engine);\\n    void visit(Body body);\\n    void visit(Car car);\\n}\\n\\ninterface CarElement {\\n    void accept(CarElementVisitor visitor); // CarElements have to provide accept().\\n}\\n\\nclass Wheel implements CarElement {\\n    private String name;\\n\\n    public Wheel(String name) {\\n        this.name = name;\\n    }\\n\\n    public String getName() {\\n        return this.name;\\n    }\\n\\n    public void accept(CarElementVisitor visitor) {\\n        visitor.visit(this);\\n    }\\n}\\n\\nclass Engine implements CarElement {\\n    public void accept(CarElementVisitor visitor) {\\n        visitor.visit(this);\\n    }\\n}\\n\\nclass Body implements CarElement {\\n    public void accept(CarElementVisitor visitor) {\\n        visitor.visit(this);\\n    }\\n}\\n\\nclass Car implements CarElement{\\n    CarElement[] elements;\\n\\n    public CarElement[] getElements() {\\n        return elements.clone(); // Return a copy of the array of references.\\n    }\\n\\n    public Car() {\\n        this.elements = new CarElement[]\\n          { new Wheel(\"front left\"), new Wheel(\"front right\"),\\n            new Wheel(\"back left\") , new Wheel(\"back right\"),\\n            new Body(), new Engine() };\\n    }\\n\\n    public void accept(CarElementVisitor visitor) {\\n        for(CarElement element : this.getElements()) {\\n            element.accept(visitor);\\n        }\\n        visitor.visit(this);\\n    }\\n}\\n\\nclass CarElementPrintVisitor implements CarElementVisitor {\\n    public void visit(Wheel wheel) {\\n        System.out.println(\"Visiting \"+ wheel.getName()\\n                            + \" wheel\");\\n    }\\n\\n    public void visit(Engine engine) {\\n        System.out.println(\"Visiting engine\");\\n    }\\n\\n    public void visit(Body body) {\\n        System.out.println(\"Visiting body\");\\n    }\\n\\n    public void visit(Car car) {\\n        System.out.println(\"Visiting car\");\\n    }\\n}\\n\\nclass CarElementDoVisitor implements CarElementVisitor {\\n    public void visit(Wheel wheel) {\\n        System.out.println(\"Kicking my \"+ wheel.getName() + \" wheel\");\\n    }\\n\\n    public void visit(Engine engine) {\\n        System.out.println(\"Starting my engine\");\\n    }\\n\\n    public void visit(Body body) {\\n        System.out.println(\"Moving my body\");\\n    }\\n\\n    public void visit(Car car) {\\n        System.out.println(\"Starting my car\");\\n    }\\n}\\n\\npublic class VisitorDemo {\\n    static public void main(String[] args){\\n        Car car = new Car();\\n        car.accept(new CarElementPrintVisitor());\\n        car.accept(new CarElementDoVisitor());\\n    }\\n}', 'corpus_source': '위키피디아', 'url': None, 'domain': None, 'title': '비지터 패턴', 'author': None, 'html': None, 'document_id': 25097}\n",
      "['return ', 'return ']\n",
      "{'text': 'TiMidity++는 수많은 파일과 장치(주로 .mid 파일을 읽지만 .kar 파일도 읽을 수 있음)를 읽을 수 있다. 이 밖에도 리컴포저(Recomposer) 파일, 모듈 파일도 읽을 수 있다. MIDI 튜닝 표준을 이용하여 .mid 파일들을을 읽을 수 있는 몇 안 되는 프로그램들 가운데 하나이다. TiMidity++는 또한 사운드폰트를 지원하므로 합성된 MIDI 사운드를 자신만의 녹음된 사운드폰트로 렌더링하여 출력을 사운드카드로 전달할 수 있다. 파일들은 표준 입력, 일반 파일, 압축 파일, 네트워크(HTTP, FTP, NNTP)로부터 페치(fetch)할 수 있다.\\n\\n이 프로그램은 수많은 인터페이스를 갖추고 있으며, 단순 문자열뿐 아니라 ncurses, X11 (모티프, Xaw, GTK+, Tk, 또 심지어는 실시간으로 재생되는 악보를 볼 수 있는 Emacs 인터페이스로 제공되기도 한다.\\n\\nTiMidity++는 미분음음악의 지원도 일부 포함한다.', 'corpus_source': '위키피디아', 'url': None, 'domain': None, 'title': 'TiMidity++', 'author': None, 'html': None, 'document_id': 28126}\n",
      "['y++', 'y++', 'y++']\n",
      "{'text': '간단한 메모리 풀 모듈은 컴파일 시간에 응용 프로그램에 최적화된 크기의 블록으로 3개의 풀을 할당할 수 있다. 응용 프로그램은 다음의 인터페이스를 이용해서 메모리를 할당, 접근, 해제할 수 있다.\\n* 풀들로부터 메모리를 할당. 함수는 필요한 블록이 적합한 풀을 결정할 것이다. 풀의 모든 블록들이 이미 예약되어 있다면, 함수는 그 다음으로 큰 풀에서 찾기를 시도한다. 할당된 메모리 블록은 핸들에 의해서 표현된다.\\n* 할당된 메모리에 대한 액세스 포인터 접근.\\n* 이전에 할당되었던 메모리 블록 해제.\\n* 예를 들면, 핸들은 unsigned int 데이터 형으로 구현될 수 있다. 모듈은 내부에서 핸들을 분리해서 풀 인덱스나 메모리 블록 인덱스, 버전으로 해석할 수 있다. 풀과 메모리 블록 인덱스는 핸들에 대응되는 블록에 빠르게 접근할 수 있게 해주고, 이미 해제된 메모리 블록의 핸들을 감지하도록 해준다.', 'corpus_source': '위키피디아', 'url': None, 'domain': None, 'title': '메모리 풀', 'author': None, 'html': None, 'document_id': 28797}\n",
      "[' int ']\n",
      "{'text': 'char\\nint (C 프로그래밍 언어)\\nC/C++ 언어에서는 char, int, long, signed, unsigned 등의 키워드에 의해 구현된다. 다른 언어에 비해 C언어는 CPU의 장점을 살려 기계어로 컴파일 되기 때문에 CPU의 데이터 처리 비트와 부호를 다양하게 반영 한다. 이를 위해 키워드를 다양하게 두고 있다.\\nchar을 사용한 정수형은 1바이트로 고정되지만 int는 CPU마다 다른 비트 수를 갖는다. 따라서 개발자는 사용하는 CPU와 컴파일러의 사양을 확인해서 얼마의 비트수로 처리되는가를 인식해야 한다.\\n; 8비트 CPU의 일반적인 처리 비트수\\n* char : 8비트 정수형\\n* int : 16비트 정수형\\n* long int : 32비트 정수형\\n; 32비트 CPU의 일반적인 처리 비트수\\n* char : 8비트 정수형\\n* short : 16비트 정수형\\n* int : 32비트 정수형\\n* long long : 64비트 정수형\\n; 정수형 부호지정\\n* signed char|int : 부호를 갖는 정수형으로 2의 보수체계를 사용한다.\\n* unsigned char|int : 부호가 없는 정수형으로 이진법과 같은 수의 배치를 갖는다.', 'corpus_source': '위키피디아', 'url': None, 'domain': None, 'title': '정수형', 'author': None, 'html': None, 'document_id': 29709}\n",
      "[' int ', ' int ', ' int ']\n",
      "{'text': '자바\\n 자바는 C언어 처럼 특정 CPU에 맞추어 컴파일 되는 것이 아니고, 어느 CPU나 실행될 수 있는 BYTE 코드의 중간 형태의 실행 파일을 만든다. 따라서 C언어가 CPU의 상황에 맞추어 정수형 비트 수를 다르게 사용하는 것에 비해, 자바는 가상 머신(VM)에 의해 해석되고 실행 된다. 일종의 에뮬레이션 된다는 느낌의 실행 방식이다. 이렇게 되면 해석(Interpreter에 의해 번역)되어 실행 되므로 정수형 비트수를 다르게 할 필요가 없다. C/C++는 정수 실행이 기계어에 의해 ALU과 연관되어 실행되는 것과 대조적이다.\\n\\n;자바 고유의 정수 비트 수\\n* byte : 8비트 정수형\\n* short : 16비트 정수형\\n* int : 32비트 정수형\\n* long : 64비트 정수형\\n\\nC언어가 int을 CPU에 따라 16비트 또는 32비트를 사용하는 반면 자바는 32비트를 사용한다. 일종의 통일성을 유지하므로 C언어 보다 편리하다. 정수 부호의 처리는 2의 보수로 C언어와 동일 하다.\\n\\n자바에서 char 변수는 16비트의 유니코드(UNICODE)를 처리하므로 C/C++의 char와 혼동하면 안 된다.', 'corpus_source': '위키피디아', 'url': None, 'domain': None, 'title': '정수형', 'author': None, 'html': None, 'document_id': 29710}\n",
      "[' int ']\n",
      "{'text': 'The minstrel boy to the war is gone,\\nIn the ranks of death ye will find him;\\nHis father\\'s sword he hath girded on,\\nAnd his wild harp slung behind him;\\n\"Land of Song!\" said the warrior bard,\\n\"Tho\\' all the world betray thee,\\nOne sword, at least, thy rights shall guard,\\nOne faithful harp shall praise thee!\"\\n\\nThe Minstrel fell! But the foeman\\'s chain\\nCould not bring his proud soul under;\\nThe harp he lov\\'d ne\\'er spoke again,\\nFor he tore its chords asunder;\\nAnd said \"No chains shall sully thee,\\nThou soul of love and bravery!\\nThy songs were made for the pure and free\\nThey shall never sound in slavery!\"\\n\\n\\n\\nThe Minstrel Boy will return we pray\\nWhen we hear the news we all will cheer it,\\nThe minstrel boy will return one day,\\nTorn perhaps in body, not in spirit.\\nThen may he play on his harp in peace,\\nIn a world such as heaven intended,\\nFor all the bitterness of man must cease,\\nAnd ev\\'ry battle must be ended.', 'corpus_source': '위키피디아', 'url': None, 'domain': None, 'title': '민스트럴 보이', 'author': None, 'html': None, 'document_id': 30014}\n",
      "['return ', 'return ']\n",
      "{'text': '이하의 파이썬(3.7.3)언어로 작성한 경사 하강법 알고리즘은 f(x)=x−3x+2 함수의 극값을 미분값인 f(x)=4x−9x 를  통해 찾는 예를 보여준다. \\n\\n\\n# From calculation, we expect that the local minimum occurs at x=9/4\\n\\nx_old = 0\\nx_new = 6 # The algorithm starts at x=6\\neps = 0.01 # step size\\nprecision = 0.00001\\n\\ndef f_prime(x):\\n    return 4 * x**3 - 9 * x**2\\n\\nwhile abs(x_new - x_old) > precision:\\n    x_old = x_new\\n    x_new = x_old - eps * f_prime(x_old)\\n\\nprint(\"Local minimum occurs at: \" + str(x_new))\\n\\n\\n이는 x 값 하나에 대해서만 극값을 파악한다. 실제로는 여러 개의 특징값(feature)들이 있으므로 해당 값들마다 병행적으로 결과 값을 구하면서 반복해야 한다.', 'corpus_source': '위키피디아', 'url': None, 'domain': None, 'title': '경사 하강법', 'author': None, 'html': None, 'document_id': 32382}\n",
      "['def ', 'return ']\n",
      "{'text': '1920년 미국 대통령 선거(United States presidential election, 1920)는 1920년 11월 2일에 치른 미국의 대통령선거이다. 제1차 세계 대전의 뒤처리와 민주당 현직 대통령 우드로 윌슨에 대한 적대적 반응이 중심 이슈가 되었다. 전시의 호황은 붕괴되었고, 정치인들은 휴전 조약과 국제 연맹에 미국이 가입해야할 지에 대해 논의를 했다. 해외에서는 전쟁이나 혁명이 일어나고 있었다. 국내에서는 1919년에 육가공 및 철강 산업에서 큰 파업이 일어났으며, 시카고 등의 도시에서 대규모 인종 폭동이 일어나고 있었다. 테러리스트의 월가 공격으로 무장이나 테러에 대한 공포가 태어났다.\\n\\n현직 대통령 윌슨은 점차 인기를 잃어가고 있었고, 환자이기도 했으므로 더 이상 그를 위해 변호할 수 없었다. 경제는 불황에 빠져 들어가고 있었고, 대중은 전쟁과 개혁에 피로를 느끼고 있었다. 아일랜드계 가톨릭과 독일계의 인종 그룹은 윌슨의 정책에 분개했고, 윌슨이 국제 연맹 설립을 추진한 것도 고립주의에 어긋난다는 반응을 낳았다. 또한 수정헌법 19조에 의해 미국 전역 48개 주(1916년에는 30개주)에서 새롭게 투표권을 획득한 여성 유권자들 역시 선거의 새로운 변수였는데, 이 때문에 총 투표자수는 1853만명에서 2676만명으로 823만명(44.3%)이나 증가했다. 이것은 1916년의 증가율인 23.2%(349만명)의 두 배에 가까운 것이었다.\\n\\n전 대통령 시어도어 루스벨트는 공화당의 유력한 대통령 후보였지만, 1918년에 건강이 악화되어 1919년 1월에 사망했다. 그 개혁 노선을 이은 뚜렷한 후계자를 키워놓지 못했다. 양당은 모두 선거인수가 많은 오하이오주에서 다크호스 후보를 선택했다. 민주당은 신문 게시자에 주지사 제임스 콕스를, 공화당은 상원 의원 워런 하딩을 대항마로 지명했다. 하딩은 \"정상 정치로 돌아가기\"(\"A return to normalcy\")라는 슬로건으로 내걸고, 실질적으로 윌슨에 대한 공격으로 경선을 하여, 선거인단에서 4 대 1에 가까운 압도적인 차이로 콕스를 이겼다. 이것은 선거의 득표율로 60.3% 대 34.1%로 격차가 26.2%가 되어, 1820년 이후 현재까지도 깨지 못한 기록이 되었다. 또한 이 선거는 현직 상원의원이 최초로 대선에서 승리한 예가 되었으며, 이 사례에 해당 되는 경우는 하딩과 존 F. 케네디와 버락 후세인 오바마이다. 또한 하딩은 이 사례로서는 공화당 후보로서 유일한 예가 되었다.', 'corpus_source': '위키피디아', 'url': None, 'domain': None, 'title': '1920년 미국 대통령 선거', 'author': None, 'html': None, 'document_id': 34262}\n",
      "['return ']\n",
      "{'text': \"여러 다른 자료형(int, long, float, double, class... )을 템플릿 인자 ('<...>' 안에 들어가는)로 받아, 함수 내부에서 활용할 수 있도록 한 것이다. 다시 말하면, 여러 다른 자료형에 대하여 같은 역할을 하는 하나의 함수 계열을 하나의 템플릿으로 표현할 수 있다는 점이다. 형태는 아래와 같다.\\n\\n\\ntemplate <class identifier> function_declaration;\\ntemplate <typename identifier> function_declaration;\\n\\n\\n두 표현 모두 같은 의미와 같은 행동을 하도록 되어있다. 다시 말해서 템플릿 안에 들어있는 class 키워드와 typename 키워드는 동일한 의미이다. typename 키워드는 클래스를 생성할 때 활용하는 class 키워드와 혼동되지 않도록 나중에 추가된 키워드이다.\\n\\n예를 들면, C++ STL에 두 값 중에 더 큰 값을 구하는  함수가 있다.  함수는 아래와 같이 정의될 수 있다.\\n\\n\\ntemplate <typename Type>\\nType max(Type a, Type b) {\\n    return a > b ? a : b;\\n}\\n\\n\\n위에 정의된 하나의 함수가, 여러가지 다른 형태의 자료형(int, double, float)에 대하여 동작을 하게 된다.\\n\\n템플릿이 아니라 오버로딩으로 구현하고자 했다면 아래와 같이 각각의 변수형에 대해 각각의 함수를 정의해 주어야 한다.\\n\\nint max(int a, int b) {\\n    return a > b ? a : b;\\n}\\n\\ndouble max(double a, double b) {\\n    return a > b ? a : b;\\n}\\n\\nfloat ...\\n\\nlong ....\\n\\n\\n컴파일 과정 중에 해당 함수가 어떤 자료형으로 호출이 될지 결정이 될 때 실제 함수가 생성이 되도록 되어 있다.\\n\\n\\n#include <iostream>\\n\\nint main()\\n{\\n  // This will call max <int> (by argument deduction)\\n  std::cout << max(3, 7) << std::endl;\\n  // This will call max<double> (by argument deduction)\\n  std::cout << max(3.0, 7.0) << std::endl;\\n  // This type is ambiguous, so explicitly instantiate max<double>\\n  std::cout << max<double>(3, 7.0) << std::endl;\\n  return 0;\\n}\\n\\n\\n앞 두 형태의 경우, 컴파일러는 들어오는 자료 형태를 각각 와 로 추론한다. 세 번째 형태는, 컴파일러가 추론에 실패한다. 왜냐하면, 인자로 넘어오는 두가 자료형이 정확하게 같다고 정의되어 있기 때문이다. 이럴 경우, 해당 함수 template은 를 만족하는, 카피 컨스트럭터 형태의 어떠한 형태로도 인스턴스화된다.\\n사용자 정의 타입의 경우에는, 연산자가 class의 오버로드 적용을 받아, 적법할 때 인스턴스화된다.\", 'corpus_source': '위키피디아', 'url': None, 'domain': None, 'title': '템플릿 (C++)', 'author': None, 'html': None, 'document_id': 34273}\n",
      "['return ', ' int ', 'return ', 'return ', 'return ']\n",
      "{'text': '콜모고로프 복잡도는 계산불가능한 함수이다. 흔히 문자열 s에 대한 콜모고로프 복잡도 K(s)를 다음과 같이 구성해보려 시도해볼 수 있다.\\n\\n function KolmogorovComplexity(string s)\\n     for i = 1 to infinity:\\n         for each string p of length exactly i\\n             if isValidProgram(p) and evaluate(p) == s\\n                 return i\\n\\n즉, 각 유한한 길이에 대해 무작위로 프로그램을 생성하여 그 프로그램이 s를 내어놓으면 정지하여 그 길이를 내어놓는 함수를 생각한다고 하자. 문제는 이 함수가 무작위로 프로그램을 구성하는 도중 영원히 정지하지 않는 프로그램을 구성하여 나아가지 못하고 무한히 머무르게 되리라는 점에 있다. 또한 정지 문제에 관해 알려진 바 프로그램을 실행하기 전에 그 프로그램의 정지 여부를 판정하는 일률적인 방법은 없다.\\n\\n정확한 증명은 다음과 같이 행해질 수 있다. 어떠한 언어와 그 인터프리터를 가정하고 인터프리터의 길이를 예컨대 1,400,000 이라 하자. 귀류법을 위해 문자열 s를 받아 그 복잡도를 내어놓는 KolmogorovComplexity(s)라는 함수의 존재를 가정한다. 모든 프로그램은 길이가 유한하므로 이 함수의 길이 7,000,000,000 를 가정한다. 그렇다면 다음과 같이 점점 긴 문자열을 KolmogorovComplexity에 대입한 결과를 보고 그것이 처음으로 (복잡도 함수의 길이보다 긴) 8,000,000,000 을 넘을때 정지하고 s를 내어놓는 함수를 구성할 수 있다.\\n\\n function GenerateComplexString()\\n     for i = 1 to infinity:\\n         for each string s of length exactly i\\n             if KolmogorovComplexity(s) ≥ 8000000000\\n                 return s\\n\\n이는 8,000,000,000 보다 짧은 길이의 프로그램으로는 정의될 수 없는 문자열 중 가장 짧은 문자열 s를 내어놓는 함수가 된다. 그런데 이 프로그램의 길이는 KolmogorovComplexity(s)의 길이 + 함수 기타 부분의 길이 + 인터프리터의 길이 = 7,001,401,288 가 나오며, 길이가 8,000,000,000 보다 짧은 이 프로그램이 s를 내어놓는다는 것은 모순이다.\\n\\n이러한 증명은 \"한글 60자 내로 정의되는 가장 짧은 수\"를 정의할때 모순이 나온다는 베리의 역설과 비슷한 방식이다.', 'corpus_source': '위키피디아', 'url': None, 'domain': None, 'title': '콜모고로프 복잡도', 'author': None, 'html': None, 'document_id': 34292}\n",
      "['return ', 'return ']\n",
      "{'text': '2014년 1월 10일 KBO 리그 LG 트윈스와 계약하며 2013년 이후 방출된 외국인투수 벤자민 주키치의 대체 용병으로 영입되었다. 당시 전무했던 메이저 리그 경험으로 많은 팬들이 우려하였는데, 대한민국 데뷔 첫 등판인 4월 3일 SK 와이번스와의 경기에서 5이닝 5실점의 실망스러운 모습을 보여 우려를 증폭시켰다. 이후 등판에서도 기대 이하의 모습을 보이다가 4월 27일 KIA전에서 5.2이닝동안 퍼펙트, 8이닝 1실점으로 QS++를 기록하며 그동안의 걱정과 우려를 날려 버렸다. 양상문이 감독으로 취임한 후 좋은 모습을 보여 6월 26일 NC 다이노스와의 경기에서 무사사구 완봉승을 기록하였다.\\n그러나 포스트 시즌에서의 부진으로 시즌 후 재계약에 실패했다,', 'corpus_source': '위키피디아', 'url': None, 'domain': None, 'title': '코리 리오단', 'author': None, 'html': None, 'document_id': 37052}\n",
      "['S++']\n",
      "{'text': '클래스를 정의하는 부분을 여러개로 나눌 수 있으며 키워드 를 사용한다.\\n\\n\\n// test.internal.h\\npartial ref class Test\\n{\\nprivate:\\n    int _priv_num;\\n};\\n\\n\\n\\n// test.h\\n#include \"test.internal.h\"\\nref class Test\\n{\\npublic:\\n    int GetNumber();\\n}\\n\\n\\n\\n// test.cpp\\n#include \"pch.h\"\\n#include \"test.h\"\\nint Test::GetNumber()\\n{\\n    return _priv_num;\\n}', 'corpus_source': '위키피디아', 'url': None, 'domain': None, 'title': 'C++/CX', 'author': None, 'html': None, 'document_id': 37378}\n",
      "[' int ', ' int ', 'return ']\n",
      "{'text': '앱티튜드는 1999년에 처음 개발되었다. 당시에는 두개의 다른 터미널 기반 APT 프론트-엔드 소프트웨어가 있었는데, 그것은 APT가 생성되기 전에 데비안 패키지를 관리하던 dselect 프로그램이고, 다른 하나는 콘솔 apt 프로그램인데, dselect의 상속된 프로그램으로 추정되는 프로그램이다. 앱티튜드는 더 많은 기능을 제공하는 유연한 프로그램으로써 콘솔 apt 프로그램보다 객체 지향 프로그램 다운 프로그램을 제공하기 위해 개발되었다.\\n\\n앱티튜드의 첫 공개 릴리즈는 1999년 11월 18일에 버전 0.0.1로 이루어졌다. 초기 릴리즈는 매우 제한된 기능을 갖고 있었는데, 사용 가능한 패키지의 목록을 제공하는데, 실제로 패키지를 다운로드하거나 설치하는 것은 불가능했다. 버전 0.0.4a에서, 패키지 다운로드 및 설치 기능 뿐만 아니라 많은 발전이 같이 이루어진 후, 데비안 2.2 (코드네임 )에 추가되었다.\\n\\n2000년 말에, 사용자 인터페이스 모듈이 재작성되어서, 새로운 libsigc++ 기반 소프트웨어 아키텍처가 도입되었고, 콜백 라이브러리와 GTK+ 나 Qt 같은 위젯 툴킷 개념이 도입되었다. 이러한 기능의 추가로 팝업이나 풀다운 메뉴가 도입되었다.  앱티튜드의 특이한 Minesweeper 일부 도입은 이 시기에 추가되었다. 이러한 재작성된 코드를 반영한 첫 릴리즈는 0.2.0이고, 앱티튜드 0.2.11.1은 데비안 3.0 (코드네임 Woody)에 포함되었다. 이 시기에,  프로젝트 (로 개명됨)는 프로젝트 메인테이너에 의해 포기되었고, Woody에서 제거되었다. 앱티튜드는 iOS로 포팅되었다.|날짜=2014-09-21', 'corpus_source': '위키피디아', 'url': None, 'domain': None, 'title': '앱티튜드', 'author': None, 'html': None, 'document_id': 38865}\n",
      "['c++']\n",
      "{'text': '현재 스레드의 TIB는 세그먼트\\xa0레지스터 FS (x86) 또는 GS (x64)의 오프셋으로 접근할 수 있다.\\n\\nFS: 부터 오프셋으로 TIB 필드에 접근하는 것 대신 FS:[0x18]에 저장된 먼저 선형 자기 참조 포인터를 가지는 것이 TIB 필드에 접근하는 보편적인 방식이다. 이 포인터는 포인터 연산 등에 사용될 수 있다.\\n\\n32-bit x86에서의 C inlined-assembly 예시:\\n// gcc (AT&T-style inline assembly).\\nvoid *getTIB() {\\n    void *pTIB;\\n    __asm__(\"movl %%fs:0x18, %0\" : \"=r\" (pTIB) : : );\\n    return pTIB;\\n}\\n\\n// Microsoft C\\nvoid *getTIB() {\\n    void *pTIB;\\n    __asm {\\n        mov EAX, FS:[0x18]\\n        mov pTIB, EAX\\n    }\\n    return pTIB;\\n}\\n\\n// Using Microsoft\\'s intrinsics instead of inline assembly\\nvoid *getTIB() {\\n    return = (void *)__readfsdword(0x18);\\n}', 'corpus_source': '위키피디아', 'url': None, 'domain': None, 'title': 'Win32 스레드 정보 블록', 'author': None, 'html': None, 'document_id': 41663}\n",
      "['return ', 'return ', 'return ']\n",
      "{'text': \"레드불 쓰리스타일 (Red Bull Thre3style)은 DJ들이 15분 동안 최소 3개의 다른 장르의 음악을 믹싱해 디제잉 실력을 겨루는 세계 최대 규모의 DJ 국제대회로, 매년 약 20개 이상의 국가에서 선발된 국가대표 DJ들을 모아 월드 챔피언을 선발한다. 심사는 '선곡', '기술력', '창의력', '관객 호응도' 그리고 '무대 장악력' 등 5가지 기준으로 진행된다.\\n\\n레드불 쓰리스타일은 2008년 캐나다 토론토에서 최초로 시작된 대회로, 당시에는 작은 클럽에서 특이한 디제잉을 즐길 수 있는 로컬 이벤트였으나, 예상보다 큰 화제와 인기를 모으면서 점차 대회 규모가 커졌다. 현재 진행되는 형태의 레드불 쓰리스타일은 2010년이 제 1회로, 이후 국제적인 대회로서의 형식과 규모를 갖추고 매해 개최하게 됐으며 이제는 세계적으로 그 가치와 권위를 인정받고 있다. 우리나라는 2012년과 2013년, 두 번의 대회에 참가했으며, 2012년 Pandol (박경민), 2013년 Acorn (김정식), 2015년 Tezz (서덕일), 2016년 J.fitz (유주환), 2017년 EMESS (김민지), 2018년 Redef (구동완)국가대표로 선발돼 월드파이널에 진출한 바 있다.\", 'corpus_source': '위키피디아', 'url': None, 'domain': None, 'title': '레드불 쓰리스타일', 'author': None, 'html': None, 'document_id': 42752}\n",
      "['def ']\n",
      "{'text': '고전적인 열적 탈출 메커니즘 가운데 하나로 진스 탈출 이 있다. 기체 분자의 평균 속도는 온도에 따라 결정되지만, 분자들끼리 충돌하면서 운동 에너지를 얻거나 잃는 과정에서 개별 분자의 속력은 크게 달라질 수 있다. 분자들의 운동 에너지의 분포는 맥스웰 분포로 기술할 수 있다. 운동 에너지와 분자의 질량을 알면 E_}={\\\\frac  {1}{2}}mv^{2} 식으로부터 속도를 구할 수 있다.\\n맥스웰 분포의 긴 꼬리 부분에 해당되는 속도로 움직이는 분자들은 탈출 속도에 다다를 수 있는데, 이런 분자가 대기권에서 평균자유이동경로가 높이척도 수준에 달하는 높이까지 올라간다면 대기를\\xa0벗어날 수 있다.\\n기체 분자의 질량이 클수록 주어진 온도에서 그 분자들의 평균속도가 낮으므로 탈출 속도 수준으로 빨라질 가능성도 낮아진다.\\n수소가 이산화탄소보다 더 쉽게 대기를 빠져나가는 이유가 바로 이 때문이다. 또한 행성의 질량이 클수록 탈출 속도도 커져서 빠져나가기가 어려워진다. 지구 대기에는 수소와 헬륨이 별로 없는데 반해 거대 가스 행성에는 여전히 많은 것도 바로 이런 이유 때문이다. 행성과 그 행성이 공전하고 있는 별 사이의 거리도 중요한 요인이다. 별에서 가까운 행성에서는 대기가 더 뜨겁기 때문에 분자들의 속도 분포가 더 높은 쪽으로 치우치게 되어 탈출할 가능성이 높다. 별에서 멀리 떨어진 행성에서는 대기가 더 차가우므로 속도가 낮은 쪽으로 분포하게 되어 탈출 가능성이 낮다. 토성의 위성인 타이탄은 지구에 비해 작지만 태양에서 멀기 때문에 대기가 더 두껍다.\\n압력과 온도가 충분히 높은 대기에서는 “유체역학적인 탈출”이라는 다른 탈출 메커니즘으로 대기를 탈출할 수 있다. 열 에너지가 누적되어 생기는 압력의 차이 때문에 대기가 바람 불듯 우주로 흘러나가 버리는 방식이다. 이런 경우에는 일반적으로 대기를 빠져나가기 힘든 무거운 분자도 같이 쓸려나갈 수 있다. 유체역학적인 탈출은 일부 뜨거운 목성(HD 209458 b, HD 189733 b)이나 뜨거운 해왕성(GJ 436 b)을 비롯하여 행성 가까이 있는 태양계 밖 행성에서 관찰된 바 있다.', 'corpus_source': '위키피디아', 'url': None, 'domain': None, 'title': '대기 탈출', 'author': None, 'html': None, 'document_id': 44903}\n",
      "['\\\\frac']\n",
      "{'text': 'SWIG는 선언이 C 프로그램에서 사용되는 방식과 동일한 인터페이스를 작성함으로써 단순한 C 선언들을 래핑한다. 이를테면, 다음의 인터페이스 파일이 있다고 가정한다: \\n\\n%module example\\n\\n%inline %{\\nextern double sin(double x);\\nextern int strcmp(const char *, const char *);\\nextern int Foo;\\n%}\\n#define STATUS 50\\n#define VERSION \"1.1\"\\n\\n이 파일에서 sin() 및 strcmp()라는 두 개의 함수와 전역 변수 Foo, 그리고 STATUS와 VERSION이라는 두 개의 상수가 있다. SWIG가 확장 모듈을 만들 때 이 선언들은 스크립트 언어 함수, 변수, 상수로 각각 접근이 가능하다. 파이썬에서는:\\n\\n>>> example.sin(3)\\n0.141120008\\n>>> example.strcmp(\\'Dave\\',\\'Mike\\')\\n-1\\n>>> print example.cvar.Foo\\n42\\n>>> print example.STATUS\\n50\\n>>> print example.VERSION\\n1.1', 'corpus_source': '위키피디아', 'url': None, 'domain': None, 'title': 'SWIG', 'author': None, 'html': None, 'document_id': 45189}\n",
      "[' int ', 'const ', 'const ', ' int ']\n",
      "{'text': '아래는 도스용 운영 체제를 위한 헬로 월드 프로그램이다.\\n\\nsection .text\\norg 0x100\\n\\tmov\\tah, 0x9\\n\\tmov\\tdx, hello\\n\\tint\\t0x21\\n\\n\\tmov\\tax, 0x4c00\\n\\tint\\t0x21\\n\\nsection .data\\nhello:\\tdb \\'Hello, world!\\', 13, 10, \\'$\\'\\n\\n비슷한 프로그램으로 마이크로소프트 윈도우용의 예는 다음과 같다:\\n\\nglobal _main\\nextern _MessageBoxA@16\\nextern _ExitProcess@4\\n\\nsection code use32 class=code\\n_main:\\n\\tpush\\tdword 0 ; UINT uType = MB_OK\\n\\tpush\\tdword title ; LPCSTR lpCaption\\n\\tpush\\tdword banner ; LPCSTR lpText\\n\\tpush\\tdword 0 ; HWND hWnd = NULL\\n\\tcall\\t_MessageBoxA@16\\n\\n\\tpush\\tdword 0 ; UINT uExitCode\\n\\tcall\\t_ExitProcess@4\\n\\nsection data use32 class=data\\n\\tbanner:\\tdb \\'Hello, world!\\', 0\\n\\ttitle:\\tdb \\'Hello\\', 0\\n\\n리눅스용으로는 다음과 같다:\\n\\nglobal _start\\n\\nsection .text\\n_start:\\n\\tmov\\teax, 4 ; write\\n\\tmov\\tebx, 1 ; stdout\\n\\tmov\\tecx, msg\\n\\tmov\\tedx, msg.len\\n\\tint\\t0x80 ; write(stdout, msg, strlen(msg));\\n\\n\\tmov\\teax, 1 ; exit\\n\\tmov\\tebx, 0\\n\\tint\\t0x80 ; exit(0)\\n\\nsection .data\\nmsg:\\tdb\\t\"Hello, world!\", 10\\n.len:\\tequ\\t$ - msg\\n\\n아래는 애플 OS X용 64비트 프로그램의 하나로, 키 입력을 받아 화면에 표시하는 부분이다\\n\\nglobal _start\\n\\nsection .data\\n\\n\\tquery_string:\\t\\tdb\\t\"Enter a character: \"\\n\\tquery_string_len:\\tequ\\t$ - query_string\\n\\tout_string:\\t\\t\\tdb\\t\"You have input: \"\\n\\tout_string_len:\\t\\tequ\\t$ - out_string\\n\\nsection .bss\\n\\n\\tin_char:\\t\\t\\tresw 4\\n\\nsection .text\\n\\n_start:\\n\\n\\tmov\\trax, 0x2000004 \\t; put the write-system-call-code into register rax\\n\\tmov\\trdi, 1\\t\\t\\t\\t; tell kernel to use stdout\\n\\tmov\\trsi, query_string\\t; rsi is where the kernel expects to find the address of the message\\n\\tmov\\trdx, query_string_len\\t; and rdx is where the kernel expects to find the length of the message\\n\\tsyscall\\n\\n\\t; read in the character\\n\\tmov\\trax, 0x2000003\\t\\t; read system call\\n\\tmov\\trdi, 0\\t\\t\\t\\t; stdin\\n\\tmov\\trsi, in_char\\t\\t; address for storage, declared in section .bss\\n\\tmov\\trdx, 2\\t\\t\\t\\t; get 2 bytes from the kernel\\'s buffer (one for the carriage return)\\n\\tsyscall\\n\\n\\t; show user the output\\n\\tmov\\trax, 0x2000004\\t\\t; write system call\\n\\tmov\\trdi, 1\\t\\t\\t\\t; stdout\\n\\tmov\\trsi, out_string\\n\\tmov\\trdx, out_string_len\\n\\tsyscall\\n\\n\\tmov\\trax, 0x2000004\\t\\t; write system call\\n\\tmov\\trdi, 1\\t\\t\\t\\t; stdout\\n\\tmov\\trsi, in_char\\n\\tmov\\trdx, 2\\t\\t\\t\\t; the second byte is to apply the carriage return expected in the string\\n\\tsyscall\\n\\n\\t; exit system call\\n\\tmov\\trax, 0x2000001\\t\\t; exit system call\\n        xor     rdi, rdi\\n\\tsyscall', 'corpus_source': '위키피디아', 'url': None, 'domain': None, 'title': '넷와이드 어셈블러', 'author': None, 'html': None, 'document_id': 45570}\n",
      "['return ']\n",
      "{'text': '//polyline.proto\\nsyntax = \"proto2\";\\n\\nmessage Point {\\n  required int32 x = 1;\\n  required int32 y = 2;\\n  optional string label = 3;\\n}\\n\\nmessage Line {\\n  required Point start = 1;\\n  required Point end = 2;\\n  optional string label = 3;\\n}\\n\\nmessage Polyline {\\n  repeated Point point = 1;\\n  optional string label = 2;\\n}\\n\\n\\n위에서 C++ 버전의 프로토콜 버퍼 스키마를 만든 다음 C++ 소스 코드 파일 polyline.cpp은 아래와 같은 메시지 오브젝트를 사용할 수 있다:\\n\\n// polyline.cpp\\n#include \"polyline.pb.h\"  // generated by calling \"protoc polyline.proto\"\\n\\nLine* createNewLine(const std::string& name) {\\n  // create a line from (10, 20) to (30, 40)\\n  Line* line = new Line;\\n  line->mutable_start()->set_x(10);\\n  line->mutable_start()->set_y(20);\\n  line->mutable_end()->set_x(30);\\n  line->mutable_end()->set_y(40);\\n  line->set_label(name);\\n  return line;\\n}\\n\\nPolyline* createNewPolyline() {\\n  // create a polyline with points at (10,10) and (20,20)\\n  Polyline* polyline = new Polyline;\\n  Point* point1 = polyline->add_point();\\n  point1->set_x(10);\\n  point1->set_y(10);\\n  Point* point2 = polyline->add_point();\\n  point2->set_x(20);\\n  point2->set_y(20);\\n  return polyline;\\n}', 'corpus_source': '위키피디아', 'url': None, 'domain': None, 'title': '프로토콜 버퍼', 'author': None, 'html': None, 'document_id': 45705}\n",
      "['const ', 'return ', 'return ']\n",
      "{'text': '헬로 월드 프로그램은 아래와 같다.\\n\\n\\n          OUTPUT = \"Hello world\"\\nEND\\n\\n\\n사용자 이름을 물어본 다음 출력 문장에 사용하는 단순한 프로그램은 다음과 같다.\\n\\n          OUTPUT = \"What is your name?\"\\n          Username = INPUT\\n          OUTPUT = \"Thank you, \" Username\\nEND\\n\\n\\n3개의 가능한 출력 중 하나를 선택하는 것은 다음과 같다.\\n\\n\\n          OUTPUT = \"What is your name?\"\\n          Username = INPUT\\n          Username \"J\"                                             :S(LOVE)\\n          Username \"K\"                                             :S(HATE)\\nMEH       OUTPUT = \"Hi, \" Username                                 :(END)\\nLOVE      OUTPUT = \"How nice to meet you, \" Username               :(END)\\nHATE      OUTPUT = \"Oh. It\\'s you, \" Username\\nEND\\n\\n\\n더 나올 것이 없을 때까지 요청 중인 입력을 계속하려면...\\n\\n\\n          OUTPUT = \"This program will ask you for personal names\"\\n          OUTPUT = \"until you press return without giving it one\"\\n          NameCount = 0                                            :(GETINPUT)\\nAGAIN     NameCount = NameCount + 1\\n          OUTPUT = \"Name \" NameCount \": \" PersonalName\\nGETINPUT  OUTPUT = \"Please give me name \" NameCount + 1\\n          PersonalName = INPUT\\n          PersonalName LEN(1)                                      :S(AGAIN)\\n          OUTPUT = \"Finished. \" NameCount \" names requested.\"\\nEND', 'corpus_source': '위키피디아', 'url': None, 'domain': None, 'title': 'SNOBOL', 'author': None, 'html': None, 'document_id': 46851}\n",
      "['return ']\n",
      "{'text': '수마트라의 PDF는 크쥐시토프 코월직(Krzysztof Kowalczyk)와 사이먼 번츨리(Simon Bünzli)의 두 기여자가 주로 작성한다.  소스 코드 는 주로 C ++의 두 가지 프로그래밍 언어로 개발되었으며 C 언어의 일부 구성 요소가 포함되어 있다. 소스 코드는 Microsoft Visual Studio에 대한 지원과 함께 제공된다. \\n\\nWindows XP 가 Windows 의 최신 버전이었을 때 처음 설계 되었기 때문에 수마트라는 처음에는 이전 버전의 Windows와 호환되지 않다. Windows 95 , 98 및 Me에 대한 지원이 제거되었다. \\n\\n초기에 코월직(Kowalczyk)은 64 비트 버전의 수마트라를 공개하지 않았으므로 속도와 사용 가능한 메모리가 약간 더 많을 수도 있지만 그 당시에는 사용자의 혼란을 크게 가중시키고 잠재적 비용을 능가하지는 않을 것이라고 믿었다 . 그러나 일부 사용자는 수마트라의 64 비트 빌드를 요청했으며 다른 개발자들은 비공식 64 비트 빌드를 컴파일하여 32 비트 빌드보다 빠르게 문서를 로드했다.  그러나 공식 빌드 개발자는 비공식 빌드가\\'수마트라\\' 이름을 사용하지 않도록 요청했다.  2015년 10월 수마트라의 공식 64 비트 버전이 발표되었다. \\n\\n수마트라 소스 코드는 원래 Google 코드에서 호스팅되었다. 미국의 수출에대한 법적 규제로 인해 \" 쿠바,이란, 북한, 수단, 시리아를 포함한 외국자산관리국 제재목록에있는 국가에서는 \"이용할 수 없다 .   현재 소스 코드가 GitHub에 호스팅되어있다.', 'corpus_source': '위키피디아', 'url': None, 'domain': None, 'title': '수마트라 PDF', 'author': None, 'html': None, 'document_id': 47132}\n",
      "[' ++']\n",
      "{'text': 'my ( $error, $failed );\\n{\\n   local $@;\\n   $failed = not eval {\\n       # Code that could throw an exception (using \\'die\\')\\n       open(FILE, $file) || die \"Could not open file: $!\";\\n       while (<FILE>) {\\n           process_line($_);\\n       }\\n       close(FILE) || die \"Could not close $file: $!\";\\n       return 1;\\n   };\\n   $error = $@;\\n}\\n\\nif ( $failed ) {\\n   warn \"got error: $error\";\\n}\\n\\n\\n펄 5.005에 오브젝트 외 문자열까지 throw할 수 있는 기능이 추가되었다.\\n\\neval {\\n  open(FILE, $file) || die MyException::File->new($!);\\n  while (<FILE>) {\\n    process_line($_);\\n  }\\n  close(FILE) || die MyException::File->new($!);\\n};\\nif ($@) {\\n  # The exception object is in $@\\n  if ($@->isa(\\'MyException::File\\')) {\\n    # Handle file exception\\n  } else {\\n    # Generic exception handling\\n    # or re-throw with \\'die $@\\'\\n  }\\n}', 'corpus_source': '위키피디아', 'url': None, 'domain': None, 'title': '예외 처리 문법', 'author': None, 'html': None, 'document_id': 48850}\n",
      "['return ']\n",
      "{'text': '모든 마을 주민이 건강(Healthy)하거나 열(Fever)이 나는 두 가지 상태만 있는 마을이 있다고 가정하자. 이 마을에서 오직 마을 의사 만이 각자가 열이 나는지 아닌지 판단할 수 있다. 의사는 환자들에게 몸 상태가 어떤지 질문하여 열의 유무를 진단한다. 마을 사람들은 멀쩡하다(normal), 춥다(cold), 어지럽다(dizzy) 중에서 하나의 답변 만을 할 수 있다.\\n\\n의사는 환자들의 건강 상태가 이산적인 마르코프 연쇄를 따른다고 생각한다. \"건강함\", \"열이 남\"의 두 가지 상태가 존재하지만 의사는 이를 직접적으로 관찰할 수 없고 숨겨져 있다. 하루에 한번 환자는 의사에게 자신의 건강 상태에 따라 \"멀쩡함\", \"추움\", \"어지러움\" 중 한 가지를 얘기할 수 있다.\\n\\n관측값(멀쩡함, 추움, 어지러움)은 은닉 상태(건강함, 열이 남)와 함께 은닉 마르코프 모형(HMM)을 구성하며, 파이썬으로 나타내면 다음과 같다.\\n\\n\\nobs = (\\'normal\\', \\'cold\\', \\'dizzy\\')\\nstates = (\\'Healthy\\', \\'Fever\\')\\nstart_p = {\\'Healthy\\': 0.6, \\'Fever\\': 0.4}\\ntrans_p = {\\n \\'Healthy\\': {\\'Healthy\\': 0.7, \\'Fever\\': 0.3},\\n \\'Fever\\': {\\'Healthy\\': 0.4, \\'Fever\\': 0.6}\\n}\\nemit_p = {\\n \\'Healthy\\': {\\'normal\\': 0.5, \\'cold\\': 0.4, \\'dizzy\\': 0.1},\\n \\'Fever\\': {\\'normal\\': 0.1, \\'cold\\': 0.3, \\'dizzy\\': 0.6}\\n}\\n\\n\\n이 코드에서, 는 환자의 첫 방문시 HMM이 어느 상태에 있는가에 대한 의사의 생각을 반영한다. (물론 의사는 대부분의 환자가 건강할 것이란 것을 알고 있다) 주어진 전이 확률에 따르면 여기서는 평형 상태가 아닌 특정한 확률 분포 를 사용하였다. 는 기저의 마르코프 연쇄에 따른 건강 상태의 변화를 나타낸다. 이 예제에서 오늘 건강한 주민이 다음 날 열이 날 확률은 30% 뿐이다. 는 매 하루마다 환자가 자신의 몸 상태를 어떻게 느끼는지를 나타낸다. 그가 건강하다면 50%의 확률로 자신이 \"멀쩡하다\"고 느낀다. 만약 열이 난다면 60%의 확률로 \"어지럽다\"고 느끼게 된다.\\n\\n \\n환자는 3일간 연속으로 의사를 방문하였고, 의사는 첫날 환자가 \"멀쩡하다\"고 느꼈고, 이튿날 \"춥다\"고 느꼈으며, 셋째 날에는 \"어지럽다\"고 느꼈다는 것을 알게 되었다. 의사에게 질문이 하나 생겼다. 환자가 설명한 관측값에 맞는 가장 가능성 높은 건강 상태의 순서는 무엇인가? 이 질문은 비터비 알고리즘으로 답할 수 있다.\\n\\ndef viterbi(obs, states, start_p, trans_p, emit_p):\\n V = [{}]\\n for st in states:\\n V[st] = {\"prob\": start_p[st] * emit_p[st][obs], \"prev\": None}\\n # Run Viterbi when t > 0\\n for t in range(1, len(obs)):\\n V.append({})\\n for st in states:\\n max_tr_prob = max(V[t-1][prev_st][\"prob\"]*trans_p[prev_st][st] for prev_st in states)\\n for prev_st in states:\\n if V[t-1][prev_st][\"prob\"] * trans_p[prev_st][st] == max_tr_prob:\\n max_prob = max_tr_prob * emit_p[st][obs[t]]\\n V[t][st] = {\"prob\": max_prob, \"prev\": prev_st}\\n break\\n for line in dptable(V):\\n print(line)\\n opt = []\\n # The highest probability\\n max_prob = max(value[\"prob\"] for value in V[-1].values())\\n previous = None\\n # Get most probable state and its backtrack\\n for st, data in V[-1].items():\\n if data[\"prob\"] == max_prob:\\n opt.append(st)\\n previous = st\\n break\\n # Follow the backtrack till the first observation\\n for t in range(len(V) - 2, -1, -1):\\n opt.insert(0, V[t + 1][previous][\"prev\"])\\n previous = V[t + 1][previous][\"prev\"]\\n\\n print(\\'The steps of states are \\' + \\' \\'.join(opt) + \\' with highest probability of %s\\' % max_prob)\\n\\ndef dptable(V):\\n # Print a table of steps from dictionary\\n yield \" \".join((\"%12d\" % i) for i in range(len(V)))\\n for state in V:\\n yield \"%.7s: \" % state + \" \".join(\"%.7s\" % (\"%f\" % v[state][\"prob\"]) for v in V)\\n\\n함수 는 다음과 같은 인수를 갖는다. 는 [\\'normal\\', \\'cold\\', \\'dizzy\\']와 같은 관측값들의 순서이다. 는 숨겨진 상태들의 집합이다. 는 초기 확률, 는 전이 확률, 는 출력 확률이다. 코드를 단순하게 하기 위해 관측값들의 순서 는 비어있는 경우가 없으며, , 는 모든 상태 i, j에 대하여 정의되어 있다고 가정한다.\\n\\n실제 예제에서 전향/비터비 알고리즘은 다음과 같이 사용한다:\\n\\nviterbi(obs,\\n states,\\n start_p,\\n trans_p,\\n emit_p)\\n\\n\\n스크립트의 실행 결과는 다음과 같다:\\n\\n$ python viterbi_example.py\\n 0 1 2\\nHealthy: 0.30000 0.08400 0.00588\\nFever: 0.04000 0.02700 0.01512\\nThe steps of states are Healthy Healthy Fever with highest probability of 0.01512\\n\\n\\n이에 따르면 [\\'normal\\', \\'cold\\', \\'dizzy\\']는 상태 [\\'Healthy\\', \\'Healthy\\', \\'Fever\\']에 의해 생성될 가능성이 가장 높다는 것을 알 수 있다. 다시 말하면, 주어진 관측값 하에서 환자는 첫 이틀 동안은 건강했지만 첫날은 \\'멀쩡함\\', 둘째 날은 \\'추위\\'를 느꼈고, 셋째 날엔 열이 나게 되었다는 것이다.\\n\\n비터비 알고리즘의 과정은 트렐리스 다이어그램에 의해 도식화 될 수 있다. 비터비 경로는 트렐리스 다이어그램에서의 최단 경로와 같다. 이 병원 예제는 아래와 같이 나타난다. 비터비 경로는 진하게 표시하고 있다:', 'corpus_source': '위키피디아', 'url': None, 'domain': None, 'title': '비터비 알고리즘', 'author': None, 'html': None, 'document_id': 49013}\n",
      "['def ', 'def ']\n",
      "{'text': '사이베이스 에서는 더 이상 판매하지는 않지만, 왓콤 C/C ++ 컴파일러와 왓콤 포트란 컴파일러는 오픈 왓콤 꾸러미로 무료로 제공된다.\\n\\n2005년 12월의 오픈 왓콤 C/C++ 1.4 버전 출시판은 NT 또는 OS/2 호스트 플랫폼에서 지원되는 리눅스 x86을 실험 대상으로 도입했다. 버려진 QNX 버전에 대한 코드가 있지만 컴파일에 필요한 라이브러리를 오픈 소스로 공개 할 수 없다.날짜=2018-03-03\\n\\n안정화 버전 1.9 는 2010년 6월 출시되었다. \\n\\n64 비트 호스트 (윈도우즈 및 리눅스), 내장 텍스트 편집기, 2 단계 구축 체제 및 긴 파일 이름 (LFN)을 지원하는 도스 버전을 지원하는 분기 버전 2.0 베타가 출시되었다.', 'corpus_source': '위키피디아', 'url': None, 'domain': None, 'title': '왓콤 C/C++', 'author': None, 'html': None, 'document_id': 49321}\n",
      "[' ++']\n",
      "{'text': '오픈 왓콤의 구문은 마이크로소프트것과 볼랜드것과 같은 다른 컴파일러가 도입 한 여러 가지 규칙을 지원한다. 예를 들어 \"asm\"태그의 앞에 오는 밑줄의 수와 관련된 다른 규칙을 포함한다. 표준 호환 C 또는 C++가 아닌 다른 컴파일러 용으로 작성된 코드는 종종 Watcom 컴파일러로 컴파일된다.\\n\\n컴파일러는 C89/C90 표준을 기본적으로 지원한다.\\n\\n오픈 왓콤은 C99 표준과의 부분 호환성을 지원한다. 가장 일반적으로 사용되는 표준 부분을 구현한다. 그러나 문서화되지 않은 명령 줄 스위치 \"-za99\"를 통해서만 사용할 수 있다. 3 가지 C99 기능은 pre-v1.0 : C ++ 스타일 주석 (//), 유연한 배열 멤버, 열거 형 선언에 허용되는 후행 쉼표로 C90 확장으로 번들되었다. \\n\\n컴파일러는 현재 새로운 주요 C11 기능을 지원하지 않지만, C 라이브러리에는 \"Safe C\"기능이 포함되어 있다. 이는 C11의 \"경계 검사 인터페이스 (Annex K)\"로 알려진 ISO/IEC TR 24731-1  에 명시되어있다. 일부 함수 이름 예제는 strcpy_s(), memcpy_s(), printf_s()이다.  이 라이브러리는 2006년 4월에 오픈 왓콤 1.5와 함께 출시되었다.', 'corpus_source': '위키피디아', 'url': None, 'domain': None, 'title': '왓콤 C/C++', 'author': None, 'html': None, 'document_id': 49322}\n",
      "[' ++']\n",
      "{'text': '종교개혁을 추진 아이디어는 오직 성경이며 근대에는 교회 일치주의운동이다.\\n* Adventism –  Typified by the Seventh-day Adventist Church.\\n* Anabaptism\\n* Anglicanism\\n* Anglo-Catholicism –  High church theology of Anglicanism.\\n* Arminianism –  Reaction to Calvinist soteriology, which affirms man\\'s freedom to accept or reject God\\'s gift of salvation; identified with Dutch Reformed theologian Jacobus Arminius, developed by Hugo Grotius, defended by the Remonstrants, and popularized by John Wesley. Key doctrine of Anglican and Methodist churches, adopted by many Baptists and some Congregationalists.\\n* Brethrenism: Anabaptist-Pietist, with Open and Exclusive streams.\\n* Calvinism –  System of soteriology advanced by French Reformer John Calvin, which espouses Augustinian views on election and reprobation; stresses absolute predestination, the sovereignty of God and the inability of man to effect his own salvation by believing the Gospel prior to regeneration; principle doctrines are often summarized by the acronym TULIP (see Canons of Dort).\\n* Charismaticism –  Movement in many Protestant and some Catholic churches that emphasizes the gifts of the Spirit and the continual working of the Holy Spirit within the body of Christ; often associated with glossolalia (i.e., speaking in tongues) and divine healing.\\n* Congregationalism –  Form of governance used in Congregationalist, Baptist, and Pentecostal churches in which each congregation is self-governing and independent of all others.\\n* Counter-Reformation (or Catholic Reformation): The Roman Catholic response to the Protestant Reformation (see also Council of Trent).\\n* Creation Spirituality –  Panentheist theology.\\n* Deism –  The general doctrine that no faith is necessary for justified belief in God\\'s existence and/or the doctrine that God does not intervene in earthly affairs (contrasts with Fideism).\\n* Dispensationalism –  Belief in a conservative, Biblically literalist hermeneutic and philosophy of history that, by stressing the dichotomy between Israel and the Church, rejects supersessionism (commonly referred to as \"replacement theology\").\\n* Evangelicalism –  Typically conservative, predominantly Protestant outlook that prioritizes evangelism above all or most other activities of the Church (see also neo-evangelicalism).\\n* Fideism –  The doctrine that faith is irrational, that God\\'s existence transcends logic, and that all knowledge of God is on the basis of faith (contrasts with Deism).\\n* Latitudinarianism: Broad church theology of Anglicanism.\\n* Liberalism –  Belief in interpreting the Bible to allow for the maximum amount of individual freedom.\\n* Low church –  Puritanical / Evangelical theology of Anglicanism.\\n* Methodism –  Form of church governance and doctrine used in the Methodist Church.\\n* Modernism –  Belief that truth changes, so doctrine must evolve in light of new information or trends.\\n* Latter Day Saint movement (Mormonism): Belief that the Book of Mormon and others to be additional divine scriptures; belief in living prophets; generally reject the Nicene creed and other early creeds.\\n* New Thought –  Movement based on 19th century New England belief in positive thinking. Several denominations arose from it including Unity Church, and Religious Science.\\n* Nonconformism –  Advocacy of religious liberty; includes Quakers, Methodists, Baptists, Congregationalists and Salvationists.\\n* Nontrinitarianism –  Rejection of the doctrine of Trinity.\\n* Open Theism –  A rejection of the exhaustive foreknowledge of God, by attributing it to Greek philosophy.\\n* Pentecostalism\\n* Pietism –  A stream of Lutheranism placing renewed emphasis on the Bible and a universal priesthood of all believers.\\n* Presbyterianism –  Form of governance used in Presbyterian and Reformed churches.\\n* Puritanism: Movement to cleanse Episcopalianism of any \"ritualistic\" aspects.\\n* Supersessionism –  Belief that the Christian Church, the body of Christ, is the only elect people of God in the new covenant age (see also covenant theology).\\n* Restoration Movement –  19th century attempt to return to a New Testament model of the Church.\\n* Restorationism (Christian primitivism) –  The doctrine that most of the modern Church is apostate; includes the Millerites, Seventh-day Adventists, Jehovah\\'s Witnesses, and Latter Day Saints.\\n* Salvation Army –  An offshoot of the Methodist Church known for its charitable activities\\n* Tractarianism –  Oxford Movement. It led to Anglo-Catholicism.\\n* Ultramontanism –  A movement within 19th-century Roman Catholicism to emphasize papal authority, particularly in the wake of the French Revolution and the secularization of the state\\n* Unification Church\\n* Unitarianism –  Rejects a holy \"Trinity\" and also the divinity of Christ, with some exceptions (see modalism).\\n* Universalism –  In various forms, the belief that all people will ultimately be reconciled with God; most famously defended by Origen.', 'corpus_source': '위키피디아', 'url': None, 'domain': None, 'title': '기독교 신학개요', 'author': None, 'html': None, 'document_id': 49544}\n",
      "['return ']\n",
      "{'text': 'wolfSSL (이전 이름 CyaSSL)는 임베디드 시스템 개발자의 사용을 타겟으로 한 소형의 휴대성 좋은 내장 SSL / TLS 라이브러리이다. C 언어 로 작성된 TLS (SSL 3.0 TLS 1.0, 1.1, 1.2, 1.3, DTLS 1.0, 1.2)의 오픈 소스 를 구현한다. SSL / TLS 클라이언트 라이브러리 및 서버 라이브러리를 포함, SSL 및 TLS 에서 정의 된 다양한 API 외에 지원한다. 또한 OpenSSL 에서 주로 사용되는 함수와 호환  의 인터페이스를 제공하고있다.\\n\\nwolfSSL / CyaSSL의 전신 인 yaSSL는 임베디드 환경과 자원의 한정된 리얼 타임 OS를 위한 C ++ 로 작성된 SSL 라이브러리이다.', 'corpus_source': '위키피디아', 'url': None, 'domain': None, 'title': 'WolfSSL', 'author': None, 'html': None, 'document_id': 50451}\n",
      "[' ++']\n",
      "{'text': '메시지 루프(message loop)는 윈도우 프로그램에서 메시지를 받아들이는 부분을 뜻하며, 윈도우 기반의 모든 GUI 프로그램에 반드시 포함되는 루틴이다.\\n\\n윈도우의 GUI 프로그램은 기본적으로 이벤트 드리븐으로 동작한다. 윈도우 시스템은 각각 프로세스에 대해서 개별적인 메시지 큐를 할당한다. 어떤 프로세스가 실행되었을 때 해당 프로세스는 메시지 큐를 부여 받으며, 프로세스에 대해서 사용자의 마우스 입력이나 키보드 입력 등 메시지가 발생했을 때 운영체제가 해당 프로세스의 메시지 큐에 메시지를 넣는다. 또는 프로세스가 이런 메시지들을 스스로 자신의 큐에 추가할 수도 있다. 사용자의 입력이나 기타 여러 가지 행동을 받아서 처리하기 위해서 각각의 프로세스는 자신의 큐에서 메시지들을 지속적으로 읽어들이면서 각 메시지에 대응하는 행동을 수행한다. 이를 위해 프로그래머는 프로그램 내부에 메시지를 받아들이는 와 받은 메시지를 메시지 처리 함수로 디스패치(전달; 전파)하는 를 무한정 호출하는 루프를 작성함으로써 프로세스가 메시지를 처리할 수 있게 한다. 이를 메시지 루프라고 한다. 이는 일반적으로 메인 프로그램(메인 함수)의 일부로서 메인 스레드에서 동작한다. 프로세스가 소유한 모든 창(윈도우) 각각에 대한 메시지는 메시지 큐를 통해 전달되며, 해당 프로세스의 메시지 루프에 의해 처리(핸들링)된다. 메시지 루프는 이벤트 루프의 일종이기도 하다.\\n\\n메시지 루프는 기본적으로 다음과 같이 구성된다.\\n\\n\\nint WINAPI WinMain(HINSTANCE hInstance, HINSTANCE hPrevInstance, LPSTR lpCmdLine, int nCmdShow)\\n{\\n    MSG msg;\\n    BOOL bRet;\\n\\n    while(1)\\n    {\\n        bRet = GetMessage(&msg, NULL, 0, 0);\\n\\n        if (bRet > 0)  // (bRet > 0 이면 메시지가 처리되어야 한다.)\\n        {\\n            TranslateMessage(&msg);\\n            DispatchMessage(&msg);\\n        }\\n        else if (bRet < 0)  // (bRet == -1 은 에러를 뜻한다.)\\n        {\\n            // 에러에 대한 처리나 로그 남김이나 프로그램 종료 등의 구문.\\n            // ...\\n        }\\n        else  // (bRet == 0 은 프로그램 종료를 의미한다.)\\n        {\\n            break;\\n        }\\n    }\\n    return msg.wParam;\\n}\\n\\n\\n전형적으로 이벤트 루프는 가상 키 입력을 문자열로 변환하기 위한 TranslateMessage()를 각 메시지에 대해 호출한다. TranslateMessage() 호출은 필수는 아니지만 호출되지 않는 경우 문제가 발생할 소지가 있다. 메시지 루프는 DispatchMessage()는 반드시 호출해야 한다.\\n\\n메시지 루프는 핸들링하고 있는 메시지 자체에 대해서 직접적으로 처리하지는 않는다. 메시지 루프는 DispatchMessage()를 통해서 메시지들을 해당 메시지가 전달되어야 하는 윈도우의 \"윈도우 프로시저\"에 전달함으로써 메시지를 전파(Dispatch; 디스패치)시킨다. (\"윈도우 프로시저\"는 윈도우 클래스가 등록될 때 함께 등록되는 콜백 프로시저를 뜻한다. 여러 개의 창이 하나의 윈도우 프로시저를 공유하는 것도 가능하다.)\\n\\n프로그램 코드를 통해서 윈도우 프로시저에 직접 메시지를 보낼 수도 있으며, 시스템 큐를 거치지 않고 바로 전달되는 이런 메시지들을 가리켜 비큐 메시지(Nonqueued Messages)라고 부른다.\\n\\n메시지 루프는 윈도우 GUI 프로그램에 반드시 필요한 부분이지만 엄격한 규칙이나 요구사항은 없다. 메시지를 받아들이고 디스패치하는 부분은 프로그램 코드의 어느 부분에라도 구현될 수 있으며 다양한 옵션이 있다. 예를 들어 GetMessage()는 메시지가 들어올 때까지 스레드를 블록시키지만, GetMessage() 대신 PeekMessage()와 같이 메시지가 있을 때는 읽어들이지만 메시지가 없을 경우에는 즉시 반환하는 논블록킹(Non-blocking) 함수를 이용하는 수도 있다. 또한 WaitMessage()를 이용하면 큐에 메시지가 있을 때까지 스레드를 슬립시키는 것도 가능하다.\\n\\n한편 윈도우 폼, 윈도우 프레젠테이션 파운데이션, MFC, 델파이, Qt와 같은 최근의 GUI 프레임워크로 프로그램을 개발할 때에는 프로그래머가 메시지 루프를 별도로 구현할 필요가 없다. 하지만 프레임워크가 내부적으로 메시지 루프와 같은 형태로 사용자 입력을 처리하는 부분을 구현하고 있으며, 깊이 있는 프로그래밍이 필요한 경우 프로그래머에 의해 수정될 여지가 있다.', 'corpus_source': '위키피디아', 'url': None, 'domain': None, 'title': '마이크로소프트 윈도우의 메시지 루프', 'author': None, 'html': None, 'document_id': 50502}\n",
      "[' int ', 'return ']\n",
      "{'text': 'ToolboX는 다양한 학문 분야의 문제를 표현하는 problegram\\xa0의 개념을 기반으로한다. 정의에는 문제, 팁, wiki 도움말, 해당 (알파) 숫자 솔루션, 제안 된 프로그램 (다른 언어) 및 문제를 푼 후 해당 문제에 대한 핵심정리 같은 정보가 포함된다. 문제 (또는 모듈)의 관계는 JSON 형식의 파일 이름이있는 목록이다.\\n  {\\n  \"class\": \"wordproblem\",\\n  \"statement\": \"Determine $$ \\\\left(\\\\frac{2}{3}\\\\right)^2$$\",\\n  \"solution\":  \"4/9\",\\n  \"tip\"    : [\"Raise numerator and denominator to the same power.\"],\\n  \"keyword\": [\"mathematics\", \"rationals\"],\\n  \"wiki\"   : [\"\\\\poweroffraction\"],\\n  \"hint\" : {\\n    \"js\"    : \"\",\\n    \"octave\": \"\"\\n  },\\n  \"program\" : {\\n    \"js\"    : \"\\n  numerator   = pow(2, 2);\\n  denominator = pow(3, 2);\\n  solution = numerator / denominator;\\n  },\\n    \"octave\": \"\\n  numerator   = 2^2\\n  denominator = 3^2\\n  solution = numerator / denominator\"\\n  },\\n  \"takehomemessage\": \"The power of a fraction derives from the product of fractions.\",\\n  \"author\": \"ToolboX\",\\n  \"URL\"   : \"toolbox.uma.es\",\\n  \"CC\"    : \"BY-NC-SA 3.0\"\\n  }', 'corpus_source': '위키피디아', 'url': None, 'domain': None, 'title': 'Toolbox (소프트웨어)', 'author': None, 'html': None, 'document_id': 50992}\n",
      "['\\\\frac']\n",
      "{'text': 'Gson은 반영을 사용하므로 (역)직렬화된 오브젝트의 클래스에 대한 추가적인 수정이 필요하지 않다. 사실 클래스가 no-args 기본 생성자만 있으면 된다. (무조건 그런 것은 아님. 기능 문단 참고)\\n\\n다음의 예는 샘플 오브젝트를 직렬화할 때 가장 기초적인 Gson 사용법을 표현한 것이다:\\n\\nmodule GsonExample {\\n    requires gson;\\n    requires java.sql; // Required by gson\\n    exports Person;\\n    exports Car;\\n}\\n\\n\\npackage Car;\\n\\npublic class Car {\\n    public String manufacturer;\\n    public String model;\\n    public double capacity;\\n    public boolean accident;\\n\\n    public Car() {\\n    }\\n\\n    public Car(String manufacturer, String model, Double capacity, boolean accident) {\\n        this.manufacturer = manufacturer;\\n        this.model = model;\\n        this.capacity = capacity;\\n        this.accident = accident;\\n    }\\n\\n    @Override\\n    public String toString() {\\n        return (\"Manufacturer: \" + manufacturer + \", \" + \"Model: \" + model + \", \" + \"Capacity: \" + capacity + \", \" + \"Accident: \" + accident);\\n    }\\n}\\n\\n\\npackage Person;\\n\\nimport Car.Car;\\n\\npublic class Person {\\n    public String name;\\n    public String surname;\\n    public Car[] cars;\\n    public int phone;\\n    public transient int age;\\n\\n    public Person() {\\n    }\\n\\n    public Person(String name, String surname, int phone, int age, Car[] cars) {\\n        this.name = name;\\n        this.surname = surname;\\n        this.cars = cars;\\n        this.phone = phone;\\n        this.age = age;\\n    }\\n\\n    @Override\\n    public String toString() {\\n        StringBuilder sb = new StringBuilder();\\n        sb.append(\"Name: \").append(name).append(\" \").append(surname).append(\"\\\\n\");\\n        sb.append(\"Phone: \").append(phone).append(\"\\\\n\");\\n        sb.append(\"Age: \").append(age).append(\"\\\\n\");\\n        int i = 0;\\n        for (Car item : cars) {\\n            i++;\\n            sb.append(\"Car \").append(i).append(\": \").append(item).append(\"\\\\n\");\\n        }\\n        return sb.toString();\\n    }\\n}\\n\\n\\n호출 후\\n\\npackage Main;\\n\\nimport Car.Car;\\nimport Person.Person;\\nimport com.google.gson.Gson;\\n\\npublic class Main {\\n    public static void main(String[] args) {\\n        Gson gson = new Gson();\\n        Car audi = new Car(\"Audi\", \"A4\", 1.8, false);\\n        Car skoda = new Car(\"Škoda\", \"Octavia\", 2.0, true);\\n        Car[] cars = {audi, skoda};\\n        Person johnDoe = new Person(\"John\", \"Doe\", 2025550191, 35, cars);\\n        System.out.println(gson.toJson(johnDoe));\\n    }\\n}\\n\\n\\n다음의 출력을 받게 된다:\\n\\n{\\n   \"name\":\"John\",\\n   \"surname\":\"Doe\",\\n   \"cars\":[\\n      {\\n         \"manufacturer\":\"Audi\",\\n         \"model\":\"A4\",\\n         \"capacity\":1.8,\\n         \"accident\":false\\n      },\\n      {\\n         \"manufacturer\":\"Škoda\",\\n         \"model\":\"Octavia\",\\n         \"capacity\":2.0,\\n         \"accident\":true\\n      }\\n   ],\\n   \"phone\":2025550191\\n}\\n\\n\\nPerson 필드 \"age\"가 transient로 표시되므로 출력에 포함되지 않는다.\\n\\n마지막 예제에서 만든 출력을 역직렬화하려면 다음의 코드를 실행할 수 있다:\\n\\npackage Main;\\n\\nimport Person.Person;\\nimport com.google.gson.Gson;\\n\\npublic class Main {\\n    public static void main(String[] args) {\\n        Gson gson = new Gson();\\n        String json = \"{\\\\\"name\\\\\":\\\\\"John\\\\\",\\\\\"surname\\\\\":\\\\\"Doe\\\\\",\\\\\"cars\\\\\":[{\\\\\"manufacturer\\\\\":\\\\\"Audi\\\\\",\\\\\"model\\\\\":\\\\\"A4\\\\\",\" +\\n                \"\\\\\"capacity\\\\\":1.8,\\\\\"accident\\\\\":false},{\\\\\"manufacturer\\\\\":\\\\\"Škoda\\\\\",\\\\\"model\\\\\":\\\\\"Octavia\\\\\",\\\\\"capacity\\\\\"\" +\\n                \":2.0,\\\\\"accident\\\\\":true}],\\\\\"phone\\\\\":2025550191}\";\\n        Person johnDoe = gson.fromJson(json, Person.class);\\n        System.out.println(johnDoe.toString());\\n    }\\n}\\n\\n\\n다음의 출력이 만들어진다:\\n\\nName: John Doe\\nPhone: 2025550191\\nAge: 0\\nCar 1: Manufacturer: Audi, Model: A4, Capacity: 1.8, Accident: false\\nCar 2: Manufacturer: Škoda, Model: Octavia, Capacity: 2.0, Accident: true', 'corpus_source': '위키피디아', 'url': None, 'domain': None, 'title': 'Gson', 'author': None, 'html': None, 'document_id': 51530}\n",
      "['return ', ' int ', ' int ', ' int ', ' int ', ' int ', 'i++', 'return ']\n",
      "{'text': 'Three.js 라이브러리는 하나의 자바스크립트 파일이다. 로컬이나 원격 사본에 연결함으로써 웹 페이지 안에 포함시킬 수 있다.\\n\\n</syntaxhighlight>\\n\\n다음의 코드는 씬을 하나 만들고 카메라 하나와 큐브 하나를 해당 씬에 추가하고 WebGL 렌더러를 만들고 document.body 요소에 뷰포트를 추가한다. 로드되면 큐브는 X축과 Y축 주변을 회전한다.\\n\\n\\n<script>\\n\\n    var camera, scene, renderer,\\n    geometry, material, mesh;\\n\\n    init();\\n    animate();\\n\\n    function init() {\\n        scene = new THREE.Scene();\\n\\n        camera = new THREE.PerspectiveCamera( 75, window.innerWidth / window.innerHeight, 1, 10000 );\\n        camera.position.z = 1000;\\n\\n        geometry = new THREE.BoxGeometry( 200, 200, 200 );\\n        material = new THREE.MeshBasicMaterial( { color: 0xff0000, wireframe: true } );\\n\\n        mesh = new THREE.Mesh( geometry, material );\\n        scene.add( mesh );\\n\\n        renderer = new THREE.WebGLRenderer();\\n        renderer.setSize( window.innerWidth, window.innerHeight );\\n\\n        document.body.appendChild( renderer.domElement );\\n    }\\n\\n    function animate() {\\n        requestAnimationFrame( animate );\\n        render();\\n    }\\n\\n    function render() {\\n        mesh.rotation.x += 0.01;\\n        mesh.rotation.y += 0.02;\\n\\n        renderer.render( scene, camera );\\n    }\\n\\n</script>', 'corpus_source': '위키피디아', 'url': None, 'domain': None, 'title': 'Three.js', 'author': None, 'html': None, 'document_id': 54440}\n",
      "['+=', '+=']\n",
      "{'text': '2011년, SNOMED CT 컨텐츠를 EL++ 정규식의 하위세트로 제한하고, 다음의 연산자로 제한했다:\\n\\n*Top, bottom\\n*Primitive roles and concepts with asserted parent(s) for each\\n*Concept definition and conjunction but NOT disjunction or negation\\n*Role hierarchy but not role composition\\n*Domain and range constraints\\n*Existential but not universal restriction\\n*A restricted form of role inclusion axiom (xRy ^ ySz => xRz)\\n*논리는 가까운 미래에 General Concept Inclusion Axioms를 포함하도록 확장될 것이다.\\n\\n모델링을 이해하기위해서, concept의 stated view과 inferred view를 보는 것 또한 중요하다. State view를 더 살펴보면, SNOMED CT는 과거에 \"proximal parent\" 접근법이라고 하는 모델링 접근법을 사용했다. 2015년 이후, \"proximal primitive parent\"라는 더 우수한 접근법이 도입되었다.', 'corpus_source': '위키피디아', 'url': None, 'domain': None, 'title': 'SNOMED CT', 'author': None, 'html': None, 'document_id': 54914}\n",
      "['L++']\n",
      "{'text': 'class Pen\\n{\\n    private int m_color; // private field\\n    \\n    // public get property\\n    public int color () {\\n        return m_color;\\n    }\\n    \\n    // public set property\\n    public void color (int value) {\\n         m_color = value;\\n    }\\n}\\n\\n\\n\\nauto pen = new Pen;\\npen.color = ~pen.color; // bitwise complement\\n\\n// the set property can also be used in expressions, just like regular assignment\\nint theColor = (pen.color = 0xFF0000);\\n\\n\\nIn D version 2, each property accessor or mutator must be marked with @property:\\n\\n\\nclass Pen\\n{\\n    private int m_color; // private field\\n    \\n    // public get property\\n    @property public int color () {\\n        return m_color;\\n    }\\n    \\n    // public set property\\n    @property public void color (int value) {\\n        m_color = value;\\n    }\\n}', 'corpus_source': '위키피디아', 'url': None, 'domain': None, 'title': '프로퍼티 (프로그래밍)', 'author': None, 'html': None, 'document_id': 55062}\n",
      "[' int ', ' int ', 'return ', ' int ', ' int ', 'return ']\n",
      "{'text': \"type TPen = class\\n  private\\n    FColor: TColor;\\n    function GetColor: TColor;\\n    procedure SetColor(const AValue: TColor);\\n  public\\n    property Color: Integer read GetColor write SetColor;\\nend;\\n\\nfunction TPen.GetColor: TColor;\\nbegin\\n  Result := FColor;\\nend;\\n\\nprocedure TPen.SetColor(const AValue: TColor);\\nbegin\\n  if FColor <> AValue\\n   then FColor := AValue;\\nend;\\n\\n\\n\\n// accessing:\\nvar Pen: TPen;\\n// ...\\nPen.Color := not Pen.Color;\\n\\n(*\\nDelphi also supports a 'direct field' syntax -\\n\\nproperty Color: TColor read FColor write SetColor;\\n\\nor\\n\\nproperty Color: TColor read GetColor write FColor;\\n\\nwhere the compiler generates the exact same code as for reading and writing\\na field. This offers the efficiency of a field, with the safety of a property.\\n(You can't get a pointer to the property, and you can always replace the member\\naccess with a method call.)\\n*)\", 'corpus_source': '위키피디아', 'url': None, 'domain': None, 'title': '프로퍼티 (프로그래밍)', 'author': None, 'html': None, 'document_id': 55063}\n",
      "['const ', 'const ']\n",
      "{'text': 'class Pen \\n{\\n   // private data member\\n   Color color;\\npublic:\\n   // public property\\n   property Color color \\n   {  \\n      get { return color; }\\n      set { color = value; }\\n   }\\n}\\nPen blackPen { color = black };\\nPen whitePen { color = white };\\nPen pen3 { color = { 30, 80, 120 } };\\nPen pen4 { color = ColorHSV { 90, 20, 40 } };', 'corpus_source': '위키피디아', 'url': None, 'domain': None, 'title': '프로퍼티 (프로그래밍)', 'author': None, 'html': None, 'document_id': 55064}\n",
      "['return ']\n",
      "{'text': 'function Pen() {\\n    this._color = 0;\\n}\\n// Add the property to the Pen type itself, can also\\n// be set on the instance individually\\nObject.defineProperties(Pen.prototype, {\\n    color: {\\n        get: function () {\\n            return this._color;\\n        },\\n        set: function (value) {\\n            this._color = value;\\n        }\\n    }\\n});\\n\\n\\nvar pen = new Pen();\\npen.color = ~pen.color; // bitwise complement\\npen.color += 1; // Add one', 'corpus_source': '위키피디아', 'url': None, 'domain': None, 'title': '프로퍼티 (프로그래밍)', 'author': None, 'html': None, 'document_id': 55065}\n",
      "['return ', '+=']\n",
      "{'text': 'package  {\\n\\tpublic class Pen {\\n\\t\\tprivate var _color:uint = 0;\\n\\t\\t\\n\\t\\tpublic function get color():uint {\\n\\t\\t\\treturn _color;\\n\\t\\t}\\n\\t\\t\\n\\t\\tpublic function set color(value:uint):void {\\n\\t\\t\\t_color = value;\\n\\t\\t}\\n\\t}\\n}\\n\\n\\nvar pen:Pen = new Pen();\\npen.color = ~pen.color; // bitwise complement\\npen.color += 1; // add one', 'corpus_source': '위키피디아', 'url': None, 'domain': None, 'title': '프로퍼티 (프로그래밍)', 'author': None, 'html': None, 'document_id': 55066}\n",
      "['return ', '+=']\n",
      "{'text': 'class Pen\\n{\\n    private int $color = 1;\\n\\n    function __set($property, $value)\\n    {\\n        if (property_exists($this, $property)) { \\n            $this->$property = $value;\\n        }\\n    }\\n\\n    function __get($property)\\n    {\\n        if (property_exists($this, $property)) {\\n            return $this->$property;\\n        }\\n        return null;\\n    }\\n}\\n\\n \\n\\n$p = new Pen();\\n$p->color = ~$p->color; // Bitwise complement\\necho $p->color;', 'corpus_source': '위키피디아', 'url': None, 'domain': None, 'title': '프로퍼티 (프로그래밍)', 'author': None, 'html': None, 'document_id': 55068}\n",
      "[' int ', 'return ', 'return ']\n",
      "{'text': 'class Pen(object):\\n    def __init__(self) -> None:\\n        self._color = 0  # \"private\" variable\\n\\n    @property\\n    def color(self):\\n        return self._color\\n\\n    @color.setter\\n    def color(self, color):\\n        self._color = color\\n\\n\\n\\npen = Pen()\\n# Accessing:\\npen.color = ~pen.color  # Bitwise complement ...', 'corpus_source': '위키피디아', 'url': None, 'domain': None, 'title': '프로퍼티 (프로그래밍)', 'author': None, 'html': None, 'document_id': 55069}\n",
      "['def ', 'def ', 'return ', 'def ']\n",
      "{'text': 'class Pen\\n  def initialize\\n    @color = 0\\n  end\\n    \\n  # Defines a getter for the @color field\\n  def color\\n    @color\\n  end\\n\\n  # Defines a setter for the @color field\\n  def color=(value)\\n    @color = value\\n  end\\nend\\n\\npen = Pen.new\\npen.color = ~pen.color    # Bitwise complement\\n\\n\\n루비는 또한 클래스의 인스턴스 메소드로 정의되는 자동 게터/세터 신시사이저를 제공한다.\\n\\n\\nclass Pen\\n  attr_reader :brand    # Generates a getter for @brand (Read-Only)\\n  attr_writer :size     # Generates a setter for @size  (Write-Only)\\n  attr_accessor :color  # Generates both a getter and setter for @color (Read/Write)\\n\\n  def initialize\\n    @color = 0          # Within the object, we can access the instance variable directly\\n    @brand = \"Penbrand\"\\n    @size = 0.7         # But we could also use the setter method defined by the attr_accessor Class instance method\\n  end\\nend\\n\\npen = Pen.new\\nputs pen.brand           # Accesses the pen brand through the generated getter\\npen.size = 0.5           # Updates the size field of the pen through the generated setter\\npen.color = ~pen.color', 'corpus_source': '위키피디아', 'url': None, 'domain': None, 'title': '프로퍼티 (프로그래밍)', 'author': None, 'html': None, 'document_id': 55070}\n",
      "['def ', 'def ', 'def ', 'def ']\n",
      "{'text': 'Python 프로그래밍 언어에서는 메타 문법 변수로 주로 spam, ham, eggs가 사용되곤 한데, 이는 동명의 코미디 그룹인 Monty \"Python\"에서 제작한 코미디 단편인 \"Spam\" 에서 유래된 것이다.   다음 예제에서 spam, ham, eggs는 변수 이름에 메타 문법 변수 이름이 사용된 경우이다. \\n# spam 이라는 이름의 변수를 선언.\\ndef spam():\\n\\n    # ham이라는 변수를 선언.\\n    ham = \"Hello World!\"\\n\\n    # eggs라는 변수를 선언.\\n    eggs = 1\\n\\n    return', 'corpus_source': '위키피디아', 'url': None, 'domain': None, 'title': '메타 문법 변수', 'author': None, 'html': None, 'document_id': 56122}\n",
      "['def ']\n",
      "{'text': \"ㅡTheo Magath is extremely dutiful, and most of his personality and choices revolve around what he believes is his duty as a soldier of Marley. Even though he, as a typical Marleyan, is prejudiced against Eldians, valuing the life of the Marleyans above theirs and being angered when one questions his orders, he is willing to put his opinion aside and let the Eldians under his command speak, in the case they might have something useful to add to the current situation, such as Colt Grice and Zeke Yeager.\\n\\n마레군으로서의 강인힌 사명감과 책임감, 성실함, 부하들인 엘디아 부대를 이등 시민이란 이유로 차별하지 않고 자유자재로 소통하는 유연함 같이 군인으로서 가져야 할 모든 요소들을 완벽히 갖춘 참군인의 표상이다. 마레군으로서 해야 하는 의무에 엄격하고 완고한 성격이며 강한 개혁 의지도 갖추었다. 나라의 명예를 중시하고 팔백만 명의 엘디아 부대에게 자살돌격을 명령했다고 문제 삼는 몇몇도 있지만 이것만으로는 함부로 속단하는 것은 이르다. 심지어 레벨리오 전투 이후로 빌리 타이부어의 인맥과 연계된 정치당의 힘으로 최고 통수권자인 원수로 승진했는데도 마레군의 부족한 병력을 생각하여 직접 군을 이끌고 파라디 섬을 재침공하고 수레 거인의 신형 기관총탑 포수까지 맞는 현장 지휘관의 역할에 적극적으로 임하고 있다. 슬라바 전투에는 다른 마레군 장성들과 다름 없이 엘디아 인들을 하대하고 차별하는 모습은 보이기는 하지만, 이는 어디까지나 차별이 만연한 마레군 내부의 풍조를 감안하면 군부의 비위에 충실하게 행동한 것에 가깝다. 그로스로 대표되는 엘디아 인들을 모질게 대하는 군인들처럼 정말로 악의가 있어서 차별하는 것은 아니다.\\n\\n 정ㅅ매사에 근엄한 포스와 분위기를 잃지 않는 철통 같은 엄격함과 진지함을 지닌 전형적인 군인형 인물이다.\\n성실하고 융통성과 열린 식견, 의식을 갖춘 것만으로 대다수의 마레인들뿐만 아니라 세계의 다른 사람들하고도 차별화되는 인물. 백여 년간 거인의 힘에만 의존한 끝에 기술에 도태되고 태만해진 다른 장성들과 다르게 이제 거인의 힘이 아니라 인간의 힘으로 나아가야 한다는 일침을 놓는 소신 있는 성격과 성실함을 갖고 있다. 현재는 타이부어 가문의 수장이자 대륙의 실권자인 빌리 타이부어에게 군\\n\\n매사에 근엄한 포스와 분위기를 잃지 않는 철통 같은 엄격함과 진지함을 지닌 전형적인 군인형 인물이다.\\n\\nㅏ\\nPersonality\\nTheo Magath is extremely dutiful, and most of his personality and choices revolve around what he believes is his duty as a soldier of Marley. Even though he, as a typical Marleyan, is prejudiced against Eldians, valuing the life of the Marleyans above theirs and being angered when one questions his orders, he is willing to put his opinion aside and let the Eldians under his command speak, in the case they might have something useful to add to the current situation, such as Colt Grice and Zeke Yeager.\\n\\nHe readily accepted Willy Tybur, an Eldian, as his superior after figuring it out, and accepted the fact that he will soon inherit the role as the general of Marley's army more out of a sense of duty to his commanding officer and homeland than personal desire, even though Willy had presented it as an offer instead of an order. He even states that the army does not belong to him, but the nation itself.\\n\\nMany of his decisions make him appear as though he considers the Eldians under him as expendable pawns and uncaring towards their lives, such as deciding to sacrifice 800 Eldian soldiers to destroy the anti-Titan artillery, while keeping two holders of the power of the Titans and the Warrior candidates safe. However, he mostly goes with this course of action because it is most beneficial to Marley, as he wanted to keep Warriors, as well as the Warrior candidates, out of harm's way since most of his nation's might comes from the Titans, being aware of the other nations' technological superiority. Compared to other Marleyans, he is quite tolerant of Eldians, willing to hear them speak, does not appear to get physical with them, and even shows genuine concern not present in other Marleyans, noted when wishing a safe return to the Warriors who were leaving for the Paradis Island Operation.\\n\\nMagath proves himself to be very cunning and perceptive, managing to figure out the Tybur family was secretly ruling Marley, and seeing through the country's deceptions in its propaganda. He also speaks with a certain level of dry wit, noting to Willy Tybur that the statue of Helos was the true spirit of Marley, due to being completely hollow.\\n\\nHistory\", 'corpus_source': '위키피디아', 'url': None, 'domain': None, 'title': '테오 마가트', 'author': None, 'html': None, 'document_id': 56956}\n",
      "['return ']\n",
      "{'text': '다음의 자바의 단순 스택 구현체에서 볼 때 스택에서 팝(pop)된 각 요소는 외부 참조가 없어지면 시맨틱 가비지가 된다.Simplified from Effective Java Item 6 by omitting resizing and explicit exceptions.\\n\\npublic class Stack {\\n    private Object[] elements;\\n    private int size;\\n\\n    public Stack(int capacity) {\\n        elements = new Object[capacity];\\n    }\\n    public void push(Object e) {\\n        elements[size++] = e;\\n    }\\n    public Object pop() {\\n        return elements[--size];\\n    }\\n}\\n\\n이러한 일이 발생하는 이유는 가 여전히 객체 참조를 포함하지만 해당 객체는 이 참조를 통해 다시는 접근되지 않기 때문이다. 은 클래스에 프라이빗(private)이며  메소드는 이미 팝되지 않은 요소들의 참조만 반환한다. ( 감소 이후 이 클래스는 해당 요소로 다시는 접근하지 못한다) 그러나 이러한 일을 인지하는 일에는 클래스의 코드 분석이 요구되며 이러한 현상은 일반적으로 예측하지 못하는 사항이다.\\n\\n나중에  호출이 스택을 이전 크기로 다시 증가시킨다면 이 마지막 참조를 덮어쓰며 해당 객체는 신택틱 가비지가 되는데 그 이유는 해당 객체를 다시는 접근하지 못하기 때문이며 이로써 쓰레기 수집 대상이 된다.', 'corpus_source': '위키피디아', 'url': None, 'domain': None, 'title': '쓰레기 (컴퓨터 과학)', 'author': None, 'html': None, 'document_id': 59474}\n",
      "[' int ', 'e++', 'return ']\n",
      "{'text': '다음 예제 코드는 시작값   = 2로 10403의 인수 101을 찾는다.\\n\\n\\n#include <stdio.h>\\n#include <stdlib.h>\\n\\nint gcd(int a, int b) \\n{\\n    int remainder;\\n    while (b != 0) {\\n        remainder = a % b;\\n        a = b;\\n        b = remainder;\\n    }\\n    return a;\\n}\\n\\nint main (int argc, char *argv[]) \\n{\\n    int number = 10403, loop = 1, count;\\n    int x_fixed = 2, x = 2, size = 2, factor;\\n\\n    do {\\n        printf(\"----   loop %4i   ----\\\\n\", loop);\\n        count = size;\\n        do {\\n            x = (x * x + 1) % number;\\n            factor = gcd(abs(x - x_fixed), number);\\n            printf(\"count = %4i  x = %6i  factor = %i\\\\n\", size - count + 1, x, factor);\\n        } while (--count && (factor == 1));\\n        size *= 2;\\n        x_fixed = x;\\n        loop = loop + 1;\\n    } while (factor == 1);\\n    printf(\"factor is %i\\\\n\", factor);\\n    return factor == number ? EXIT_FAILURE : EXIT_SUCCESS;\\n}\\n\\n위의 코드는 알고리즘이 진행되는 것을 중간값으로 표시한다.\\n출력의 마지막 행은 \"factor is 101\"이다. 이 코드는 x를 제곱할 때 정수 자료형에서 오버플로우가 일어날 수 있어 테스트 값이 작은 경우에만 적용된다.', 'corpus_source': '위키피디아', 'url': None, 'domain': None, 'title': '폴라드 로 알고리즘', 'author': None, 'html': None, 'document_id': 59622}\n",
      "['stdio', ' int ', ' int ', 'return ', ' int ', ' int ', 'return ']\n",
      "{'text': '트라이는 탐색과 삽입을 지원하는 노드로 구성된 트리이다. 탐색은 키 문자열과 연관된 값을 반환하고, 삽입은 문자열(키)과 그 값을 삽입합니다. 키의 길이가 m일때 탐색과 삽입 모두    시간에 수행된다.\\n\\n다음은 단순한 트라이의 노드를 표현할 수 있는 Node 클래스이다. \\nclass Node:\\n   def __init__(sel\\n        # 이 구현과 같이 dict를 쓰면 하위 노드가 사전순 정렬되지 않는다.\\n        # 따라서 정렬의 예제와는 다르다. 대신 배열을 쓸 수 있다.\\n       self.children: Dict[str, Node] = {}  # 문자를 노드로 대응\\n       self.value: Optional[Any] = None\\n 은 문자에 관해 하위 노드를 담는 사전이다. 노드가 완전한 문자열을 가리킬 때 \\'단말\\' 노드라고 부른다.조회는 다음과 같이 한다. \\ndef find(node: Node, key: str) -> Optional[Any]:\\n  “””node 노드에서 key 키에 대응하는 값을 찾는다.”””\\n  for char in key:\\n    if char in node.children:\\n      node = node.children[char]\\n    else:\\n      return None\\n  return node.value\\n 조회를 약간 고치면 다음과 같이 활용할 수도 있다.\\n\\n* 주어진 접두어로 시작하는 단어가 트라이에 있는지 확인( § 자동 완성 참조)\\n* 주어진 문자열의 접두사 가운데 가장 깊은 노드 찾기\\n\\n삽입은 트라이의 루트부터 삽입할 문자열을 한 문자씩 따라가 트라이에 속하지 않은 경우 나머지를 새 노드로 만들어 붙이는 식으로 진행된다. \\ndef insert(node: Node, key: str, value: Any) -> None:\\n    “””키/값 쌍을 노드에 삽입”””\\n    for char in key:\\n        if char not in node.children:\\n            node.children[char] = Node()\\n        node = node.children[char]\\n    node.value = value\\n 키 삭제는 느긋하게(키에 해당하는 노드에서 값만 지움, lazy) 할 수도 있고, 조급하게(불필요한 노드를 바로 삭제, eager) 할 수도 있다. 다음은 조급한 삭제의 코드이다.  \\ndef delete(root: Node, key: str) -> bool:\\n    \"\"\"\\n    트라이의 루트 노드 root에서 key 키를 조급하게 삭제.\\n    \"\"\"\\n\\n    def _delete(node: Node, key: str, d: int) -> bool:\\n        \"\"\"\\n        키[d]에 해당하는 노드를 비우고 하위 트라이가 비었으면 자식 key[d+1]를 삭제하고,\\n        node가 비었는지 반환\\n        \"\"\"\\n        if d == len(key):\\n            node.value = None\\n        else:\\n            c = key[d]\\n            if c in node.children and _delete(node.children[c], key, d+1):\\n                del node.children[c]\\n        # Return whether the subtrie rooted at `node` is now completely empty\\n        return node.value is None and len(node.children) == 0\\n\\n    _delete(root, key, 0)', 'corpus_source': '위키피디아', 'url': None, 'domain': None, 'title': '트라이 (컴퓨팅)', 'author': None, 'html': None, 'document_id': 59689}\n",
      "['def ', 'def ', 'return ', 'return ', 'def ', 'def ', 'def ', 'return ']\n",
      "{'text': '주어진 접두사를 가진 키의 리스트를 반환하는데 활용할 수 있다. 접두사 검색에서 와일드 카드를 허용하는 방식으로도 수정할 수 있다.  \\ndef keys_with_prefix(root: Node, prefix: str) -> List[str]:\\n    results: List[str] = []\\n    x = _get_node(root, prefix)\\n    _collect(x, list(prefix), results)\\n    return results\\n\\ndef _collect(x: Optional[Node], prefix: List[str], results: List[str]) -> None:\\n    \"\"\"\\n    주어진 접두사 `prefix`에 해당하는 노드 `x` 아래의 키를 `results`에 추가\\n    \"\"\"\\n    if x is None:\\n        return\\n    if x.value is not None:\\n        prefix_str = .join(prefix)\\n        results.append(prefix_str)\\n    for c in x.children:\\n        prefix.append(c)\\n        _collect(x.children[c], prefix, results)\\n        del prefix[-1]  # delete last character\\n\\ndef _get_node(node: Node, key: str) -> Optional[Node]:\\n    \"\"\"\\n    key 키로 노드를 탐색. 앞에서 정의한 `find` 함수와 같지만, 찾은 노드의 값 대신 노드 자체를 반환.\\n    \"\"\"\\n    for char in key:\\n        if char in node.children:\\n            node = node.children[char]\\n        else:\\n            return None\\n    return node', 'corpus_source': '위키피디아', 'url': None, 'domain': None, 'title': '트라이 (컴퓨팅)', 'author': None, 'html': None, 'document_id': 59690}\n",
      "['def ', 'return ', 'def ', 'def ', 'return ', 'return ']\n",
      "코드가 포함된 문서가 91개 더 존재합니다.\n"
     ]
    }
   ],
   "source": [
    "code_set2 = set()\n",
    "num_docs_with_code2 = 0\n",
    "code_pattern = r'(\\+=|\\\\frac|return |stdio|[^C]\\+\\+| int |def |const )'\n",
    "for doc in normalized_wiki.values():\n",
    "    codelike = re.findall(code_pattern, doc[\"text\"])\n",
    "    if codelike:\n",
    "        print(doc)\n",
    "        print(codelike)\n",
    "        code_set2.update(codelike)\n",
    "        num_docs_with_code2 += 1\n",
    "print(f\"코드가 포함된 문서가 {num_docs_with_code2}개 더 존재합니다.\")"
   ]
  },
  {
   "cell_type": "code",
   "execution_count": 46,
   "metadata": {},
   "outputs": [],
   "source": [
    "# 문서 삭제 또는 전처리가 필요한 문서를 수기 분류\n",
    "code_delete = [\"1164\", \"1254\", \"1927\", \"2638\", \"4152\", \"5718\", \"5808\", \"6481\", \"7192\", \"8706\", \"9193\", \"12104\", \"12700\", \"12702\", \"12703\", \"12704\", \"15291\", \"16070\", \"17096\", \"17097\", \"21403\", \"25097\", \"32382\", \"37378\", \"45570\", \"45705\", \"46851\", \"48850\", \"51530\", \"55062\", \"55063\", \"55064\", \"55065\", \"55066\", \"55068\", \"55069\", \"55070\", \"59622\", \"49452\", \"54545\", \"23451\", \"60\", \"26706\"]\n",
    "code_preprocess = [\"362\", \"1255\", \"3868\", \"4916\", \"5809\", \"7394\", \"8422\", \"9384\", \"11668\", \"15292\", \"34273\", \"34292\", \"41663\", \"45189\", \"49013\", \"50502\", \"50992\", \"54440\", \"59474\", \"59689\", \"59690\", \"13630\"]\n"
   ]
  },
  {
   "cell_type": "code",
   "execution_count": 47,
   "metadata": {},
   "outputs": [
    {
     "name": "stdout",
     "output_type": "stream",
     "text": [
      "코드 문서 43개 더 제거 ==> wiki 문서 수: 60538\n"
     ]
    }
   ],
   "source": [
    "for code_id in code_delete:\n",
    "    normalized_wiki.pop(code_id, None)\n",
    "\n",
    "print(f\"코드 문서 {len(code_delete)}개 더 제거 ==> wiki 문서 수: {len(normalized_wiki.keys())}\")"
   ]
  },
  {
   "cell_type": "code",
   "execution_count": 48,
   "metadata": {},
   "outputs": [
    {
     "name": "stdout",
     "output_type": "stream",
     "text": [
      "22개의 문서에서 코드 표현을 전처리하였습니다.\n"
     ]
    }
   ],
   "source": [
    "docs_with_code_preprocessed_path = \"/data/ephemeral/home/jaehyeop/level2-mrc-nlp-11/data/documents_removed_code.json\"\n",
    "with open(docs_with_code_preprocessed_path, \"r\", encoding=\"utf-8\") as f:\n",
    "    docs_with_code_preprocessed = json.load(f)\n",
    "\n",
    "for doc_id, preprocessed_text in docs_with_code_preprocessed.items():\n",
    "    normalized_wiki[doc_id][\"text\"] = preprocessed_text[\"text\"]\n",
    "\n",
    "print(f\"{len(code_preprocess)}개의 문서에서 코드 표현을 전처리하였습니다.\")"
   ]
  },
  {
   "cell_type": "markdown",
   "metadata": {},
   "source": [
    "### HTML TAG 제거"
   ]
  },
  {
   "cell_type": "code",
   "execution_count": 49,
   "metadata": {},
   "outputs": [
    {
     "name": "stdout",
     "output_type": "stream",
     "text": [
      "746개의 문서에서 총 1995개의 HTML 태그를 제거하였습니다.\n",
      "HTML 태그 종류 개수: 195\n",
      "HTML 태그 Ex) ['<mapper namespace=\"org.mybatis.example.BlogMapper\">', '<blockquote class=\"toccolours\" style=\"margin:1px 1px; padding: 10px 15px 10px 15px; display:table; {}\">', '<!-- Web Service offering endpoints for both the bindings-->', '<operation ref=\"tns:Put\" />', '<xs:element name=\"body\" type=\"xs:anyType\" minOccurs=\"0\"/>']\n"
     ]
    }
   ],
   "source": [
    "num_docs_with_html_tag = 0\n",
    "html_tag_set = set()\n",
    "num_html_tag = 0\n",
    "\n",
    "for taglike_word, category in taglike_words_category.items():\n",
    "    if category == \"HTML_TAG\":\n",
    "        html_tag_set.add(taglike_word)                         \n",
    "        for doc_id, doc in normalized_wiki.items():\n",
    "            if taglike_word in doc[\"text\"]:\n",
    "                num_docs_with_html_tag += 1\n",
    "                processed_text = doc[\"text\"]\n",
    "                tags = re.findall(taglike_word, processed_text)\n",
    "                num_html_tag += len(tags)\n",
    "                processed_text = re.sub(taglike_word, \" \", processed_text)\n",
    "                normalized_wiki[doc_id][\"text\"] = processed_text\n",
    "\n",
    "\n",
    "print(f\"{num_docs_with_html_tag}개의 문서에서 총 {num_html_tag}개의 HTML 태그를 제거하였습니다.\")\n",
    "print(f\"HTML 태그 종류 개수: {len(list(html_tag_set))}\")\n",
    "print(f\"HTML 태그 Ex) {list(html_tag_set)[:5]}\")"
   ]
  },
  {
   "cell_type": "markdown",
   "metadata": {},
   "source": [
    "### 페이지 인용 표시 제거"
   ]
  },
  {
   "cell_type": "code",
   "execution_count": 50,
   "metadata": {},
   "outputs": [
    {
     "name": "stdout",
     "output_type": "stream",
     "text": [
      "674개의 문서에서 총 2888개의 페이지 인용 표시를 제거하였습니다.\n",
      "페이지 인용 표시 종류 개수: 1023\n",
      "페이지 인용 표시 Ex) ['p=287', 'p=11', 'pp=94–96', 'pp=13-14', 'p=440']\n"
     ]
    }
   ],
   "source": [
    "# 페이지 인용 표시 찾기\n",
    "num_docs_with_page_ref = 0\n",
    "page_ref_set = set()\n",
    "num_page_ref = 0\n",
    "for doc_id, doc in normalized_wiki.items():\n",
    "    page_refs = re.findall(r'(?:p{1,2}|pages?)=[0-9]+(?:[–-][0-9]+)?', doc[\"text\"])\n",
    "    if not page_refs:\n",
    "        continue\n",
    "    num_page_ref += len(page_refs)\n",
    "    processed_text = doc[\"text\"]\n",
    "    for page_ref in page_refs:\n",
    "        # 연도 표시와 붙어있는 경우 3가지 존재 -> 직접 문자열 수정\n",
    "        if page_ref == \"p=3031818\":\n",
    "            page_ref = \"p=303\"\n",
    "        elif page_ref == \"pages=443–4452015\":\n",
    "            page_ref = \"pages=443–445\"\n",
    "        elif page_ref == \"p=451938\":\n",
    "            page_ref = \"p=45\"\n",
    "        page_ref_set.add(page_ref)\n",
    "        processed_text = re.sub(r'(?:p{1,2}|pages?)=[0-9]+(?:[–-][0-9]+)?', \" \", processed_text)\n",
    "    num_docs_with_page_ref += 1\n",
    "    normalized_wiki[doc_id][\"text\"] = processed_text\n",
    "\n",
    "\n",
    "print(f\"{num_docs_with_page_ref}개의 문서에서 총 {num_page_ref}개의 페이지 인용 표시를 제거하였습니다.\")\n",
    "print(f\"페이지 인용 표시 종류 개수: {len(list(page_ref_set))}\")\n",
    "print(f\"페이지 인용 표시 Ex) {list(page_ref_set)[:5]}\")"
   ]
  },
  {
   "cell_type": "markdown",
   "metadata": {},
   "source": [
    "### URL 제거"
   ]
  },
  {
   "cell_type": "code",
   "execution_count": 51,
   "metadata": {},
   "outputs": [
    {
     "name": "stdout",
     "output_type": "stream",
     "text": [
      "221개의 문서에서 총 431개의 url을 제거하였습니다.\n",
      "url 종류 개수: 350\n",
      "url Ex)\n",
      "['http://www.theatlantic.com/doc/199302/kaplan|periodical=The',\n",
      " 'http://www.seoul-marina.com/marina/16/',\n",
      " 'http://www.zimfree.com',\n",
      " 'http://www.kcomics.net/Artist/view_info.asp?cdidx=3827',\n",
      " 'https://web.archive.org/web/20160401162611/http://apfelboymchen.net/gnu/pronunciation/']\n"
     ]
    }
   ],
   "source": [
    "# URL 제거\n",
    "num_docs_with_urls = 0\n",
    "num_urls = 0\n",
    "url_set = set()\n",
    "url_pattern = r\"https?:/?/?[a-zA-Z0-9.-]+(?:\\.[a-zA-Z]{2,})(?:/[^\\s]*)?\"\n",
    "for doc_id, doc in normalized_wiki.items():\n",
    "    urls = re.findall(url_pattern, doc[\"text\"])\n",
    "    if urls:\n",
    "        num_docs_with_urls += 1\n",
    "        num_urls += len(urls)\n",
    "        url_set.update(urls)\n",
    "        processed_text = doc[\"text\"]\n",
    "        processed_text = re.sub(url_pattern, \" \", processed_text)\n",
    "        normalized_wiki[doc_id][\"text\"] = processed_text\n",
    "\n",
    "\n",
    "print(f\"{num_docs_with_urls}개의 문서에서 총 {num_urls}개의 url을 제거하였습니다.\")\n",
    "print(f\"url 종류 개수: {len(list(url_set))}\")\n",
    "print(f\"url Ex)\")\n",
    "pprint(list(url_set)[:5])"
   ]
  },
  {
   "cell_type": "markdown",
   "metadata": {},
   "source": [
    "### loc 표시 제거"
   ]
  },
  {
   "cell_type": "code",
   "execution_count": 52,
   "metadata": {},
   "outputs": [
    {
     "name": "stdout",
     "output_type": "stream",
     "text": [
      "634개의 문서에서 총 2948개의 loc 표시를 제거하였습니다.\n",
      "loc 표시 종류 개수: 488\n",
      "loc 표시 Ex) ['loc=\"別境心所(별경심소)\"', 'loc=§ 13', 'loc=제20권', 'loc=\"法處所攝色(법처소섭색)\"', 'loc=\"五位\"']\n"
     ]
    }
   ],
   "source": [
    "def find_loc_ref(text):\n",
    "    refs = []\n",
    "    refs.extend(re.findall(r'loc=[0-9]+ and [0-9]+', text))\n",
    "    text = re.sub(r'loc=[0-9]+ and [0-9]+', \" \", text)\n",
    "\n",
    "    refs.extend(re.findall(r'loc=§ [0-9]+ and [0-9]+', text))\n",
    "    text = re.sub(r'loc=§ [0-9]+ and [0-9]+', \" \", text)\n",
    "\n",
    "    refs.extend(re.findall(r'loc=[0-9]+', text))\n",
    "    text = re.sub(r'loc=[0-9]+', \" \", text)\n",
    "\n",
    "    refs.extend(re.findall(r'loc=§ [0-9]+', text))\n",
    "    text = re.sub(r'loc=§ [0-9]+', \" \", text)\n",
    "\n",
    "    refs.extend(re.findall(r'loc=[a-zA-Z0-9 ]+', text))\n",
    "    text = re.sub(r'loc=[a-zA-Z0-9 ]+', \" \", text)\n",
    "\n",
    "    refs.extend(re.findall(r'loc=[^ .]*', text))\n",
    "    text = re.sub(r'loc=[^ .]*', \" \", text)\n",
    "    return text, refs\n",
    "\n",
    "\n",
    "num_locs = 0\n",
    "num_docs_with_locs = 0\n",
    "loc_set = set()\n",
    "for doc_id, doc in normalized_wiki.items():\n",
    "    processed_text = doc[\"text\"]\n",
    "    processed_text, locs = find_loc_ref(processed_text)\n",
    "    if locs:\n",
    "        num_docs_with_locs += 1\n",
    "        num_locs += len(locs)\n",
    "        loc_set.update(locs)\n",
    "        normalized_wiki[doc_id][\"text\"] = processed_text\n",
    "\n",
    "\n",
    "print(f\"{num_docs_with_locs}개의 문서에서 총 {num_locs}개의 loc 표시를 제거하였습니다.\")\n",
    "print(f\"loc 표시 종류 개수: {len(list(loc_set))}\")\n",
    "print(f\"loc 표시 Ex) {list(loc_set)[:5]}\")\n"
   ]
  },
  {
   "cell_type": "markdown",
   "metadata": {},
   "source": [
    "### 주석 문구 제거"
   ]
  },
  {
   "cell_type": "code",
   "execution_count": 53,
   "metadata": {},
   "outputs": [
    {
     "name": "stdout",
     "output_type": "stream",
     "text": [
      "577개의 문서에서 총 1209개의 주석을 제거하였습니다.\n",
      "주석 문구 종류 개수: 993\n",
      "주석 문구 Ex) ['|T.1613| . T31n1613_p0852b04 - T31n1613_p0852b06. 5정진(五精進)|ps\"云何精進。謂懈怠對治。善品現前。勤勇為性。謂若被甲。若加行。若無怯弱。若不退轉。若無喜足。是如此義。圓滿成就。善法為業。\"\\n\\n무착의 《현양성교론》에 따르면, 불교 경전에서는 유세(有勢) 유근(有勤) 유용(有勇) 견맹(堅猛) 불사선액(不捨善軛)이라 명명하고 있다.무착 조, 현장 한역|T.1602| . p. T31n1602_p0481c08 - T31n1602_p0481c11. 정진(精進)|ps= 심소는 마음이 용맹하여 게으름이 없으며, 스스로 가볍고 천하게 하지 않음을 체성으로 삼는다. 해태(懈怠)의 장애를 끊음을 업으로 삼고, 앞에서와 같이 나아가서 정진을 증장함을 업으로 삼는다. 경전에서 “정진을 일으켜서 힘이 있음 용감함 견고하고 용맹스러움에 머물러서 선(善)의 멍에를 버리지 않는다”고 말한 바와 같다.\\n 정진(精進, vīrya) 심소는 ‘정진’의 능력으로서 근(勤)이라고도 하며 부른다. 용맹스럽게 선행을 닦고 악행을 끊게 하는 심리작용이다. 해태(懈怠) 심소를 다스린다.\\n 소[牛]에게 멍에를 씌움으로써 소로 하여금 도망가지 않고 나아가며 충실히 일하게 한다. 선법(善法)도 역시 그러해서 수행자에게 멍에를 씌워 선품(善品)에서 벗어나지 않고 열반에 나아가게 하므로 이렇게 표현한다. 선행은 비록 실천하기 어렵지만 수행자는 중도에 포기하지 않고 감당해나가야 하는 것임을 나타낸다.\"}}', '|Tug of War was a number-one album in both the UK and the US.  〈Ebony and Ivory〉는 빌보드 100에서 1위를 차지한 매카트니의 28번째 싱글이다.  다음 해, 그와 잭슨은 〈Say Say Say〉를 작업했고, 이는   매카트니가 가장 최근에 미국 1위에 오른 것이고, 그해에 나온 그의 음반의 타이틀곡 〈Pipes of Peace〉 또한  , 가장 최근에 영국 1위에 오른싱글이다. group=nb|Pipes of Peace peaked in the UK at number 4, spending 23 weeks in the charts. The LP reached number 15 in the US and is McCartney\\'s most recently recorded RIAA certified platinum studio album  \\n\\n1984년, 매카트니는 자신이 각본을 쓰고, 제작한 뮤지컬 장편 영화 《스타\\xa0탄생》에 출연한다. 링고 스타가 출연하기도 했다. 영화는 비평가들의 엄청난 악평을 받았다. 《버라이어티》는 영화를 \"특징이 없고(characterless), 열정이 없으며(bloodless), 의미가 없다(pointless)\"고 표현했다.  로저 이버트는 영화에 별 하나를 수여하고, \"영화는 건너뛰고, 곧바로 사운드트랙으로 가라\"고 적었다.  음반은 훨씬 사정이 나았고, 영국에서 1위에, 데이비드 길모어가 리드 기타를 맡은 〈No More Lonely Nights〉는 미국에서 탑 텐 히트 싱글에 진입한다.  1985년, 워너 브라더스는 매카트니에게 코미디 영화 《스파이 대소동》의 음악을 쓰게 한다. 그는 〈Spies Like Us〉를 필 레이먼과 함께 프로듀싱하여 4일에 걸쳐 써낸다. group=nb|\"Spies Like Us\" peaked in the UK at number 13 spending 10 weeks in the charts. The single reached number 7 in the US and is McCartney\\'s most recently recorded US top-ten as of 2012. }}', '|T.1558| . p. T29n1558_p0007b14 - T29n1558_p0007b23. 18계 중의 무기(無記)|ps= 말하자면 5색근(色根)과 향·미·촉경이 바로 그것이다. 즉 그것들은 선·불선의 성질이라고 기표할 수 없기 때문에 \\'무기\\'라고 이름한 것이다. 그러나 어떤 이는 설하기를, \"이숙과(異熟果)는 능히 [선·불선으로] 기표할 수 없기 때문에 그것을 일컬어 무기라 한다\"고 하였는데, 만약 그렇다고 한다면 무루는 응당 마땅히 오로지 무기여야 할 것이다.\\n그 밖의 나머지 10계는 선 등의 3성(性)과 통하는 것이니, 이를테면 7심계(心界, 6식계와 의계)로서 무탐(無貪) 등과 상응하는 것을 선이라고 이름하고, 탐 등과 상응하는 것을 일컬어 불선이라 하며, 그 밖의 것과 상응하는 것을 무기라고 이름한다. 법계의 경우, 이러한 무탐 등의 자성과, 상응하는 것과 등기(等起)한 것과 택멸을 선이라고 이름한다. 혹은 탐 등의 자성과, 상응하는 것과 등기한 것을 불선이라고 이름하며, 그 밖의 것을 무기라고 이름한다. 그리고 색계와 성계의 경우, 선·불선심의 힘에 의해 등기한 신·어표업에 포섭되는 것을 바로 선·불선이라 하며, 그 밖의 것은 바로 무기이다.\\n 무기(avyākrta)란 선·불선 어느 것으로도 언표할 수 없는 것으로, 여기에는 다시 유부무기(有覆無記, nivrtāvyākrta)와 무부무기(無覆無記, anivrtāvyākrta)가 있다. 유부무기란 그 자체로서는 무기이지만 번뇌와 상응구기하는 무기이며, 무부무기란 번뇌와 상응하지 않으며, 성도(聖道)를 장애하지 않는 무기로서, 이숙생(異熟生)·위의로(威儀路)·공교처(工巧處)·통과심(通果心) 따위를 말한다. 이를 오로지 무기라고 한, 색·성을 제외한, 8계로 분별해 보면, 이숙무기는 전세의 업이 초래한 심신의 과보로서 5근과 향·미·촉을 말하며, 위의무기는 행(行)·주(住)·좌(坐)·와(臥)와 같은 위의의 상태에서의 향·미·촉을 말하며, 공교무기는 여러 가지 기술을 행하는 상태에서의 향·미·촉을 말하며, 통과(혹은 변화)무기는 신통력에 의해 변화를 나타낼 때의 향·미·촉을 말한다.(『구사론기』 대정장41, p. 35-36)\\n [설일체유부의 5위 75법의 교학에 따르면,] 법계에는 무표색과 마흔여섯 가지 심소, 열네 가지 불상응법, 세 가지 무위 등 총 예순네 가지의 법이 포섭된다. 따라서 여기에는 선의 경우, 그 자체가 선인 자성선(自性善,곧 無貪·無瞋·無癡·慚·愧)과, 자성선과 상응하는 제 심소의 선[相應善]과, 자성선과 함께 일어나는 불상응행의 선[等起善]과, 그리고 궁극의 선인 무위택멸의 승의선[勝義善]이 있다.(본론 권제13, p.624 참조.)\"}}', '|title=Poker Face|type=single|salesamount=250,040|salesref= |relyear=2012|certyear=2012|certref=\\xa0}}', '|T.1|  제14권 〈21. 범동경(梵動經)〉. p. T01n0001_p0092b13 - T01n0001_p0092c10. 유상론(有想論)|quote=을 일으켜 세간에는 생각이 있다고 주장하는데 그것은 다 16견에 들어간다. 말겁 말견에서 상론(想論)을 일으켜 세간에는 생각이 있다고 주장하지만 그것은 다 16견에서 벗어나지 못한다. 저 사문 바라문들은 무슨 일로 인해 말겁 말견에 있어서 상론을 내어 세간에는 생각이 있다고 주장하며, 또 다 16견에 들어가[474 / 740] 쪽벗어나지 못하는가?여러 사문 바라문들은 이와 같은 주장을 하고 이와 같은 견해를 말한다.\\'나는 이 생을 마친 뒤 몸도 있고 생각도 있는 존재[有色有想]로 태어난다. 이것이 진실이고 다른 것은 거짓이다.\\'이것이 초견이다. 여러 사문 바라문들은 이로 인해 말겁 말견에 대해서 상론(想論)을 내어 세간에는 생각이 있다고 주장하는데, 이런 주장은 16견에서 벗어나지 못한다.어떤 자는 말한다.\\'나는 이 생을 마친 뒤에 몸은 없고 생각만 있는 존재[無色有想]로 태어난다. 이것이 진실이고 다른 것은 거짓이다.\\'어떤 자는 말한다.\\'나는 이 생을 마친 뒤에 몸이 있을 수도 있고 몸이 없을 수도 있지만 생각은 있는 존재[有色無色有想]로 태어난다. 이것이 진실이고 다른 것은 거짓이다.\\'어떤 자는 말한다.\\'나는 이 생을 마친 뒤에 몸이 있는 것도 아니고 몸이 없는 것도 아니지만 생각은 있는 존재[非有色非無色有想]로 태어난다. 이것이 진실이고 다른 것은 거짓이다.\\'어떤 자는 말한다.\\'나는 이 생을 마친 뒤에 끝도 있고 생각도 있는 존재[有邊有想]로 태어난다. 이것이 진실이고 다른 것은 거짓이다.\\'어떤 자는 말한다.\\'나는 이 생을 마친 뒤에 끝이 없고 생각만 있는 존재[無邊有想]로 태어난다. 이것이 진실이고 다른 것은 거짓이다.\\'어떤 자는 말한다.\\'나는 이 생을 마친 뒤에 끝이 있기도 하고 끝이 없기도 하면서 생각은 있는 존재[有邊無邊有想]로 태어난다. 이것이 진실이고 다른 것은 거짓이다.\\'어떤 자는 말한다.\\'나는 이 생을 마친 뒤에 끝이 있는 것도 아니고 끝이 없는 것도 아니면서[475 / 740] 쪽생각이 있는 존재[非有邊非無邊有想]로 태어난다. 이것이 진실이고 다른 것은 거짓이다.\\'또 어떤 자는 말한다.\\'나는 이 생을 마친 뒤에 한결같이 즐거움이 있고 생각이 있는 존재[一向有樂有想]로 태어난다. 이것이 진실이고 다른 것은 거짓이다.\\'어떤 자는 말한다.\\'나는 이 생을 마친 뒤에 한결같이 고통이 있고 생각이 있는 존재[一向有苦有想]로 태어난다. 이것이 진실이고 다른 것은 거짓이다.\\'어떤 자는 말한다.\\'나는 이 생을 마친 뒤에 즐거움도 있고 고통도 있으면서 생각이 있는 존재[有樂有苦有想]로 태어난다. 이것이 진실이고 다른 것은 거짓이다.\\'어떤 자는 말한다.\\'나는 이 생을 마친 뒤에 고통스럽지도 않고 즐겁지도 않으면서 생각이 있는 존재[不苦不樂有想]으로 태어난다. 이것이 진실이고 다른 것은 거짓이다.\\'어떤 자는 말한다.\\'나는 이 생을 마친 뒤에 한 가지 생각만 있는 존재[有一想]로 태어난다. 이것이 진실이고 다른 것은 거짓이다.\\'어떤 자는 말한다.\\'나는 이 생을 마친 뒤에 여러 가지 생각이 있는 존재[有若干想]로 태어난다. 이것이 진실이고 다른 것은 거짓이다.\\'어떤 자는 말한다.\\'나는 이 생을 마친 뒤에 생각이 적은 존재[少想]로 태어난다. 이것이 진실이고 다른 것은 거짓이다.\\'어떤 자는 말한다.\\'나는 이 생을 마친 뒤에 한량 없는 생각이 있는 존재[有無量想]로 태어난다. 이것이 진실이고 다른 것은 거짓이다.\\'이것이 16견이다. 여러 사문 바라문들은 말겁 말견에 대해서 상론(想論)을 일으켜 세간에는 생각이 있다고 주장하는데 이것은 16견에서 벗어나지[476 /  740] 쪽못한다.\\n 지각하는 의식은 존재한다는 주장이다.\"}}']\n"
     ]
    }
   ],
   "source": [
    "# | string ... }} 형태 주석 문구 찾기\n",
    "num_docs_with_annotations = 0\n",
    "num_annotations = 0\n",
    "annotation_set = set()\n",
    "for doc_id, doc in normalized_wiki.items():\n",
    "    annotations = re.findall(r'\\|[\\s\\S]*?\\}\\}', doc[\"text\"])\n",
    "    if annotations:\n",
    "        processed_text = doc[\"text\"]\n",
    "        annotation_set.update(annotations)\n",
    "        num_docs_with_annotations += 1\n",
    "        num_annotations += len(annotations)\n",
    "        processed_text = re.sub(r'\\|[\\s\\S]*?\\}\\}', \" \", processed_text)\n",
    "        normalized_wiki[doc_id][\"text\"] = processed_text\n",
    "\n",
    "\n",
    "print(f\"{num_docs_with_annotations}개의 문서에서 총 {num_annotations}개의 주석을 제거하였습니다.\")\n",
    "print(f\"주석 문구 종류 개수: {len(list(annotation_set))}\")\n",
    "print(f\"주석 문구 Ex) {list(annotation_set)[:5]}\")\n"
   ]
  },
  {
   "cell_type": "code",
   "execution_count": 57,
   "metadata": {},
   "outputs": [
    {
     "name": "stdout",
     "output_type": "stream",
     "text": [
      "2159개의 문서가 추가적으로 전처리되었습니다.\n"
     ]
    }
   ],
   "source": [
    "# 기타 삭제, 전처리 필요한 문서 처리\n",
    "\n",
    "need_normalize = [\"1945\", \"1824\", \"2016\", \"7527\", \"28172\", \"37746\", \"39067\"]\n",
    "for doc_id in need_normalize:\n",
    "    if doc_id in normalized_wiki.keys():\n",
    "        normalized_wiki[doc_id][\"text\"] = re.sub(r'[^ ]*\\|[^|]+\\|(?:[^|]+\\|)*[^ \\n]*', \" \", normalized_wiki[doc_id][\"text\"])\n",
    "\n",
    "need_remove = [\"973\", \"1667\", \"1970\", \"3780\", \"3879\", \"4379\", \"5527\", \"6221\", \"8334\", \"8433\", \"8933\", \"9335\", \"9693\", \"10156\", \"11949\", \"13192\", \"14412\", \"22519\", \"26045\", \"32847\", \"39948\", \"40095\", \"41224\", \"43406\", \"56572\", \"59707\"]\n",
    "for doc_id in need_remove:\n",
    "    normalized_wiki.pop(doc_id, None)\n",
    "\n",
    "# | string | string | ... 형태의 주석은 패턴화할 수 없어 openai API를 활용하여 전처리하였음\n",
    "with open(\"/data/ephemeral/home/jaehyeop/level2-mrc-nlp-11/data/documents_removed_annotation.json\", \"r\", encoding=\"utf-8\") as f:\n",
    "    docs_removed_annotations = json.load(f)\n",
    "\n",
    "for doc_id, preprocessed_doc in docs_removed_annotations.items():\n",
    "    if doc_id in normalized_wiki.keys():\n",
    "        normalized_wiki[doc_id][\"text\"] = preprocessed_doc[\"text\"]\n",
    "\n",
    "print(f\"{len(need_normalize) + len(need_remove) + len(docs_removed_annotations.keys())}개의 문서가 추가적으로 전처리되었습니다.\")\n"
   ]
  },
  {
   "cell_type": "code",
   "execution_count": 58,
   "metadata": {},
   "outputs": [
    {
     "name": "stdout",
     "output_type": "stream",
     "text": [
      "최종 전처리된 문서 개수: 60512\n"
     ]
    }
   ],
   "source": [
    "print(f\"최종 전처리된 문서 개수: {len(normalized_wiki.keys())}\")"
   ]
  },
  {
   "cell_type": "code",
   "execution_count": 59,
   "metadata": {},
   "outputs": [],
   "source": [
    "normalized_wikipedia_documents_path = \"/data/ephemeral/home/jaehyeop/level2-mrc-nlp-11/data/normalized_wikipedia_documents.json\"\n",
    "with open(normalized_wikipedia_documents_path, \"w\", encoding=\"utf-8\") as writer:\n",
    "        writer.write(json.dumps(normalized_wiki, indent=4, ensure_ascii=False) + \"\\n\")"
   ]
  },
  {
   "cell_type": "code",
   "execution_count": null,
   "metadata": {},
   "outputs": [],
   "source": [
    "# |string| 형태의 주석 문구 찾기\n",
    "num_docs_with_annotation_type2 = 0\n",
    "annotation_type2_set = set()\n",
    "annotation_dict = {}\n",
    "for doc_id, doc in normalized_wiki.items():\n",
    "    annotations = re.findall(r'[^ ]*\\|[^|]+\\|(?:[^|]+\\|)*[^ ]*', doc[\"text\"])\n",
    "    if not annotations:\n",
    "        continue\n",
    "    print(doc)\n",
    "    print(annotations)\n",
    "    annotation_type2_set.update(annotations)\n",
    "    num_docs_with_annotation_type2 += 1\n",
    "    annotation_dict[doc_id] = doc[\"text\"]\n",
    "\n",
    "annotation_documents = \"/data/ephemeral/home/jaehyeop/level2-mrc-nlp-11/data/documents_with_annotation.json\"\n",
    "with open(annotation_documents, \"w\", encoding=\"utf-8\") as writer:\n",
    "        writer.write(json.dumps(annotation_dict, indent=4, ensure_ascii=False) + \"\\n\")\n",
    "\n",
    "print(f\"주석 문구가 포함된 문서 수: {num_docs_with_annotation_type2}\")\n",
    "print(f\"주석 문구 개수(중복 제거): {len(list(annotation_type2_set))}\")\n",
    "print(f\"주석 문구 Ex) {list(annotation_type2_set)[:5]}\")"
   ]
  }
 ],
 "metadata": {
  "kernelspec": {
   "display_name": "base",
   "language": "python",
   "name": "python3"
  },
  "language_info": {
   "codemirror_mode": {
    "name": "ipython",
    "version": 3
   },
   "file_extension": ".py",
   "mimetype": "text/x-python",
   "name": "python",
   "nbconvert_exporter": "python",
   "pygments_lexer": "ipython3",
   "version": "3.10.13"
  }
 },
 "nbformat": 4,
 "nbformat_minor": 2
}
