{
 "cells": [
  {
   "cell_type": "code",
   "execution_count": 3,
   "metadata": {},
   "outputs": [
    {
     "name": "stderr",
     "output_type": "stream",
     "text": [
      "Map: 100%|██████████| 3952/3952 [00:00<00:00, 5629.21 examples/s]\n",
      "Map: 100%|██████████| 3952/3952 [00:05<00:00, 732.38 examples/s]\n",
      "Map: 100%|██████████| 240/240 [00:00<00:00, 8081.51 examples/s]\n",
      "Map: 100%|██████████| 240/240 [00:00<00:00, 520.68 examples/s]\n"
     ]
    },
    {
     "name": "stdout",
     "output_type": "stream",
     "text": [
      "Dataset({\n",
      "    features: ['input_ids', 'token_type_ids', 'attention_mask', 'start_positions', 'end_positions', 'example_id'],\n",
      "    num_rows: 9623\n",
      "})\n",
      "Dataset({\n",
      "    features: ['input_ids', 'token_type_ids', 'attention_mask', 'offset_mapping', 'example_id'],\n",
      "    num_rows: 588\n",
      "})\n"
     ]
    },
    {
     "name": "stderr",
     "output_type": "stream",
     "text": [
      "Map: 100%|██████████| 3952/3952 [00:00<00:00, 8412.72 examples/s]\n"
     ]
    }
   ],
   "source": [
    "import module.data as module_data\n",
    "from datasets import set_caching_enabled\n",
    "from hydra import initialize, compose\n",
    "\n",
    "# fix random seeds for reproducibility\n",
    "\n",
    "\n",
    "set_caching_enabled(False)\n",
    "with initialize(version_base=None, config_path=\"config/\"):\n",
    "    config = compose(config_name='mrc.yaml')\n",
    "\n",
    "data_module = getattr(module_data, config.data.data_module)(config)\n",
    "data_module.setup()\n",
    "\n",
    "train_examples = data_module.train_examples\n",
    "eval_examples = data_module.eval_examples\n",
    "test_examples = data_module.test_examples\n",
    "\n",
    "preproc_train_examples = data_module.preprocessing(train_examples)\n",
    "preproc_eval_examples = data_module.preprocessing(eval_examples)\n",
    "preproc_test_examples = data_module.preprocessing(test_examples)"
   ]
  },
  {
   "cell_type": "code",
   "execution_count": 6,
   "metadata": {},
   "outputs": [
    {
     "data": {
      "text/html": [
       "미국 상의원 또는 미국 상원(United States Senate)은 양원제인 미국 의회의 상원이다.\\n\\n미국 부통령이 상원의장이 된다. 각 주당 2명의 상원의원이 선출되어 100명의 상원의원으로 구성되어 있다. 임기는 6년이며, 2년마다 50개주 중 1/3씩 상원의원을 새로 선출하여 연방에 보낸다.\\n\\n미국 상원은 미국 하원과는 다르게 미국 대통령을 수반으로 하는 미국 연방 행정부에 각종 동의를 하는 기관이다. 하원이 세금과 경제에 대한 권한, 대통령을 포함한 대다수의 공무원을 파면할 권한을 갖고 있는 국민을 대표하는 기관인 반면 상원은 미국의 주를 대표한다. 즉 캘리포니아주, 일리노이주 같이 주 정부와 주 의회를 대표하는 기관이다. 그로 인하여 군대의 파병, 관료의 임명에 대한 동의, 외국 조약에 대한 승인 등 신속을 요하는 권한은 모두 상원에게만 있다. 그리고 하원에 대한 견제 역할(하원의 법안을 거부할 권한 등)을 담당한다. 2년의 임기로 인하여 급진적일 수밖에 없는 하원은 지나치게 급진적인 법안을 만들기 쉽다. 대표적인 예로 건강보험 개혁 당시 하원이 미국 연방 행정부에게 퍼블릭 옵션(공공건강보험기관)의 조항이 있는 반면 상원의 경우 하원안이 지나치게 세금이 많이 든다는 이유로 퍼블릭 옵션 조항을 제외하고 비영리건강보험기관이나 보험회사가 담당하도록 한 것이다. 이 경우처럼 상원은 하원이나 내각책임제가 빠지기 쉬운 국가들의 국회처럼 걸핏하면 발생하는 의회의 비정상적인 사태를 방지하는 기관이다. 상원은 급박한 처리사항의 경우가 아니면 법안을 먼저 내는 경우가 드물고 하원이 만든 법안을 수정하여 다시 하원에 되돌려보낸다. 이러한 방식으로 단원제가 빠지기 쉬운 함정을 미리 방지하는 것이다.날짜=2017-02-05"
      ],
      "text/plain": [
       "<IPython.core.display.HTML object>"
      ]
     },
     "metadata": {},
     "output_type": "display_data"
    },
    {
     "data": {
      "text/html": [
       "미국상의원또는미국상원(UnitedStatesSenate)은양원제인미국의회의상원이다.\\n\\n미국부통령이상원의장이된다.각주당2명의상원의원이선출되어100명의상원의원으로구성되어있다.임기는6년이며,2년마다50개주중1/3씩상원의원을새로선출하여연방에보낸다.\\n\\n미국상원은미국하원과는다르게미국대통령을수반으로하는미국연방행정부에각종동의를하는기관이다.하원이세금과경제에대한권한,대통령을포함한대다수의공무원을파면할권한을갖고있는국민을대표하는기관인반면상원은미국의주를대표한다.즉캘리포니아주,일리노이주같이주정부와주의회를대표하는기관이다.그로인하여군대의파병,관료의임명에대한동의,외국조약에대한승인등신속을요하는권한은모두상원에게만있다.그리고하원에대한견제역할(하원의법안을거부할권한등)을담당한다.2년의임기로인하여급진적일수밖에없는하원은지나치게급진적인법안을만들기쉽다.대표적인예로건강보험개혁당시하원이미국연방행정부에게퍼블릭옵션(공공건강보험기관)의조항이있는반면상원의경우하원안이지나치게세금이많이든다는이유로퍼블릭옵션조항을제외하고비영리건강보험기관이나보험회사가담당하도록한것이다.이경우처럼상원은하원이나내각책임제가빠지기쉬운국가들의국회처럼걸핏하면발생하는의회의비정상적인사태를방지하는기관이다.상원은급박한처리사항의경우가아니면법안을먼저내는경우가드물고하원이만든법안을수정하여다시하원에되돌려보낸다.이러한방식으로단원제가빠지기쉬운함정을미리방지하는것이다.날짜=2017-02-05"
      ],
      "text/plain": [
       "<IPython.core.display.HTML object>"
      ]
     },
     "metadata": {},
     "output_type": "display_data"
    }
   ],
   "source": [
    "from IPython.display import display, HTML\n",
    "idx = 0\n",
    "\n",
    "display(HTML(train_examples[idx]['context']))\n",
    "display(HTML(preproc_train_examples[idx]['context']))"
   ]
  },
  {
   "cell_type": "code",
   "execution_count": null,
   "metadata": {},
   "outputs": [],
   "source": []
  }
 ],
 "metadata": {
  "kernelspec": {
   "display_name": "base",
   "language": "python",
   "name": "python3"
  },
  "language_info": {
   "codemirror_mode": {
    "name": "ipython",
    "version": 3
   },
   "file_extension": ".py",
   "mimetype": "text/x-python",
   "name": "python",
   "nbconvert_exporter": "python",
   "pygments_lexer": "ipython3",
   "version": "3.10.15"
  }
 },
 "nbformat": 4,
 "nbformat_minor": 2
}
