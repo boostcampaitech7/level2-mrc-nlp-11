{
 "cells": [
  {
   "cell_type": "code",
   "execution_count": null,
   "metadata": {},
   "outputs": [],
   "source": [
    "# 파일 경로 설정\n",
    "file1_path = '/data/ephemeral/home/sangyeop/level2-mrc-nlp-11/outputs/hard_ensemble_results_2.json'\n",
    "file2_path = '/data/ephemeral/home/sangyeop/level2-mrc-nlp-11/outputs/hard_ensemble_results_4.json'\n",
    "\n",
    "# 파일 읽기 함수\n",
    "def read_file(filepath):\n",
    "    data = {}\n",
    "    with open(filepath, 'r', encoding='utf-8') as file:\n",
    "        content = file.read()\n",
    "        # 중괄호 제거 및 개별 항목 분리\n",
    "        content = content.strip().strip('{}')\n",
    "        entries = content.split('\",\\n')\n",
    "        for entry in entries:\n",
    "            if '\": \"' in entry:\n",
    "                key, value = entry.split('\": \"', 1)\n",
    "                key = key.strip().strip('\"')\n",
    "                value = value.strip().strip('\"').rstrip(',')\n",
    "                data[key] = value\n",
    "    return data\n",
    "\n",
    "# 두 파일 데이터 로드\n",
    "data1 = read_file(file1_path)\n",
    "data2 = read_file(file2_path)\n",
    "\n",
    "# 비교 및 카운트 초기화\n",
    "same_count = 0\n",
    "diff_count = 0\n",
    "table_rows = []\n",
    "\n",
    "# 비교 수행\n",
    "for key in data1:\n",
    "    value1 = data1.get(key, \"\")\n",
    "    value2 = data2.get(key, \"N/A\")\n",
    "    if value1 == value2:\n",
    "        same_count += 1\n",
    "        status = \"✅\"\n",
    "    else:\n",
    "        diff_count += 1\n",
    "        status = \"❌\"\n",
    "    # 마크다운 표용 행 추가\n",
    "    table_rows.append(f\"| {key} | {value1} | {value2} | {status} |\")\n",
    "\n",
    "# 비율 계산\n",
    "total = same_count + diff_count\n",
    "ratio_same = (same_count / total) * 100 if total > 0 else 0\n",
    "ratio_diff = (diff_count / total) * 100 if total > 0 else 0\n",
    "\n",
    "# 결과 출력\n",
    "print(f\"같은 답: {same_count}개 ({ratio_same:.2f}%)\")\n",
    "print(f\"다른 답: {diff_count}개 ({ratio_diff:.2f}%)\\n\")\n",
    "\n",
    "# 마크다운 표 출력\n",
    "print(\"| Key | 1번 파일 답변 | 2번 파일 답변 | 동일 여부 |\")\n",
    "print(\"| --- | --- | --- | --- |\")\n",
    "for row in table_rows:\n",
    "    print(row)\n"
   ]
  },
  {
   "cell_type": "code",
   "execution_count": null,
   "metadata": {},
   "outputs": [],
   "source": []
  }
 ],
 "metadata": {
  "kernelspec": {
   "display_name": "base",
   "language": "python",
   "name": "python3"
  },
  "language_info": {
   "codemirror_mode": {
    "name": "ipython",
    "version": 3
   },
   "file_extension": ".py",
   "mimetype": "text/x-python",
   "name": "python",
   "nbconvert_exporter": "python",
   "pygments_lexer": "ipython3",
   "version": "3.10.15"
  }
 },
 "nbformat": 4,
 "nbformat_minor": 2
}
